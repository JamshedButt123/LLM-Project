{
  "nbformat": 4,
  "nbformat_minor": 0,
  "metadata": {
    "colab": {
      "provenance": []
    },
    "kernelspec": {
      "name": "python3",
      "display_name": "Python 3"
    },
    "language_info": {
      "name": "python"
    }
  },
  "cells": [
    {
      "cell_type": "markdown",
      "source": [
        "# **Libraries Install**"
      ],
      "metadata": {
        "id": "kNGgEBDEv_sa"
      }
    },
    {
      "cell_type": "code",
      "execution_count": null,
      "metadata": {
        "colab": {
          "base_uri": "https://localhost:8080/"
        },
        "id": "mMtvoedMvZYN",
        "outputId": "71355d50-ce38-4dcf-e4e4-4a99ded3ff47"
      },
      "outputs": [
        {
          "output_type": "stream",
          "name": "stdout",
          "text": [
            "Requirement already satisfied: langchain in /usr/local/lib/python3.10/dist-packages (0.1.9)\n",
            "Requirement already satisfied: PyYAML>=5.3 in /usr/local/lib/python3.10/dist-packages (from langchain) (6.0.1)\n",
            "Requirement already satisfied: SQLAlchemy<3,>=1.4 in /usr/local/lib/python3.10/dist-packages (from langchain) (2.0.27)\n",
            "Requirement already satisfied: aiohttp<4.0.0,>=3.8.3 in /usr/local/lib/python3.10/dist-packages (from langchain) (3.9.3)\n",
            "Requirement already satisfied: async-timeout<5.0.0,>=4.0.0 in /usr/local/lib/python3.10/dist-packages (from langchain) (4.0.3)\n",
            "Requirement already satisfied: dataclasses-json<0.7,>=0.5.7 in /usr/local/lib/python3.10/dist-packages (from langchain) (0.6.4)\n",
            "Requirement already satisfied: jsonpatch<2.0,>=1.33 in /usr/local/lib/python3.10/dist-packages (from langchain) (1.33)\n",
            "Requirement already satisfied: langchain-community<0.1,>=0.0.21 in /usr/local/lib/python3.10/dist-packages (from langchain) (0.0.24)\n",
            "Requirement already satisfied: langchain-core<0.2,>=0.1.26 in /usr/local/lib/python3.10/dist-packages (from langchain) (0.1.26)\n",
            "Requirement already satisfied: langsmith<0.2.0,>=0.1.0 in /usr/local/lib/python3.10/dist-packages (from langchain) (0.1.8)\n",
            "Requirement already satisfied: numpy<2,>=1 in /usr/local/lib/python3.10/dist-packages (from langchain) (1.25.2)\n",
            "Requirement already satisfied: pydantic<3,>=1 in /usr/local/lib/python3.10/dist-packages (from langchain) (2.6.1)\n",
            "Requirement already satisfied: requests<3,>=2 in /usr/local/lib/python3.10/dist-packages (from langchain) (2.31.0)\n",
            "Requirement already satisfied: tenacity<9.0.0,>=8.1.0 in /usr/local/lib/python3.10/dist-packages (from langchain) (8.2.3)\n",
            "Requirement already satisfied: aiosignal>=1.1.2 in /usr/local/lib/python3.10/dist-packages (from aiohttp<4.0.0,>=3.8.3->langchain) (1.3.1)\n",
            "Requirement already satisfied: attrs>=17.3.0 in /usr/local/lib/python3.10/dist-packages (from aiohttp<4.0.0,>=3.8.3->langchain) (23.2.0)\n",
            "Requirement already satisfied: frozenlist>=1.1.1 in /usr/local/lib/python3.10/dist-packages (from aiohttp<4.0.0,>=3.8.3->langchain) (1.4.1)\n",
            "Requirement already satisfied: multidict<7.0,>=4.5 in /usr/local/lib/python3.10/dist-packages (from aiohttp<4.0.0,>=3.8.3->langchain) (6.0.5)\n",
            "Requirement already satisfied: yarl<2.0,>=1.0 in /usr/local/lib/python3.10/dist-packages (from aiohttp<4.0.0,>=3.8.3->langchain) (1.9.4)\n",
            "Requirement already satisfied: marshmallow<4.0.0,>=3.18.0 in /usr/local/lib/python3.10/dist-packages (from dataclasses-json<0.7,>=0.5.7->langchain) (3.20.2)\n",
            "Requirement already satisfied: typing-inspect<1,>=0.4.0 in /usr/local/lib/python3.10/dist-packages (from dataclasses-json<0.7,>=0.5.7->langchain) (0.9.0)\n",
            "Requirement already satisfied: jsonpointer>=1.9 in /usr/local/lib/python3.10/dist-packages (from jsonpatch<2.0,>=1.33->langchain) (2.4)\n",
            "Requirement already satisfied: anyio<5,>=3 in /usr/local/lib/python3.10/dist-packages (from langchain-core<0.2,>=0.1.26->langchain) (3.7.1)\n",
            "Requirement already satisfied: packaging<24.0,>=23.2 in /usr/local/lib/python3.10/dist-packages (from langchain-core<0.2,>=0.1.26->langchain) (23.2)\n",
            "Requirement already satisfied: orjson<4.0.0,>=3.9.14 in /usr/local/lib/python3.10/dist-packages (from langsmith<0.2.0,>=0.1.0->langchain) (3.9.15)\n",
            "Requirement already satisfied: annotated-types>=0.4.0 in /usr/local/lib/python3.10/dist-packages (from pydantic<3,>=1->langchain) (0.6.0)\n",
            "Requirement already satisfied: pydantic-core==2.16.2 in /usr/local/lib/python3.10/dist-packages (from pydantic<3,>=1->langchain) (2.16.2)\n",
            "Requirement already satisfied: typing-extensions>=4.6.1 in /usr/local/lib/python3.10/dist-packages (from pydantic<3,>=1->langchain) (4.9.0)\n",
            "Requirement already satisfied: charset-normalizer<4,>=2 in /usr/local/lib/python3.10/dist-packages (from requests<3,>=2->langchain) (3.3.2)\n",
            "Requirement already satisfied: idna<4,>=2.5 in /usr/local/lib/python3.10/dist-packages (from requests<3,>=2->langchain) (3.6)\n",
            "Requirement already satisfied: urllib3<3,>=1.21.1 in /usr/local/lib/python3.10/dist-packages (from requests<3,>=2->langchain) (2.0.7)\n",
            "Requirement already satisfied: certifi>=2017.4.17 in /usr/local/lib/python3.10/dist-packages (from requests<3,>=2->langchain) (2024.2.2)\n",
            "Requirement already satisfied: greenlet!=0.4.17 in /usr/local/lib/python3.10/dist-packages (from SQLAlchemy<3,>=1.4->langchain) (3.0.3)\n",
            "Requirement already satisfied: sniffio>=1.1 in /usr/local/lib/python3.10/dist-packages (from anyio<5,>=3->langchain-core<0.2,>=0.1.26->langchain) (1.3.0)\n",
            "Requirement already satisfied: exceptiongroup in /usr/local/lib/python3.10/dist-packages (from anyio<5,>=3->langchain-core<0.2,>=0.1.26->langchain) (1.2.0)\n",
            "Requirement already satisfied: mypy-extensions>=0.3.0 in /usr/local/lib/python3.10/dist-packages (from typing-inspect<1,>=0.4.0->dataclasses-json<0.7,>=0.5.7->langchain) (1.0.0)\n"
          ]
        }
      ],
      "source": [
        "!pip install langchain"
      ]
    },
    {
      "cell_type": "code",
      "source": [
        "!pip install langchain_openai"
      ],
      "metadata": {
        "colab": {
          "base_uri": "https://localhost:8080/"
        },
        "id": "UTexO2QTwLkW",
        "outputId": "a9ce6dc7-4809-4c47-a1cc-fa0fe5ec3c16"
      },
      "execution_count": null,
      "outputs": [
        {
          "output_type": "stream",
          "name": "stdout",
          "text": [
            "Requirement already satisfied: langchain_openai in /usr/local/lib/python3.10/dist-packages (0.0.7)\n",
            "Requirement already satisfied: langchain-core<0.2.0,>=0.1.26 in /usr/local/lib/python3.10/dist-packages (from langchain_openai) (0.1.26)\n",
            "Requirement already satisfied: numpy<2,>=1 in /usr/local/lib/python3.10/dist-packages (from langchain_openai) (1.25.2)\n",
            "Collecting openai<2.0.0,>=1.10.0 (from langchain_openai)\n",
            "  Using cached openai-1.12.0-py3-none-any.whl (226 kB)\n",
            "Requirement already satisfied: tiktoken<1,>=0.5.2 in /usr/local/lib/python3.10/dist-packages (from langchain_openai) (0.6.0)\n",
            "Requirement already satisfied: PyYAML>=5.3 in /usr/local/lib/python3.10/dist-packages (from langchain-core<0.2.0,>=0.1.26->langchain_openai) (6.0.1)\n",
            "Requirement already satisfied: anyio<5,>=3 in /usr/local/lib/python3.10/dist-packages (from langchain-core<0.2.0,>=0.1.26->langchain_openai) (3.7.1)\n",
            "Requirement already satisfied: jsonpatch<2.0,>=1.33 in /usr/local/lib/python3.10/dist-packages (from langchain-core<0.2.0,>=0.1.26->langchain_openai) (1.33)\n",
            "Requirement already satisfied: langsmith<0.2.0,>=0.1.0 in /usr/local/lib/python3.10/dist-packages (from langchain-core<0.2.0,>=0.1.26->langchain_openai) (0.1.8)\n",
            "Requirement already satisfied: packaging<24.0,>=23.2 in /usr/local/lib/python3.10/dist-packages (from langchain-core<0.2.0,>=0.1.26->langchain_openai) (23.2)\n",
            "Requirement already satisfied: pydantic<3,>=1 in /usr/local/lib/python3.10/dist-packages (from langchain-core<0.2.0,>=0.1.26->langchain_openai) (2.6.1)\n",
            "Requirement already satisfied: requests<3,>=2 in /usr/local/lib/python3.10/dist-packages (from langchain-core<0.2.0,>=0.1.26->langchain_openai) (2.31.0)\n",
            "Requirement already satisfied: tenacity<9.0.0,>=8.1.0 in /usr/local/lib/python3.10/dist-packages (from langchain-core<0.2.0,>=0.1.26->langchain_openai) (8.2.3)\n",
            "Requirement already satisfied: distro<2,>=1.7.0 in /usr/lib/python3/dist-packages (from openai<2.0.0,>=1.10.0->langchain_openai) (1.7.0)\n",
            "Requirement already satisfied: httpx<1,>=0.23.0 in /usr/local/lib/python3.10/dist-packages (from openai<2.0.0,>=1.10.0->langchain_openai) (0.27.0)\n",
            "Requirement already satisfied: sniffio in /usr/local/lib/python3.10/dist-packages (from openai<2.0.0,>=1.10.0->langchain_openai) (1.3.0)\n",
            "Requirement already satisfied: tqdm>4 in /usr/local/lib/python3.10/dist-packages (from openai<2.0.0,>=1.10.0->langchain_openai) (4.66.2)\n",
            "Requirement already satisfied: typing-extensions<5,>=4.7 in /usr/local/lib/python3.10/dist-packages (from openai<2.0.0,>=1.10.0->langchain_openai) (4.9.0)\n",
            "Requirement already satisfied: regex>=2022.1.18 in /usr/local/lib/python3.10/dist-packages (from tiktoken<1,>=0.5.2->langchain_openai) (2023.12.25)\n",
            "Requirement already satisfied: idna>=2.8 in /usr/local/lib/python3.10/dist-packages (from anyio<5,>=3->langchain-core<0.2.0,>=0.1.26->langchain_openai) (3.6)\n",
            "Requirement already satisfied: exceptiongroup in /usr/local/lib/python3.10/dist-packages (from anyio<5,>=3->langchain-core<0.2.0,>=0.1.26->langchain_openai) (1.2.0)\n",
            "Requirement already satisfied: certifi in /usr/local/lib/python3.10/dist-packages (from httpx<1,>=0.23.0->openai<2.0.0,>=1.10.0->langchain_openai) (2024.2.2)\n",
            "Requirement already satisfied: httpcore==1.* in /usr/local/lib/python3.10/dist-packages (from httpx<1,>=0.23.0->openai<2.0.0,>=1.10.0->langchain_openai) (1.0.4)\n",
            "Requirement already satisfied: h11<0.15,>=0.13 in /usr/local/lib/python3.10/dist-packages (from httpcore==1.*->httpx<1,>=0.23.0->openai<2.0.0,>=1.10.0->langchain_openai) (0.14.0)\n",
            "Requirement already satisfied: jsonpointer>=1.9 in /usr/local/lib/python3.10/dist-packages (from jsonpatch<2.0,>=1.33->langchain-core<0.2.0,>=0.1.26->langchain_openai) (2.4)\n",
            "Requirement already satisfied: orjson<4.0.0,>=3.9.14 in /usr/local/lib/python3.10/dist-packages (from langsmith<0.2.0,>=0.1.0->langchain-core<0.2.0,>=0.1.26->langchain_openai) (3.9.15)\n",
            "Requirement already satisfied: annotated-types>=0.4.0 in /usr/local/lib/python3.10/dist-packages (from pydantic<3,>=1->langchain-core<0.2.0,>=0.1.26->langchain_openai) (0.6.0)\n",
            "Requirement already satisfied: pydantic-core==2.16.2 in /usr/local/lib/python3.10/dist-packages (from pydantic<3,>=1->langchain-core<0.2.0,>=0.1.26->langchain_openai) (2.16.2)\n",
            "Requirement already satisfied: charset-normalizer<4,>=2 in /usr/local/lib/python3.10/dist-packages (from requests<3,>=2->langchain-core<0.2.0,>=0.1.26->langchain_openai) (3.3.2)\n",
            "Requirement already satisfied: urllib3<3,>=1.21.1 in /usr/local/lib/python3.10/dist-packages (from requests<3,>=2->langchain-core<0.2.0,>=0.1.26->langchain_openai) (2.0.7)\n",
            "Installing collected packages: openai\n",
            "  Attempting uninstall: openai\n",
            "    Found existing installation: openai 0.28.0\n",
            "    Uninstalling openai-0.28.0:\n",
            "      Successfully uninstalled openai-0.28.0\n",
            "Successfully installed openai-1.12.0\n"
          ]
        }
      ]
    },
    {
      "cell_type": "code",
      "source": [
        "!pip freeze | grep open"
      ],
      "metadata": {
        "colab": {
          "base_uri": "https://localhost:8080/"
        },
        "id": "m29aTsSfMvDR",
        "outputId": "e2d43703-6da2-4055-8bc1-00ef639d3b6b"
      },
      "execution_count": null,
      "outputs": [
        {
          "output_type": "stream",
          "name": "stdout",
          "text": [
            "intel-openmp==2023.2.3\n",
            "langchain-openai==0.0.7\n",
            "openai==1.12.0\n",
            "opencv-contrib-python==4.8.0.76\n",
            "opencv-python==4.8.0.76\n",
            "opencv-python-headless==4.9.0.80\n",
            "openpyxl==3.1.2\n",
            "opentelemetry-api==1.23.0\n",
            "opentelemetry-exporter-otlp-proto-common==1.23.0\n",
            "opentelemetry-exporter-otlp-proto-grpc==1.23.0\n",
            "opentelemetry-instrumentation==0.44b0\n",
            "opentelemetry-instrumentation-asgi==0.44b0\n",
            "opentelemetry-instrumentation-fastapi==0.44b0\n",
            "opentelemetry-proto==1.23.0\n",
            "opentelemetry-sdk==1.23.0\n",
            "opentelemetry-semantic-conventions==0.44b0\n",
            "opentelemetry-util-http==0.44b0\n",
            "smart-open==6.4.0\n"
          ]
        }
      ]
    },
    {
      "cell_type": "code",
      "source": [
        "!pip install unstructured"
      ],
      "metadata": {
        "colab": {
          "base_uri": "https://localhost:8080/"
        },
        "id": "aAOKv8VOy9lr",
        "outputId": "b282c595-4504-4542-9511-477b0771a9bf"
      },
      "execution_count": null,
      "outputs": [
        {
          "output_type": "stream",
          "name": "stdout",
          "text": [
            "Requirement already satisfied: unstructured in /usr/local/lib/python3.10/dist-packages (0.12.4)\n",
            "Requirement already satisfied: chardet in /usr/local/lib/python3.10/dist-packages (from unstructured) (5.2.0)\n",
            "Requirement already satisfied: filetype in /usr/local/lib/python3.10/dist-packages (from unstructured) (1.2.0)\n",
            "Requirement already satisfied: python-magic in /usr/local/lib/python3.10/dist-packages (from unstructured) (0.4.27)\n",
            "Requirement already satisfied: lxml in /usr/local/lib/python3.10/dist-packages (from unstructured) (4.9.4)\n",
            "Requirement already satisfied: nltk in /usr/local/lib/python3.10/dist-packages (from unstructured) (3.8.1)\n",
            "Requirement already satisfied: tabulate in /usr/local/lib/python3.10/dist-packages (from unstructured) (0.9.0)\n",
            "Requirement already satisfied: requests in /usr/local/lib/python3.10/dist-packages (from unstructured) (2.31.0)\n",
            "Requirement already satisfied: beautifulsoup4 in /usr/local/lib/python3.10/dist-packages (from unstructured) (4.12.3)\n",
            "Requirement already satisfied: emoji in /usr/local/lib/python3.10/dist-packages (from unstructured) (2.10.1)\n",
            "Requirement already satisfied: dataclasses-json in /usr/local/lib/python3.10/dist-packages (from unstructured) (0.6.4)\n",
            "Requirement already satisfied: python-iso639 in /usr/local/lib/python3.10/dist-packages (from unstructured) (2024.2.7)\n",
            "Requirement already satisfied: langdetect in /usr/local/lib/python3.10/dist-packages (from unstructured) (1.0.9)\n",
            "Requirement already satisfied: numpy in /usr/local/lib/python3.10/dist-packages (from unstructured) (1.25.2)\n",
            "Requirement already satisfied: rapidfuzz in /usr/local/lib/python3.10/dist-packages (from unstructured) (3.6.1)\n",
            "Requirement already satisfied: backoff in /usr/local/lib/python3.10/dist-packages (from unstructured) (2.2.1)\n",
            "Requirement already satisfied: typing-extensions in /usr/local/lib/python3.10/dist-packages (from unstructured) (4.9.0)\n",
            "Requirement already satisfied: unstructured-client>=0.15.1 in /usr/local/lib/python3.10/dist-packages (from unstructured) (0.18.0)\n",
            "Requirement already satisfied: wrapt in /usr/local/lib/python3.10/dist-packages (from unstructured) (1.14.1)\n",
            "Requirement already satisfied: certifi>=2023.7.22 in /usr/local/lib/python3.10/dist-packages (from unstructured-client>=0.15.1->unstructured) (2024.2.2)\n",
            "Requirement already satisfied: charset-normalizer>=3.2.0 in /usr/local/lib/python3.10/dist-packages (from unstructured-client>=0.15.1->unstructured) (3.3.2)\n",
            "Requirement already satisfied: dataclasses-json-speakeasy>=0.5.11 in /usr/local/lib/python3.10/dist-packages (from unstructured-client>=0.15.1->unstructured) (0.5.11)\n",
            "Requirement already satisfied: idna>=3.4 in /usr/local/lib/python3.10/dist-packages (from unstructured-client>=0.15.1->unstructured) (3.6)\n",
            "Requirement already satisfied: jsonpath-python>=1.0.6 in /usr/local/lib/python3.10/dist-packages (from unstructured-client>=0.15.1->unstructured) (1.0.6)\n",
            "Requirement already satisfied: marshmallow>=3.19.0 in /usr/local/lib/python3.10/dist-packages (from unstructured-client>=0.15.1->unstructured) (3.20.2)\n",
            "Requirement already satisfied: mypy-extensions>=1.0.0 in /usr/local/lib/python3.10/dist-packages (from unstructured-client>=0.15.1->unstructured) (1.0.0)\n",
            "Requirement already satisfied: packaging>=23.1 in /usr/local/lib/python3.10/dist-packages (from unstructured-client>=0.15.1->unstructured) (23.2)\n",
            "Requirement already satisfied: python-dateutil>=2.8.2 in /usr/local/lib/python3.10/dist-packages (from unstructured-client>=0.15.1->unstructured) (2.8.2)\n",
            "Requirement already satisfied: six>=1.16.0 in /usr/local/lib/python3.10/dist-packages (from unstructured-client>=0.15.1->unstructured) (1.16.0)\n",
            "Requirement already satisfied: typing-inspect>=0.9.0 in /usr/local/lib/python3.10/dist-packages (from unstructured-client>=0.15.1->unstructured) (0.9.0)\n",
            "Requirement already satisfied: urllib3>=1.26.18 in /usr/local/lib/python3.10/dist-packages (from unstructured-client>=0.15.1->unstructured) (2.0.7)\n",
            "Requirement already satisfied: soupsieve>1.2 in /usr/local/lib/python3.10/dist-packages (from beautifulsoup4->unstructured) (2.5)\n",
            "Requirement already satisfied: click in /usr/local/lib/python3.10/dist-packages (from nltk->unstructured) (8.1.7)\n",
            "Requirement already satisfied: joblib in /usr/local/lib/python3.10/dist-packages (from nltk->unstructured) (1.3.2)\n",
            "Requirement already satisfied: regex>=2021.8.3 in /usr/local/lib/python3.10/dist-packages (from nltk->unstructured) (2023.12.25)\n",
            "Requirement already satisfied: tqdm in /usr/local/lib/python3.10/dist-packages (from nltk->unstructured) (4.66.2)\n"
          ]
        }
      ]
    },
    {
      "cell_type": "code",
      "source": [
        "!pip install unstructured[doc]"
      ],
      "metadata": {
        "colab": {
          "base_uri": "https://localhost:8080/"
        },
        "id": "g-71IoTH0sIt",
        "outputId": "575b036a-8966-4d46-85d0-a60f86e2b8ea"
      },
      "execution_count": null,
      "outputs": [
        {
          "output_type": "stream",
          "name": "stdout",
          "text": [
            "Requirement already satisfied: unstructured[doc] in /usr/local/lib/python3.10/dist-packages (0.12.4)\n",
            "Requirement already satisfied: chardet in /usr/local/lib/python3.10/dist-packages (from unstructured[doc]) (5.2.0)\n",
            "Requirement already satisfied: filetype in /usr/local/lib/python3.10/dist-packages (from unstructured[doc]) (1.2.0)\n",
            "Requirement already satisfied: python-magic in /usr/local/lib/python3.10/dist-packages (from unstructured[doc]) (0.4.27)\n",
            "Requirement already satisfied: lxml in /usr/local/lib/python3.10/dist-packages (from unstructured[doc]) (4.9.4)\n",
            "Requirement already satisfied: nltk in /usr/local/lib/python3.10/dist-packages (from unstructured[doc]) (3.8.1)\n",
            "Requirement already satisfied: tabulate in /usr/local/lib/python3.10/dist-packages (from unstructured[doc]) (0.9.0)\n",
            "Requirement already satisfied: requests in /usr/local/lib/python3.10/dist-packages (from unstructured[doc]) (2.31.0)\n",
            "Requirement already satisfied: beautifulsoup4 in /usr/local/lib/python3.10/dist-packages (from unstructured[doc]) (4.12.3)\n",
            "Requirement already satisfied: emoji in /usr/local/lib/python3.10/dist-packages (from unstructured[doc]) (2.10.1)\n",
            "Requirement already satisfied: dataclasses-json in /usr/local/lib/python3.10/dist-packages (from unstructured[doc]) (0.6.4)\n",
            "Requirement already satisfied: python-iso639 in /usr/local/lib/python3.10/dist-packages (from unstructured[doc]) (2024.2.7)\n",
            "Requirement already satisfied: langdetect in /usr/local/lib/python3.10/dist-packages (from unstructured[doc]) (1.0.9)\n",
            "Requirement already satisfied: numpy in /usr/local/lib/python3.10/dist-packages (from unstructured[doc]) (1.25.2)\n",
            "Requirement already satisfied: rapidfuzz in /usr/local/lib/python3.10/dist-packages (from unstructured[doc]) (3.6.1)\n",
            "Requirement already satisfied: backoff in /usr/local/lib/python3.10/dist-packages (from unstructured[doc]) (2.2.1)\n",
            "Requirement already satisfied: typing-extensions in /usr/local/lib/python3.10/dist-packages (from unstructured[doc]) (4.9.0)\n",
            "Requirement already satisfied: unstructured-client>=0.15.1 in /usr/local/lib/python3.10/dist-packages (from unstructured[doc]) (0.18.0)\n",
            "Requirement already satisfied: wrapt in /usr/local/lib/python3.10/dist-packages (from unstructured[doc]) (1.14.1)\n",
            "Requirement already satisfied: python-docx in /usr/local/lib/python3.10/dist-packages (from unstructured[doc]) (1.1.0)\n",
            "Requirement already satisfied: certifi>=2023.7.22 in /usr/local/lib/python3.10/dist-packages (from unstructured-client>=0.15.1->unstructured[doc]) (2024.2.2)\n",
            "Requirement already satisfied: charset-normalizer>=3.2.0 in /usr/local/lib/python3.10/dist-packages (from unstructured-client>=0.15.1->unstructured[doc]) (3.3.2)\n",
            "Requirement already satisfied: dataclasses-json-speakeasy>=0.5.11 in /usr/local/lib/python3.10/dist-packages (from unstructured-client>=0.15.1->unstructured[doc]) (0.5.11)\n",
            "Requirement already satisfied: idna>=3.4 in /usr/local/lib/python3.10/dist-packages (from unstructured-client>=0.15.1->unstructured[doc]) (3.6)\n",
            "Requirement already satisfied: jsonpath-python>=1.0.6 in /usr/local/lib/python3.10/dist-packages (from unstructured-client>=0.15.1->unstructured[doc]) (1.0.6)\n",
            "Requirement already satisfied: marshmallow>=3.19.0 in /usr/local/lib/python3.10/dist-packages (from unstructured-client>=0.15.1->unstructured[doc]) (3.20.2)\n",
            "Requirement already satisfied: mypy-extensions>=1.0.0 in /usr/local/lib/python3.10/dist-packages (from unstructured-client>=0.15.1->unstructured[doc]) (1.0.0)\n",
            "Requirement already satisfied: packaging>=23.1 in /usr/local/lib/python3.10/dist-packages (from unstructured-client>=0.15.1->unstructured[doc]) (23.2)\n",
            "Requirement already satisfied: python-dateutil>=2.8.2 in /usr/local/lib/python3.10/dist-packages (from unstructured-client>=0.15.1->unstructured[doc]) (2.8.2)\n",
            "Requirement already satisfied: six>=1.16.0 in /usr/local/lib/python3.10/dist-packages (from unstructured-client>=0.15.1->unstructured[doc]) (1.16.0)\n",
            "Requirement already satisfied: typing-inspect>=0.9.0 in /usr/local/lib/python3.10/dist-packages (from unstructured-client>=0.15.1->unstructured[doc]) (0.9.0)\n",
            "Requirement already satisfied: urllib3>=1.26.18 in /usr/local/lib/python3.10/dist-packages (from unstructured-client>=0.15.1->unstructured[doc]) (2.0.7)\n",
            "Requirement already satisfied: soupsieve>1.2 in /usr/local/lib/python3.10/dist-packages (from beautifulsoup4->unstructured[doc]) (2.5)\n",
            "Requirement already satisfied: click in /usr/local/lib/python3.10/dist-packages (from nltk->unstructured[doc]) (8.1.7)\n",
            "Requirement already satisfied: joblib in /usr/local/lib/python3.10/dist-packages (from nltk->unstructured[doc]) (1.3.2)\n",
            "Requirement already satisfied: regex>=2021.8.3 in /usr/local/lib/python3.10/dist-packages (from nltk->unstructured[doc]) (2023.12.25)\n",
            "Requirement already satisfied: tqdm in /usr/local/lib/python3.10/dist-packages (from nltk->unstructured[doc]) (4.66.2)\n"
          ]
        }
      ]
    },
    {
      "cell_type": "code",
      "source": [
        "!sudo apt-get install libreoffice"
      ],
      "metadata": {
        "colab": {
          "base_uri": "https://localhost:8080/"
        },
        "id": "lAXJ81g73VcG",
        "outputId": "c82843fc-3c61-4465-e7d5-ba0c3b4aca67"
      },
      "execution_count": null,
      "outputs": [
        {
          "output_type": "stream",
          "name": "stdout",
          "text": [
            "Reading package lists... Done\n",
            "Building dependency tree... Done\n",
            "Reading state information... Done\n",
            "libreoffice is already the newest version (1:7.3.7-0ubuntu0.22.04.4).\n",
            "0 upgraded, 0 newly installed, 0 to remove and 35 not upgraded.\n"
          ]
        }
      ]
    },
    {
      "cell_type": "code",
      "source": [
        "!libreoffice --version"
      ],
      "metadata": {
        "colab": {
          "base_uri": "https://localhost:8080/"
        },
        "id": "k-SmwCkA3Yy5",
        "outputId": "3d81e8fa-024e-4ff0-f0c2-206a3955af94"
      },
      "execution_count": null,
      "outputs": [
        {
          "output_type": "stream",
          "name": "stdout",
          "text": [
            "LibreOffice 7.3.7.2 30(Build:2)\n",
            "\n"
          ]
        }
      ]
    },
    {
      "cell_type": "code",
      "source": [
        "!pip install pypdf"
      ],
      "metadata": {
        "colab": {
          "base_uri": "https://localhost:8080/"
        },
        "id": "869sawPz5fIr",
        "outputId": "e8eca374-d816-4520-bed1-014e3d9d6158"
      },
      "execution_count": null,
      "outputs": [
        {
          "output_type": "stream",
          "name": "stdout",
          "text": [
            "Requirement already satisfied: pypdf in /usr/local/lib/python3.10/dist-packages (4.0.2)\n"
          ]
        }
      ]
    },
    {
      "cell_type": "code",
      "source": [
        "!pip install spacy"
      ],
      "metadata": {
        "colab": {
          "base_uri": "https://localhost:8080/"
        },
        "id": "HDdr8XOuOxdS",
        "outputId": "8ba54e17-f9c0-49d6-ba60-21e97ccde956"
      },
      "execution_count": null,
      "outputs": [
        {
          "output_type": "stream",
          "name": "stdout",
          "text": [
            "Requirement already satisfied: spacy in /usr/local/lib/python3.10/dist-packages (3.7.4)\n",
            "Requirement already satisfied: spacy-legacy<3.1.0,>=3.0.11 in /usr/local/lib/python3.10/dist-packages (from spacy) (3.0.12)\n",
            "Requirement already satisfied: spacy-loggers<2.0.0,>=1.0.0 in /usr/local/lib/python3.10/dist-packages (from spacy) (1.0.5)\n",
            "Requirement already satisfied: murmurhash<1.1.0,>=0.28.0 in /usr/local/lib/python3.10/dist-packages (from spacy) (1.0.10)\n",
            "Requirement already satisfied: cymem<2.1.0,>=2.0.2 in /usr/local/lib/python3.10/dist-packages (from spacy) (2.0.8)\n",
            "Requirement already satisfied: preshed<3.1.0,>=3.0.2 in /usr/local/lib/python3.10/dist-packages (from spacy) (3.0.9)\n",
            "Requirement already satisfied: thinc<8.3.0,>=8.2.2 in /usr/local/lib/python3.10/dist-packages (from spacy) (8.2.3)\n",
            "Requirement already satisfied: wasabi<1.2.0,>=0.9.1 in /usr/local/lib/python3.10/dist-packages (from spacy) (1.1.2)\n",
            "Requirement already satisfied: srsly<3.0.0,>=2.4.3 in /usr/local/lib/python3.10/dist-packages (from spacy) (2.4.8)\n",
            "Requirement already satisfied: catalogue<2.1.0,>=2.0.6 in /usr/local/lib/python3.10/dist-packages (from spacy) (2.0.10)\n",
            "Requirement already satisfied: weasel<0.4.0,>=0.1.0 in /usr/local/lib/python3.10/dist-packages (from spacy) (0.3.4)\n",
            "Requirement already satisfied: typer<0.10.0,>=0.3.0 in /usr/local/lib/python3.10/dist-packages (from spacy) (0.9.0)\n",
            "Requirement already satisfied: smart-open<7.0.0,>=5.2.1 in /usr/local/lib/python3.10/dist-packages (from spacy) (6.4.0)\n",
            "Requirement already satisfied: tqdm<5.0.0,>=4.38.0 in /usr/local/lib/python3.10/dist-packages (from spacy) (4.66.2)\n",
            "Requirement already satisfied: requests<3.0.0,>=2.13.0 in /usr/local/lib/python3.10/dist-packages (from spacy) (2.31.0)\n",
            "Requirement already satisfied: pydantic!=1.8,!=1.8.1,<3.0.0,>=1.7.4 in /usr/local/lib/python3.10/dist-packages (from spacy) (2.6.1)\n",
            "Requirement already satisfied: jinja2 in /usr/local/lib/python3.10/dist-packages (from spacy) (3.1.3)\n",
            "Requirement already satisfied: setuptools in /usr/local/lib/python3.10/dist-packages (from spacy) (67.7.2)\n",
            "Requirement already satisfied: packaging>=20.0 in /usr/local/lib/python3.10/dist-packages (from spacy) (23.2)\n",
            "Requirement already satisfied: langcodes<4.0.0,>=3.2.0 in /usr/local/lib/python3.10/dist-packages (from spacy) (3.3.0)\n",
            "Requirement already satisfied: numpy>=1.19.0 in /usr/local/lib/python3.10/dist-packages (from spacy) (1.25.2)\n",
            "Requirement already satisfied: annotated-types>=0.4.0 in /usr/local/lib/python3.10/dist-packages (from pydantic!=1.8,!=1.8.1,<3.0.0,>=1.7.4->spacy) (0.6.0)\n",
            "Requirement already satisfied: pydantic-core==2.16.2 in /usr/local/lib/python3.10/dist-packages (from pydantic!=1.8,!=1.8.1,<3.0.0,>=1.7.4->spacy) (2.16.2)\n",
            "Requirement already satisfied: typing-extensions>=4.6.1 in /usr/local/lib/python3.10/dist-packages (from pydantic!=1.8,!=1.8.1,<3.0.0,>=1.7.4->spacy) (4.9.0)\n",
            "Requirement already satisfied: charset-normalizer<4,>=2 in /usr/local/lib/python3.10/dist-packages (from requests<3.0.0,>=2.13.0->spacy) (3.3.2)\n",
            "Requirement already satisfied: idna<4,>=2.5 in /usr/local/lib/python3.10/dist-packages (from requests<3.0.0,>=2.13.0->spacy) (3.6)\n",
            "Requirement already satisfied: urllib3<3,>=1.21.1 in /usr/local/lib/python3.10/dist-packages (from requests<3.0.0,>=2.13.0->spacy) (2.0.7)\n",
            "Requirement already satisfied: certifi>=2017.4.17 in /usr/local/lib/python3.10/dist-packages (from requests<3.0.0,>=2.13.0->spacy) (2024.2.2)\n",
            "Requirement already satisfied: blis<0.8.0,>=0.7.8 in /usr/local/lib/python3.10/dist-packages (from thinc<8.3.0,>=8.2.2->spacy) (0.7.11)\n",
            "Requirement already satisfied: confection<1.0.0,>=0.0.1 in /usr/local/lib/python3.10/dist-packages (from thinc<8.3.0,>=8.2.2->spacy) (0.1.4)\n",
            "Requirement already satisfied: click<9.0.0,>=7.1.1 in /usr/local/lib/python3.10/dist-packages (from typer<0.10.0,>=0.3.0->spacy) (8.1.7)\n",
            "Requirement already satisfied: cloudpathlib<0.17.0,>=0.7.0 in /usr/local/lib/python3.10/dist-packages (from weasel<0.4.0,>=0.1.0->spacy) (0.16.0)\n",
            "Requirement already satisfied: MarkupSafe>=2.0 in /usr/local/lib/python3.10/dist-packages (from jinja2->spacy) (2.1.5)\n"
          ]
        }
      ]
    },
    {
      "cell_type": "code",
      "source": [
        "!pip install chromadb"
      ],
      "metadata": {
        "colab": {
          "base_uri": "https://localhost:8080/"
        },
        "id": "itQRXc6kiCwr",
        "outputId": "c2e24d5e-841a-46d2-94e7-10ab5343a63a"
      },
      "execution_count": null,
      "outputs": [
        {
          "output_type": "stream",
          "name": "stdout",
          "text": [
            "Requirement already satisfied: chromadb in /usr/local/lib/python3.10/dist-packages (0.4.23)\n",
            "Requirement already satisfied: build>=1.0.3 in /usr/local/lib/python3.10/dist-packages (from chromadb) (1.0.3)\n",
            "Requirement already satisfied: requests>=2.28 in /usr/local/lib/python3.10/dist-packages (from chromadb) (2.31.0)\n",
            "Requirement already satisfied: pydantic>=1.9 in /usr/local/lib/python3.10/dist-packages (from chromadb) (2.6.1)\n",
            "Requirement already satisfied: chroma-hnswlib==0.7.3 in /usr/local/lib/python3.10/dist-packages (from chromadb) (0.7.3)\n",
            "Requirement already satisfied: fastapi>=0.95.2 in /usr/local/lib/python3.10/dist-packages (from chromadb) (0.110.0)\n",
            "Requirement already satisfied: uvicorn[standard]>=0.18.3 in /usr/local/lib/python3.10/dist-packages (from chromadb) (0.27.1)\n",
            "Requirement already satisfied: numpy>=1.22.5 in /usr/local/lib/python3.10/dist-packages (from chromadb) (1.25.2)\n",
            "Requirement already satisfied: posthog>=2.4.0 in /usr/local/lib/python3.10/dist-packages (from chromadb) (3.4.2)\n",
            "Requirement already satisfied: typing-extensions>=4.5.0 in /usr/local/lib/python3.10/dist-packages (from chromadb) (4.9.0)\n",
            "Requirement already satisfied: pulsar-client>=3.1.0 in /usr/local/lib/python3.10/dist-packages (from chromadb) (3.4.0)\n",
            "Requirement already satisfied: onnxruntime>=1.14.1 in /usr/local/lib/python3.10/dist-packages (from chromadb) (1.17.1)\n",
            "Requirement already satisfied: opentelemetry-api>=1.2.0 in /usr/local/lib/python3.10/dist-packages (from chromadb) (1.23.0)\n",
            "Requirement already satisfied: opentelemetry-exporter-otlp-proto-grpc>=1.2.0 in /usr/local/lib/python3.10/dist-packages (from chromadb) (1.23.0)\n",
            "Requirement already satisfied: opentelemetry-instrumentation-fastapi>=0.41b0 in /usr/local/lib/python3.10/dist-packages (from chromadb) (0.44b0)\n",
            "Requirement already satisfied: opentelemetry-sdk>=1.2.0 in /usr/local/lib/python3.10/dist-packages (from chromadb) (1.23.0)\n",
            "Requirement already satisfied: tokenizers>=0.13.2 in /usr/local/lib/python3.10/dist-packages (from chromadb) (0.15.2)\n",
            "Requirement already satisfied: pypika>=0.48.9 in /usr/local/lib/python3.10/dist-packages (from chromadb) (0.48.9)\n",
            "Requirement already satisfied: tqdm>=4.65.0 in /usr/local/lib/python3.10/dist-packages (from chromadb) (4.66.2)\n",
            "Requirement already satisfied: overrides>=7.3.1 in /usr/local/lib/python3.10/dist-packages (from chromadb) (7.7.0)\n",
            "Requirement already satisfied: importlib-resources in /usr/local/lib/python3.10/dist-packages (from chromadb) (6.1.1)\n",
            "Requirement already satisfied: grpcio>=1.58.0 in /usr/local/lib/python3.10/dist-packages (from chromadb) (1.60.1)\n",
            "Requirement already satisfied: bcrypt>=4.0.1 in /usr/local/lib/python3.10/dist-packages (from chromadb) (4.1.2)\n",
            "Requirement already satisfied: typer>=0.9.0 in /usr/local/lib/python3.10/dist-packages (from chromadb) (0.9.0)\n",
            "Requirement already satisfied: kubernetes>=28.1.0 in /usr/local/lib/python3.10/dist-packages (from chromadb) (29.0.0)\n",
            "Requirement already satisfied: tenacity>=8.2.3 in /usr/local/lib/python3.10/dist-packages (from chromadb) (8.2.3)\n",
            "Requirement already satisfied: PyYAML>=6.0.0 in /usr/local/lib/python3.10/dist-packages (from chromadb) (6.0.1)\n",
            "Requirement already satisfied: mmh3>=4.0.1 in /usr/local/lib/python3.10/dist-packages (from chromadb) (4.1.0)\n",
            "Requirement already satisfied: orjson>=3.9.12 in /usr/local/lib/python3.10/dist-packages (from chromadb) (3.9.15)\n",
            "Requirement already satisfied: packaging>=19.0 in /usr/local/lib/python3.10/dist-packages (from build>=1.0.3->chromadb) (23.2)\n",
            "Requirement already satisfied: pyproject_hooks in /usr/local/lib/python3.10/dist-packages (from build>=1.0.3->chromadb) (1.0.0)\n",
            "Requirement already satisfied: tomli>=1.1.0 in /usr/local/lib/python3.10/dist-packages (from build>=1.0.3->chromadb) (2.0.1)\n",
            "Requirement already satisfied: starlette<0.37.0,>=0.36.3 in /usr/local/lib/python3.10/dist-packages (from fastapi>=0.95.2->chromadb) (0.36.3)\n",
            "Requirement already satisfied: certifi>=14.05.14 in /usr/local/lib/python3.10/dist-packages (from kubernetes>=28.1.0->chromadb) (2024.2.2)\n",
            "Requirement already satisfied: six>=1.9.0 in /usr/local/lib/python3.10/dist-packages (from kubernetes>=28.1.0->chromadb) (1.16.0)\n",
            "Requirement already satisfied: python-dateutil>=2.5.3 in /usr/local/lib/python3.10/dist-packages (from kubernetes>=28.1.0->chromadb) (2.8.2)\n",
            "Requirement already satisfied: google-auth>=1.0.1 in /usr/local/lib/python3.10/dist-packages (from kubernetes>=28.1.0->chromadb) (2.27.0)\n",
            "Requirement already satisfied: websocket-client!=0.40.0,!=0.41.*,!=0.42.*,>=0.32.0 in /usr/local/lib/python3.10/dist-packages (from kubernetes>=28.1.0->chromadb) (1.7.0)\n",
            "Requirement already satisfied: requests-oauthlib in /usr/local/lib/python3.10/dist-packages (from kubernetes>=28.1.0->chromadb) (1.3.1)\n",
            "Requirement already satisfied: oauthlib>=3.2.2 in /usr/local/lib/python3.10/dist-packages (from kubernetes>=28.1.0->chromadb) (3.2.2)\n",
            "Requirement already satisfied: urllib3>=1.24.2 in /usr/local/lib/python3.10/dist-packages (from kubernetes>=28.1.0->chromadb) (2.0.7)\n",
            "Requirement already satisfied: coloredlogs in /usr/local/lib/python3.10/dist-packages (from onnxruntime>=1.14.1->chromadb) (15.0.1)\n",
            "Requirement already satisfied: flatbuffers in /usr/local/lib/python3.10/dist-packages (from onnxruntime>=1.14.1->chromadb) (23.5.26)\n",
            "Requirement already satisfied: protobuf in /usr/local/lib/python3.10/dist-packages (from onnxruntime>=1.14.1->chromadb) (3.20.3)\n",
            "Requirement already satisfied: sympy in /usr/local/lib/python3.10/dist-packages (from onnxruntime>=1.14.1->chromadb) (1.12)\n",
            "Requirement already satisfied: deprecated>=1.2.6 in /usr/local/lib/python3.10/dist-packages (from opentelemetry-api>=1.2.0->chromadb) (1.2.14)\n",
            "Requirement already satisfied: importlib-metadata<7.0,>=6.0 in /usr/local/lib/python3.10/dist-packages (from opentelemetry-api>=1.2.0->chromadb) (6.11.0)\n",
            "Requirement already satisfied: googleapis-common-protos~=1.52 in /usr/local/lib/python3.10/dist-packages (from opentelemetry-exporter-otlp-proto-grpc>=1.2.0->chromadb) (1.62.0)\n",
            "Requirement already satisfied: opentelemetry-exporter-otlp-proto-common==1.23.0 in /usr/local/lib/python3.10/dist-packages (from opentelemetry-exporter-otlp-proto-grpc>=1.2.0->chromadb) (1.23.0)\n",
            "Requirement already satisfied: opentelemetry-proto==1.23.0 in /usr/local/lib/python3.10/dist-packages (from opentelemetry-exporter-otlp-proto-grpc>=1.2.0->chromadb) (1.23.0)\n",
            "Requirement already satisfied: opentelemetry-instrumentation-asgi==0.44b0 in /usr/local/lib/python3.10/dist-packages (from opentelemetry-instrumentation-fastapi>=0.41b0->chromadb) (0.44b0)\n",
            "Requirement already satisfied: opentelemetry-instrumentation==0.44b0 in /usr/local/lib/python3.10/dist-packages (from opentelemetry-instrumentation-fastapi>=0.41b0->chromadb) (0.44b0)\n",
            "Requirement already satisfied: opentelemetry-semantic-conventions==0.44b0 in /usr/local/lib/python3.10/dist-packages (from opentelemetry-instrumentation-fastapi>=0.41b0->chromadb) (0.44b0)\n",
            "Requirement already satisfied: opentelemetry-util-http==0.44b0 in /usr/local/lib/python3.10/dist-packages (from opentelemetry-instrumentation-fastapi>=0.41b0->chromadb) (0.44b0)\n",
            "Requirement already satisfied: setuptools>=16.0 in /usr/local/lib/python3.10/dist-packages (from opentelemetry-instrumentation==0.44b0->opentelemetry-instrumentation-fastapi>=0.41b0->chromadb) (67.7.2)\n",
            "Requirement already satisfied: wrapt<2.0.0,>=1.0.0 in /usr/local/lib/python3.10/dist-packages (from opentelemetry-instrumentation==0.44b0->opentelemetry-instrumentation-fastapi>=0.41b0->chromadb) (1.14.1)\n",
            "Requirement already satisfied: asgiref~=3.0 in /usr/local/lib/python3.10/dist-packages (from opentelemetry-instrumentation-asgi==0.44b0->opentelemetry-instrumentation-fastapi>=0.41b0->chromadb) (3.7.2)\n",
            "Requirement already satisfied: monotonic>=1.5 in /usr/local/lib/python3.10/dist-packages (from posthog>=2.4.0->chromadb) (1.6)\n",
            "Requirement already satisfied: backoff>=1.10.0 in /usr/local/lib/python3.10/dist-packages (from posthog>=2.4.0->chromadb) (2.2.1)\n",
            "Requirement already satisfied: annotated-types>=0.4.0 in /usr/local/lib/python3.10/dist-packages (from pydantic>=1.9->chromadb) (0.6.0)\n",
            "Requirement already satisfied: pydantic-core==2.16.2 in /usr/local/lib/python3.10/dist-packages (from pydantic>=1.9->chromadb) (2.16.2)\n",
            "Requirement already satisfied: charset-normalizer<4,>=2 in /usr/local/lib/python3.10/dist-packages (from requests>=2.28->chromadb) (3.3.2)\n",
            "Requirement already satisfied: idna<4,>=2.5 in /usr/local/lib/python3.10/dist-packages (from requests>=2.28->chromadb) (3.6)\n",
            "Requirement already satisfied: huggingface_hub<1.0,>=0.16.4 in /usr/local/lib/python3.10/dist-packages (from tokenizers>=0.13.2->chromadb) (0.20.3)\n",
            "Requirement already satisfied: click<9.0.0,>=7.1.1 in /usr/local/lib/python3.10/dist-packages (from typer>=0.9.0->chromadb) (8.1.7)\n",
            "Requirement already satisfied: h11>=0.8 in /usr/local/lib/python3.10/dist-packages (from uvicorn[standard]>=0.18.3->chromadb) (0.14.0)\n",
            "Requirement already satisfied: httptools>=0.5.0 in /usr/local/lib/python3.10/dist-packages (from uvicorn[standard]>=0.18.3->chromadb) (0.6.1)\n",
            "Requirement already satisfied: python-dotenv>=0.13 in /usr/local/lib/python3.10/dist-packages (from uvicorn[standard]>=0.18.3->chromadb) (1.0.1)\n",
            "Requirement already satisfied: uvloop!=0.15.0,!=0.15.1,>=0.14.0 in /usr/local/lib/python3.10/dist-packages (from uvicorn[standard]>=0.18.3->chromadb) (0.19.0)\n",
            "Requirement already satisfied: watchfiles>=0.13 in /usr/local/lib/python3.10/dist-packages (from uvicorn[standard]>=0.18.3->chromadb) (0.21.0)\n",
            "Requirement already satisfied: websockets>=10.4 in /usr/local/lib/python3.10/dist-packages (from uvicorn[standard]>=0.18.3->chromadb) (12.0)\n",
            "Requirement already satisfied: cachetools<6.0,>=2.0.0 in /usr/local/lib/python3.10/dist-packages (from google-auth>=1.0.1->kubernetes>=28.1.0->chromadb) (5.3.2)\n",
            "Requirement already satisfied: pyasn1-modules>=0.2.1 in /usr/local/lib/python3.10/dist-packages (from google-auth>=1.0.1->kubernetes>=28.1.0->chromadb) (0.3.0)\n",
            "Requirement already satisfied: rsa<5,>=3.1.4 in /usr/local/lib/python3.10/dist-packages (from google-auth>=1.0.1->kubernetes>=28.1.0->chromadb) (4.9)\n",
            "Requirement already satisfied: filelock in /usr/local/lib/python3.10/dist-packages (from huggingface_hub<1.0,>=0.16.4->tokenizers>=0.13.2->chromadb) (3.13.1)\n",
            "Requirement already satisfied: fsspec>=2023.5.0 in /usr/local/lib/python3.10/dist-packages (from huggingface_hub<1.0,>=0.16.4->tokenizers>=0.13.2->chromadb) (2023.6.0)\n",
            "Requirement already satisfied: zipp>=0.5 in /usr/local/lib/python3.10/dist-packages (from importlib-metadata<7.0,>=6.0->opentelemetry-api>=1.2.0->chromadb) (3.17.0)\n",
            "Requirement already satisfied: anyio<5,>=3.4.0 in /usr/local/lib/python3.10/dist-packages (from starlette<0.37.0,>=0.36.3->fastapi>=0.95.2->chromadb) (3.7.1)\n",
            "Requirement already satisfied: humanfriendly>=9.1 in /usr/local/lib/python3.10/dist-packages (from coloredlogs->onnxruntime>=1.14.1->chromadb) (10.0)\n",
            "Requirement already satisfied: mpmath>=0.19 in /usr/local/lib/python3.10/dist-packages (from sympy->onnxruntime>=1.14.1->chromadb) (1.3.0)\n",
            "Requirement already satisfied: sniffio>=1.1 in /usr/local/lib/python3.10/dist-packages (from anyio<5,>=3.4.0->starlette<0.37.0,>=0.36.3->fastapi>=0.95.2->chromadb) (1.3.0)\n",
            "Requirement already satisfied: exceptiongroup in /usr/local/lib/python3.10/dist-packages (from anyio<5,>=3.4.0->starlette<0.37.0,>=0.36.3->fastapi>=0.95.2->chromadb) (1.2.0)\n",
            "Requirement already satisfied: pyasn1<0.6.0,>=0.4.6 in /usr/local/lib/python3.10/dist-packages (from pyasn1-modules>=0.2.1->google-auth>=1.0.1->kubernetes>=28.1.0->chromadb) (0.5.1)\n"
          ]
        }
      ]
    },
    {
      "cell_type": "code",
      "source": [
        "!pip install fpdf\n"
      ],
      "metadata": {
        "colab": {
          "base_uri": "https://localhost:8080/"
        },
        "id": "s2SYK0bPWG33",
        "outputId": "bbd86b7f-a369-4a67-f62f-2492929af98a"
      },
      "execution_count": null,
      "outputs": [
        {
          "output_type": "stream",
          "name": "stdout",
          "text": [
            "Collecting fpdf\n",
            "  Downloading fpdf-1.7.2.tar.gz (39 kB)\n",
            "  Preparing metadata (setup.py) ... \u001b[?25l\u001b[?25hdone\n",
            "Building wheels for collected packages: fpdf\n",
            "  Building wheel for fpdf (setup.py) ... \u001b[?25l\u001b[?25hdone\n",
            "  Created wheel for fpdf: filename=fpdf-1.7.2-py2.py3-none-any.whl size=40703 sha256=fa7ae702eda507189894380d8cf6b71f330667bc17d4c85938fcca3b00fb80b8\n",
            "  Stored in directory: /root/.cache/pip/wheels/f9/95/ba/f418094659025eb9611f17cbcaf2334236bf39a0c3453ea455\n",
            "Successfully built fpdf\n",
            "Installing collected packages: fpdf\n",
            "Successfully installed fpdf-1.7.2\n"
          ]
        }
      ]
    },
    {
      "cell_type": "markdown",
      "source": [
        "# **import Libaries**"
      ],
      "metadata": {
        "id": "srxyOEC1wTFG"
      }
    },
    {
      "cell_type": "code",
      "source": [
        "from langchain_openai import ChatOpenAI, OpenAIEmbeddings\n",
        "from langchain_core.prompts import ChatPromptTemplate, MessagesPlaceholder\n",
        "from langchain_community.document_loaders import DirectoryLoader\n",
        "from langchain_community.document_loaders import UnstructuredWordDocumentLoader\n",
        "from langchain_community.document_loaders import PyPDFLoader\n",
        "from langchain_community.document_loaders.merge import MergedDataLoader\n",
        "from langchain.text_splitter import RecursiveCharacterTextSplitter\n",
        "from langchain_community.vectorstores import Chroma\n",
        "from langchain.memory import ChatMessageHistory\n",
        "from langchain.chains.combine_documents import create_stuff_documents_chain\n",
        "import openai\n"
      ],
      "metadata": {
        "id": "WwjE780wwRM8"
      },
      "execution_count": null,
      "outputs": []
    },
    {
      "cell_type": "markdown",
      "source": [
        "# **Model Build**"
      ],
      "metadata": {
        "id": "_sQ3gytRjOdD"
      }
    },
    {
      "cell_type": "code",
      "source": [
        "# Load Model\n",
        "model = ChatOpenAI(model=\"gpt-3.5-turbo-1106\", temperature=0.2, openai_api_key=\"sk---------------------------\")"
      ],
      "metadata": {
        "id": "MWP6yGg9whTs"
      },
      "execution_count": null,
      "outputs": []
    },
    {
      "cell_type": "markdown",
      "source": [
        "# **Template**"
      ],
      "metadata": {
        "id": "fftVa145jS1H"
      }
    },
    {
      "cell_type": "code",
      "source": [
        "# Template\n",
        "prompt = ChatPromptTemplate.from_messages([\n",
        "    (\"system\",\"Answer the user's questions based on the below context:\\n\\n{context}\",),\n",
        "    MessagesPlaceholder(variable_name=\"message\"),\n",
        "])"
      ],
      "metadata": {
        "id": "dtYc1gw6wpAC"
      },
      "execution_count": null,
      "outputs": []
    },
    {
      "cell_type": "code",
      "source": [
        "# Chain\n",
        "chain = prompt | model"
      ],
      "metadata": {
        "id": "3rTHc8XlyAzZ"
      },
      "execution_count": null,
      "outputs": []
    },
    {
      "cell_type": "markdown",
      "source": [
        "# **Load Data**"
      ],
      "metadata": {
        "id": "NK3Mxmo074jr"
      }
    },
    {
      "cell_type": "markdown",
      "source": [
        "## **Load Text Data**"
      ],
      "metadata": {
        "id": "_mHAWAa1z_rL"
      }
    },
    {
      "cell_type": "code",
      "source": [
        "# Load Data\n",
        "\n",
        "text_data = DirectoryLoader(\"/content/sample_data/Chatbot Data\",glob=\"**/*.txt\").load()\n",
        "len(text_data)"
      ],
      "metadata": {
        "colab": {
          "base_uri": "https://localhost:8080/"
        },
        "id": "7tfq5vzJyJ8Q",
        "outputId": "6eed882f-6c3b-429c-8d1a-723ce035c1e9"
      },
      "execution_count": null,
      "outputs": [
        {
          "output_type": "stream",
          "name": "stderr",
          "text": [
            "[nltk_data] Downloading package punkt to /root/nltk_data...\n",
            "[nltk_data]   Unzipping tokenizers/punkt.zip.\n",
            "[nltk_data] Downloading package averaged_perceptron_tagger to\n",
            "[nltk_data]     /root/nltk_data...\n",
            "[nltk_data]   Unzipping taggers/averaged_perceptron_tagger.zip.\n"
          ]
        },
        {
          "output_type": "execute_result",
          "data": {
            "text/plain": [
              "2"
            ]
          },
          "metadata": {},
          "execution_count": 28
        }
      ]
    },
    {
      "cell_type": "code",
      "source": [
        "# Combine Text Data\n",
        "#text_doc = [doc.page_content for doc in text_data]\n",
        "#text_doc"
      ],
      "metadata": {
        "id": "kJDPfTD4yt5z"
      },
      "execution_count": null,
      "outputs": []
    },
    {
      "cell_type": "code",
      "source": [
        "text_data"
      ],
      "metadata": {
        "colab": {
          "base_uri": "https://localhost:8080/"
        },
        "id": "gRIDLAeNyzDt",
        "outputId": "b23f89f6-8ccf-40fc-cc04-3abf7fe87c07"
      },
      "execution_count": null,
      "outputs": [
        {
          "output_type": "execute_result",
          "data": {
            "text/plain": [
              "[Document(page_content=\"Creating Your Business Plan: Templates and Examples\\n\\nAre you an entrepreneur or aspiring to be one? Do you have a business idea but don't know where to\\n\\nstart? Look no further, because creating a solid business plan is the first step towards turning your idea\\n\\ninto a successful business.\\n\\nWhat is a Business Plan and How Important Is It?\\n\\nA business plan is a written document that outlines a company's goals, strategies, and potential\\n\\nchallenges. It serves as a roadmap, providing clear direction and defining the steps necessary for a\\n\\ncompany's success.\\n\\nIn Switzerland, a business plan is particularly important because it helps entrepreneurs and investors\\n\\nassess the feasibility of a business idea in a competitive market. A well-developed business plan can:\\n\\nHighlight the potential for success.\\n\\nIdentify challenges.\\n\\nProvide a clear path for business growth.\\n\\nFacilitate obtaining financing from investors and banks.\\n\\nHow to Create a Business Plan:\\n\\nWhen creating a business plan, it's essential to focus on its content. Understanding what to include is\\n\\ncrucial for its success. The typical content of a business plan includes:\\n\\n1. Summary: Highlighting objectives, mission, target market, products/services, and financial\\n\\nprojections. This section should grab attention and emphasize the most critical aspects of your business.\\n\\n2. Company Description: Detailed information about your business, including history, location,\\n\\nlegal structure, ownership, products/services, and competitive advantages.3. Market Analysis: In-depth market analysis, including the industry sector, target market, and an\\n\\nevaluation of competition to identify potential opportunities and challenges.\\n\\n4. Product/Service Description: Detailed features, benefits, and advantages of your products or\\n\\nservices, emphasizing what sets you apart from competitors.\\n\\n5. Marketing and Sales Strategies: Explanation of how you will promote your business, reach your\\n\\ntarget market, and generate sales, including any pricing strategies.\\n\\n6. Operations: Detailed description of daily business operations, including facilities, equipment,\\n\\nstaffing requirements, and any legal permits or licenses needed.\\n\\n7. Financial Projections: Revenue and expense forecasts, financial statements such as balance\\n\\nsheets, income statements, and cash flow statements to assess your business's financial health.\\n\\n8. Appendix: Additional relevant information, such as key personnel resumes, patents or\\n\\ntrademarks, and supporting documents.\\n\\n9. Regular Review: It's essential to periodically revise your business plan as your business grows\\n\\nand evolves to ensure its relevance and effectiveness.\\n\\nWhy Choose Calliopée to Help You Create Your Business Plan?\\n\\nOur team boasts extensive experience in the business planning process, offering personalized advice\\n\\ntailored to your unique needs. Our collaborative approach ensures close teamwork, enabling you to\\n\\nshare your ideas, goals, and aspirations. Here's why you should choose Calliopée:\\n\\n1. Transparent Communication: We prioritize transparent communication to ensure your business\\n\\nplan accurately reflects your values and ambitions.\\n\\n2. Models and Examples: By partnering with us, you gain access to proven business plan templates\\n\\nand examples, along with state-of-the-art tools and resources to simplify the creative process.3. Guided Support: We provide step-by-step guidance to ensure your business plan is\\n\\ncomprehensive, compelling, and of the highest quality.\", metadata={'source': '/content/sample_data/Chatbot Data/Busness Plan Creation.txt'}),\n",
              " Document(page_content=\"**Mastering Project Management: PMI and SCRUM Approaches**\\n\\nLearn how to create and execute your project effectively using PMI and SCRUM methodologies in just 36\\n\\ndays with ProjectMaster, the most comprehensive project management program.\\n\\n**ProjectMaster Features:**\\n\\nFull 6-week ProjectMaster training program.\\n\\nAccess to ProjectMaster document templates.\\n\\nBONUS: Tests and level checks to qualify for PMP or SCRUM certification preparation.\\n\\nOptional individual or group coaching sessions conducted remotely to help you analyze, plan, and\\n\\npresent your project effectively.\\n\\n**Pricing:**\\n\\nCourse platform: CHF 997 or 12 x CHF 99\\n\\nSmall group coaching: CHF 720 or 12 x CHF 67\\n\\nIndividualized coaching: CHF 1,720 or 12 x CHF 150\\n\\n**Register now | Contact us**\\n\\n**Objective:**\\n\\nObtain essential worldwide-recognized tools and techniques from an experienced Project Manager and\\n\\nvalidate your achievements.\\n\\n**Training Duration:**\\n\\n12 months\\n\\n**Course Format:**\\n\\nOnline, including videos, webinars, and documents.If you aspire to become a project manager proficient in both predictive and agile project management\\n\\napproaches, aligned with PMI and SCRUM standards, this program is tailored for you. Whether you\\n\\nmanage projects in your organization or privately, acquiring these tools can make a substantial difference\\n\\nin your career.\\n\\n**Are you in this situation? **\\n\\nMany project managers, despite their experience, lack formal training in project management\\n\\nmethodologies, which can lead to inefficiencies and reduced confidence in their abilities.\\n\\nProjectMaster is here to bridge that gap.\\n\\n**What is ProjectMaster? **\\n\\nProjectMaster is a 6-week online course with optional individual or team coaching. It equips you with\\n\\nsought-after tools and techniques to manage professional and personal projects effectively.\\n\\n**Who is it for? **\\n\\nProjectMaster is designed for anyone looking to gain expertise in project management tools and\\n\\ntechniques, including Project Managers, Project Assistants, Department Managers, and specialists from\\n\\nvarious domains such as HR, Marketing, and Technical Business.\\n\\n**No prior qualifications required:**\\n\\nYou don't need specific qualifications to enroll; ProjectMaster covers the fundamentals of predictive and\\n\\nagile project management. For PMP or SCRUM certifications, prerequisites will be provided in relevant\\n\\ncourses.\\n\\n**How does it work? **1) Review course videos and materials.\\n\\n2) Apply the tools and bonuses to your projects.\\n\\n3) Opt for individual or team coaching, present your project's progress, create a project plan, and receive\\n\\npersonalized feedback.\\n\\n**Start at Your Convenience:**\\n\\nProjectMaster is an online program, so you can begin whenever you're ready. You have 12 months of\\n\\naccess to the platform. Coaching sessions will be scheduled within 5 days of your registration.\\n\\n**Why ProjectMaster? **\\n\\nThis program was created to offer flexible, self-paced learning combined with regular interaction to\\n\\nsupport participants throughout their journey. Over 3,000 people have benefited from ProjectMaster.\\n\\n**Meet Patricia Malanda:**\\n\\nPatricia is the founder of the ProjectMaster Method and co-founder of Calliopée Sàrl in Geneva. She has\\n\\n30 years of experience in various fields and holds certifications as a PMP, ScrumMaster, and Success\\n\\nInsights.\\n\\n**Additional Bonus:**\\n\\nIn addition to the video training platform, you'll receive FREE ProjectMaster documents and benchmarks\\n\\nto:\\n\\nImmediately apply theoretical concepts to your projects.\\n\\nCreate a document database for your organization.\\n\\nModify and adapt templates to your specific needs.\\n\\nValidate your knowledge and readiness for PMP or SCRUM certification. **Frequently Asked Questions:**\\n\\nWill this method work for my project?\\n\\nYes, the tools and techniques taught are applicable to various project types.\\n\\nIs it suitable for different cultures or countries?\\n\\nProject management is based on international standards, making it universally applicable.\\n\\nHow long is the access to the training program?\\n\\nYou have 12 months of access to the program and bonus materials. Coaching sessions are included if\\n\\nyou choose that option.\\n\\nAre any qualifications required?\\n\\nNo specific qualifications are needed to start the training. Prerequisites for certifications are provided\\n\\nin related courses.\\n\\nCan this program facilitate a career change?\\n\\nAbsolutely! Proficiency in project management is highly sought after and can lead to career growth.\\n\\nHow long does it take to complete the program?\\n\\nYou can complete it in about 10 days, but you have up to 12 months to finish at your own pace.\\n\\n**Register now | Contact us**\\n\\nAddress: Rue de Chantepoulet 10, 1201 Geneva\\n\\nEmail: info@calliopee.ch\\n\\nPhone: +41 22 564 20 30\\n\\n**Learn more:**[Link to Business Plan Swiss - Models and Examples for Creation and Development]\\n\\n[Link to Taxe sur la Valeur Ajoutée (TVA) - Applicable Rates in Switzerland in 2023 and Changes in 2024]\\n\\n[Link to Domiciliation of Companies in Switzerland: Advantages, Options, and Service Choices]\\n\\nPlease note that the URLs for additional information have not been provided in the text. *\", metadata={'source': '/content/sample_data/Chatbot Data/Project Management.txt'})]"
            ]
          },
          "metadata": {},
          "execution_count": 30
        }
      ]
    },
    {
      "cell_type": "markdown",
      "source": [
        "## **Load Word Files**"
      ],
      "metadata": {
        "id": "cjVTv5Yu0FNg"
      }
    },
    {
      "cell_type": "code",
      "source": [
        "import glob\n",
        "glob.glob(\"/content/sample_data/Chatbot Data/*\")"
      ],
      "metadata": {
        "colab": {
          "base_uri": "https://localhost:8080/"
        },
        "id": "8mRu5VNjzxdF",
        "outputId": "1842cf96-1bfc-49a1-aeba-10486511fa94"
      },
      "execution_count": null,
      "outputs": [
        {
          "output_type": "execute_result",
          "data": {
            "text/plain": [
              "['/content/sample_data/Chatbot Data/PMI ATP Instructors Partnership.doc',\n",
              " '/content/sample_data/Chatbot Data/Domiciliations.pdf',\n",
              " '/content/sample_data/Chatbot Data/How to Prepare for a Job Interview and Negotiate the Best Possible Contract.doc',\n",
              " '/content/sample_data/Chatbot Data/Busness Plan Creation.txt',\n",
              " '/content/sample_data/Chatbot Data/Project Management.txt',\n",
              " '/content/sample_data/Chatbot Data/Company Domiciliation in Switzerland.pdf',\n",
              " '/content/sample_data/Chatbot Data/Fiduciary Services in Geneva.pdf']"
            ]
          },
          "metadata": {},
          "execution_count": 31
        }
      ]
    },
    {
      "cell_type": "code",
      "source": [
        "# Load 1 Word File\n",
        "word_1_loader = UnstructuredWordDocumentLoader(\"/content/sample_data/Chatbot Data/PMI ATP Instructors Partnership.doc\").load()"
      ],
      "metadata": {
        "id": "XY0GJYwQ1VMd"
      },
      "execution_count": null,
      "outputs": []
    },
    {
      "cell_type": "code",
      "source": [
        "word_1_loader"
      ],
      "metadata": {
        "colab": {
          "base_uri": "https://localhost:8080/"
        },
        "id": "CPAzL6sI0lBJ",
        "outputId": "178bd2d9-84fe-4546-989b-901765828abd"
      },
      "execution_count": null,
      "outputs": [
        {
          "output_type": "execute_result",
          "data": {
            "text/plain": [
              "[Document(page_content='**PMI® Authorized Training Partner (ATP)**\\n\\nIn 2020, Calliopée Sàrl proudly became an Authorized Training Partner of the Project Management Institute (PMI)®, headquartered in Philadelphia, Pennsylvania, USA.\\n\\nPMI® is the global leader in project management, renowned for its Project Management Body of Knowledge (PMBOK), which is an internationally recognized standard aligned with ISO 21502:2020.\\n\\nAs an Authorized Training Partner, Calliopée is authorized to offer courses developed by PMI® specifically designed to prepare individuals for the fully revised PMP® Certification exam introduced in 2021.\\n\\nFurthermore, Calliopée has the privilege of integrating PMI-Approved Instructors, enabling us to establish partnerships with external trainers sponsored by Calliopée. These approved instructors can provide preparation courses for the PMP® Certification, offering a comprehensive learning experience.\\n\\n**PMI-Approved Internal Instructor:**\\n\\n**Patricia Malanda**\\n\\nCertifications: PMP®, ScrumMaster™, Self-Leadership\\n\\nDiplomas: MBA, DAS Project Management, BBA Bachelor Business Administration\\n\\nCurrent Position: Co-founder and co-manager of Calliopée Sàrl since 2011\\n\\nBusiness consultant for start-ups and SMEs, specializing in Project Management and Organizational Change Management across various fields, including watch manufacturing, banks, industrial services, municipal administrations, works management, IT development, hospitals, handling agents (airports), air navigation, international schools, and communication agencies.\\n\\nLecturer at institutions such as the University of Bern (BNF National Qualification Programme for Highly Qualified Profiles), SAWI (Federal Diploma Web Project Manager), Swiss Foundation for Studies (Communication and Project Management Workshops for young talents), and CVCI (Federal Diploma Specialist Retail Trade). Patricia has also served as a lecturer at the Centre Patronal Vaudois, focusing on International Management Training, Project Management, Staff Development, and HR Certificate programs.\\n\\n**PMI-Approved External Instructor Sponsored by Calliopée:**\\n\\n**Karine Cabourg**\\n\\nCertifications: PMP®, PMI-PBA®, CBAP® (Certified Business Analyst Professional), Professional Scrum Master™, Professional Scrum Product Owner™, Hermes\\n\\nDiplomas: Master MIAGE (Computer Methods Applied to Business Management), BFFA (Federal Certificate of Adult Trainer)\\n\\nCurrent Position: CEO of Smart Gecko SA since 2014\\n\\nKarine serves as a business consultant, specializing in Project Management and Business Analysis. Her expertise spans various domains, including Human Resources, Insurance, and IT, with extensive experience in sectors such as the public, health, administrative, and financial industries, focusing on digitalization and organizational change projects.\\n\\nKarine is also an accomplished lecturer, providing training in Project Management and Business Analysis to companies, public organizations, and the manufacturing and industry sectors. She is associated with the Centre Patronal Vaudois - Romandie Training, offering courses in Project Management and Business Analysis.\\n\\nFor more information on their PMP® preparation courses and our offerings, please visit our website.\\n\\n**Location:**\\n\\nRue de Chantepoulet 10, 1201 Geneva\\n\\n**Contact Information:**\\n\\n**Email:** info@calliopee.ch\\n\\n**Phone:** +41 22 564 20 30\\n\\nExplore our **Terms & Conditions** and our **Customer Complaint Resolution Process** for transparency and accountability. We are proud to share that the media has been talking about us.\\n\\nThank you for considering Calliopée as your trusted partner in achieving PMI® certifications and enhancing your project management skills.', metadata={'source': '/content/sample_data/Chatbot Data/PMI ATP Instructors Partnership.doc'})]"
            ]
          },
          "metadata": {},
          "execution_count": 33
        }
      ]
    },
    {
      "cell_type": "code",
      "source": [
        "#word_1_doc = [doc.page_content for doc in word_1_loader]\n",
        "#word_1_doc"
      ],
      "metadata": {
        "id": "pUucYFSv3zeF"
      },
      "execution_count": null,
      "outputs": []
    },
    {
      "cell_type": "code",
      "source": [
        "# Load 2nd Word File\n",
        "word_2_loader = UnstructuredWordDocumentLoader('/content/sample_data/Chatbot Data/How to Prepare for a Job Interview and Negotiate the Best Possible Contract.doc').load()"
      ],
      "metadata": {
        "id": "7mivEIix4Q9I"
      },
      "execution_count": null,
      "outputs": []
    },
    {
      "cell_type": "code",
      "source": [
        "#word_2_doc = [doc.page_content for doc in word_2_loader]\n",
        "#word_2_doc"
      ],
      "metadata": {
        "id": "55-0ktQ14nmR"
      },
      "execution_count": null,
      "outputs": []
    },
    {
      "cell_type": "markdown",
      "source": [
        "## **Load PDF Files**"
      ],
      "metadata": {
        "id": "o_zX4bF_4rp_"
      }
    },
    {
      "cell_type": "code",
      "source": [
        "import glob\n",
        "glob.glob(\"/content/sample_data/Chatbot Data/*\")"
      ],
      "metadata": {
        "colab": {
          "base_uri": "https://localhost:8080/"
        },
        "id": "bjkpfsxN6COa",
        "outputId": "3c62ff42-6ac6-4dd6-9c36-6511f28648dc"
      },
      "execution_count": null,
      "outputs": [
        {
          "output_type": "execute_result",
          "data": {
            "text/plain": [
              "['/content/sample_data/Chatbot Data/PMI ATP Instructors Partnership.doc',\n",
              " '/content/sample_data/Chatbot Data/Domiciliations.pdf',\n",
              " '/content/sample_data/Chatbot Data/How to Prepare for a Job Interview and Negotiate the Best Possible Contract.doc',\n",
              " '/content/sample_data/Chatbot Data/Busness Plan Creation.txt',\n",
              " '/content/sample_data/Chatbot Data/Project Management.txt',\n",
              " '/content/sample_data/Chatbot Data/Company Domiciliation in Switzerland.pdf',\n",
              " '/content/sample_data/Chatbot Data/Fiduciary Services in Geneva.pdf']"
            ]
          },
          "metadata": {},
          "execution_count": 37
        }
      ]
    },
    {
      "cell_type": "code",
      "source": [
        "# Load 1st PDF File\n",
        "pdf_1_loader = PyPDFLoader(\"/content/sample_data/Chatbot Data/Company Domiciliation in Switzerland.pdf\").load()"
      ],
      "metadata": {
        "id": "7iqPlCOx4qFL"
      },
      "execution_count": null,
      "outputs": []
    },
    {
      "cell_type": "code",
      "source": [
        "pdf_1_loader"
      ],
      "metadata": {
        "colab": {
          "base_uri": "https://localhost:8080/"
        },
        "id": "V6o0Kira5Cxe",
        "outputId": "087a25f5-64d8-40a6-e1d1-86373bb67a96"
      },
      "execution_count": null,
      "outputs": [
        {
          "output_type": "execute_result",
          "data": {
            "text/plain": [
              "[Document(page_content=\"**Company Domiciliation in Switzerland: Advantages, Options, and Service Choices**  \\n \\n*Last updated: June 13*  \\n \\n**Definition of Company Domiciliation in Switzerland**  \\n \\nCompany domiciliation is a service provided by a domiciliation company that allows a business to have a \\nprestigious address for its registered office, along with associated services such as mail handling and the \\nprovision of office space or meeting rooms.  \\n \\nFor many, domiciling a company in Switzerland has become an increasingly popular choice for those \\nlooking to establish their business in a stable and reputable location. Switzerland is well -known for its \\nfavorable business environment, political stability,  and advantageous tax policies. In this article, you'll \\ndiscover why domiciling a company in Switzerland is so appealing, what types of domiciliation \\ncompanies to choose from, and, most importantly, the services they offer for your business.  \\n \\n**Benefits of Domiciling Your Company in Switzerland**  \\n \\nDomiciling a company in Switzerland can be done in various locations. Having a registered office in \\nSwitzerland provides significant credibility and reputation benefits for businesses, in addition to offering \\ntax advantages.  \\n \\nBusinesses opting to domicile in Switzerland can also choose from a variety of options for their postal \\naddress, including city centers or suburban areas.  \\n \\n**Switzerland's Reputation as an Economic and Financial Center**  \\n \\nSwitzerland is renowned for being a prosperous country with a dynamic economy. By domiciling your \\ncompany in Switzerland, you could gain easier access to business opportunities and international \\nmarkets. This is particularly true for companies operating in  key sectors such as finance, life sciences, and \\ninformation technology.  \\n \", metadata={'source': '/content/sample_data/Chatbot Data/Company Domiciliation in Switzerland.pdf', 'page': 0}),\n",
              " Document(page_content=\"As an entrepreneur looking to domicile your company in Switzerland, it's essential to understand the \\nlegal requirements and obligations associated with company domiciliation.  \\n \\nDomiciling a company involves selecting a physical location for your business, registering your company \\nwith Swiss tax authorities, obtaining liability insurance, and complying with all local laws and regulations.  \\n \\nCompany domiciliation in Switzerland can be carried out in various cities, including Geneva and Zurich, \\nthe country's two largest cities.  \\n \\nGeneva is considered a global hub for businesses and international organizations, while Zurich is a \\nfinancial and technological center.  \\n \\n**Choosing Your Company Domiciliation Service in Switzerland**  \\n \\nWhen domiciling your company in Switzerland, you must select an authorized domiciliation provider. \\nDomiciliation providers are companies that offer domiciliation services to businesses and entrepreneurs. \\nThey can also provide services such as opening bank accounts and registering with the commercial \\nregistry.  \\n \\nCompanies choosing to domicile their businesses in Switzerland can select from various domiciliation \\nservices, including virtual offices and mailbox addresses.  \\n \\nVirtual offices allow entrepreneurs to benefit from a prestigious address and a local phone number \\nwithout having to rent physical office space. Mailbox addresses can be used to receive mail and packages \\nbut do not provide physical workspace.  \\n \\nIf you're an entrepreneur looking to domicile your company in Switzerland, it's essential to understand \\nyour options and choose the right domiciliation service for your needs. There are numerous \\ndomiciliation companies in Switzerland offering a range of se rvices, including fiduciary services to help \\nbusinesses comply with all local laws and regulations.  \\n \\n**Creating a Company in Switzerland**  \\n \", metadata={'source': '/content/sample_data/Chatbot Data/Company Domiciliation in Switzerland.pdf', 'page': 1}),\n",
              " Document(page_content=\"Creating a company in Switzerland can be a complex and meticulous process for entrepreneurs who are \\nnot familiar with the country's laws and regulations.  \\n \\nFortunately, many companies offer business creation services, which can be beneficial for entrepreneurs \\nlooking to establish a company in Switzerland.  \\n \\nThese companies can provide various services to help entrepreneurs create their businesses in \\nSwitzerland. This can include registering the company with Swiss authorities, establishing a registered \\noffice and postal address, and providing company domicilia tion services for businesses that do not yet \\nhave physical premises.  \\n \\n**Who Is Company Domiciliation in Switzerland Suitable For?**  \\n \\nCompany domiciliation in Switzerland is particularly useful for businesses that do not require physical \\nspace to conduct their operations. Businesses that provide online services, for example, often do not \\nneed physical premises for their operations. In su ch cases, company domiciliation in Switzerland can be \\nan appealing option.  \\n \\n**Other Services Offered by a Company Domiciliation Provider in Switzerland**  \\n \\nCompanies offering company domiciliation services in Switzerland can offer a variety of options to meet \\ntheir clients' needs. This can include options for receiving mail and packages, as well as options for \\nreceiving phone calls and faxes.  \\n \\nIn addition to company domiciliation, business creation companies can also provide fiduciary services to \\nhelp entrepreneurs manage their financial affairs. This can include accounting and payroll management \\nservices, as well as advice on Swiss tax and fina ncial regulations.  \\n \\nBusiness creation companies can also offer advisory services to help entrepreneurs make important \\ndecisions related to establishing a company in Switzerland. This can include advice on choosing the legal \\nform of the company, such as creating an LLC in Swit zerland, as well as advice on local regulations and \\nlabor laws.  \\n \\n**Summary of the Benefits of Company Domiciliation in Switzerland**  \", metadata={'source': '/content/sample_data/Chatbot Data/Company Domiciliation in Switzerland.pdf', 'page': 2}),\n",
              " Document(page_content=' \\nIn summary, business creation companies offer a range of services to help entrepreneurs establish their \\ncompanies in Switzerland. These services can include company domiciliation, fiduciary services, advisory \\nservices, and even translation services.  \\n \\nBy using these services, entrepreneurs can benefit from additional support in creating and domiciling \\ntheir companies in Switzerland, allowing them to focus on growing and developing their businesses.  ', metadata={'source': '/content/sample_data/Chatbot Data/Company Domiciliation in Switzerland.pdf', 'page': 3})]"
            ]
          },
          "metadata": {},
          "execution_count": 39
        }
      ]
    },
    {
      "cell_type": "code",
      "source": [
        "#pdf_1_doc = [doc.page_content for doc in pdf_1_loader]\n",
        "#pdf_1_doc"
      ],
      "metadata": {
        "id": "gclHhz7d6f07"
      },
      "execution_count": null,
      "outputs": []
    },
    {
      "cell_type": "code",
      "source": [
        "# Load 2nd PDF File\n",
        "pdf_2_loader = PyPDFLoader(\"/content/sample_data/Chatbot Data/Fiduciary Services in Geneva.pdf\").load()"
      ],
      "metadata": {
        "id": "RScdG5J47CaM"
      },
      "execution_count": null,
      "outputs": []
    },
    {
      "cell_type": "code",
      "source": [
        "#pdf_2_doc = [doc.page_content for doc in pdf_2_loader]\n",
        "#pdf_2_doc"
      ],
      "metadata": {
        "id": "AJPjug-a7WAE"
      },
      "execution_count": null,
      "outputs": []
    },
    {
      "cell_type": "code",
      "source": [
        "pdf_2_loader"
      ],
      "metadata": {
        "colab": {
          "base_uri": "https://localhost:8080/"
        },
        "id": "A9169RUEKelh",
        "outputId": "7ba18982-13f6-42df-8464-290b9eb18c58"
      },
      "execution_count": null,
      "outputs": [
        {
          "output_type": "execute_result",
          "data": {
            "text/plain": [
              "[Document(page_content=\"Fiduciary Services in Geneva  by Calliopée Sàrl  \\n \\n  \\nAdministrative Management for Individuals, Companies, and Self -Employed  \\n  \\nImagine having personalized administrative and tax support for your company, self -employment, or \\nindividual needs.   \\n  \\nGet support from fiduciary accountants and financial specialists at the best rates possible.   \\n  \\nAt Calliopée Business Center in Geneva, yo u can access a network of accountants and fiduciaries offering \\nthese services.   \\n  \\nLocated in downtown Geneva for over 8 years, our quality services and unique expertise have saved \\nmore than 300 customers each year time and money in terms of domiciliation, administrative, and \\naccounting management, thanks to our specialists.   \\n  \\nWhether you're an individual, self -employed, or a company, our team handles all your administrative \\nprocedures, including tax returns, accounting, VAT returns, balance sheets, and mor e.  \\n  \\nRegardless of the complexity of your needs, our network of experts in accounting, administration, and \\nlegal matters will guide you step by step and provide tailor -made services to ensure the personal or \\nprofessional success of your activities.   \\n  \\nSo, ask yourself: Is it time to have personal and professional administrative support at your fingertips?   \\n  \\nIf you want a flexible and available team by your side, choose Calliopée's fiduciary and accounting \\nexperts.   \\n  \\n \\n \", metadata={'source': '/content/sample_data/Chatbot Data/Fiduciary Services in Geneva.pdf', 'page': 0}),\n",
              " Document(page_content=\"1. Tax Return in Geneva (for Swiss and French Residents)  \\n  \\nOur accountants put their experience to work for you, completing your tax return accurately. Entrust \\nyour tax return to the experts.   \\n  \\n- Starting from CHF 280 (individual)   \\n- Starting from CHF 200 (company)   \\n  \\n   Services Include:   \\n- Support for your salary cer tificates   \\n- Bank account statement   \\n- Premium settlements   \\n- Certificate of health and accident insurance   \\n- Proof of credits, mortgages, and a certificate of wealth   \\n- Sending the declaration to the FTA (Federal Tax Administration)   \\n  \\n   If you're running late, our team can request a deadline extension for you.   \\n  \\n2. Online  co-mptability  \\n  \\nOur specialists, accountants, and fiduciaries ensure the meticulous management of your accounts, be it \\ngeneral or third -party, and the daily monitoring of your accounting entries.   \\n  \\n- Starting from CHF 75 per month without commitment   \\n  \\n   Depending on the chosen plan, the following services will be provided:   \\n- Capturing your financial transactions daily   \\n- Calculating VAT   \\n- Managing your VAT statements and declarations   \", metadata={'source': '/content/sample_data/Chatbot Data/Fiduciary Services in Geneva.pdf', 'page': 1}),\n",
              " Document(page_content=\"- Preparing salary slips for your employees and yourself   \\n- Preparing annual financial statement s  \\n- Finalizing annual salary declarations   \\n- Closing your accounts and balance sheet   \\n- Preparing and submitting your tax return to the FTA   \\n  \\n   By choosing Calliopée, you're opting for a fiduciary known for its customer service. You can track your \\nfinancial d ashboard in real -time through our online interface.   \\n  \\n3. Business Start -ups and Business Plan s \\n  \\nDo you want to start your own company, obtain self -employed status, and receive professional guidance \\nfor creating or revising your business plan?   \\n  \\n- CHF 490 (No contractual obligation)   \\n  \\n   Services Include:   \\n- Advice on choosing the legal form   \\n- Tailor -made administrative support   \\n  \\n   The Calliopée team is an expert in helping create businesses and business plans. Our teams of experts \\nsupport you through administrative procedures and the development of a successful business plan, \\nwhether you're planning to become self -employed, create a n LLC, or an SA. We assist you in setting up \\nyour company simply and swiftly.   \\n  \\n4. Withholding Taxes  \\n  \\nAs a cross -border worker or a holder of a work permit (excluding a C permit), you are subject to \\nwithholding tax. Taking your situation into account, we handle source tax calculations for you or your \\nemployees.   \\n  \", metadata={'source': '/content/sample_data/Chatbot Data/Fiduciary Services in Geneva.pdf', 'page': 2}),\n",
              " Document(page_content=\"- Starting from CHF 50 per employee   \\n  \\n   Make a non -binding request.   \\n  \\nAn Advantageous Fiduciary with Clear and Transparent Rates :  \\n  \\nOur team comprises multiple advisors, experts, and professionals in the Swiss financial sector, making \\nCalliopée a reference company for fiduciary services in the Swiss mar ket. Whatever your request, we can \\nprovide you with tailor -made solutions to meet your needs.   \\n  \\n- Catch up on your accounting if it's behind schedule.   \\n- Request an extension for your tax return if it's overdue.   \\n  \\nBy collaborating with a dynamic, modern, and responsive accounting team, you benefit from the best \\ntools for managing your business. Furthermore, our service costs adapt to your needs, whether you're a \\nlarge company, an SME, or a freelancer. Our team suppo rts you at all stages of your development while \\nmaintaining our rates, quality, responsiveness, and customer service at the highest standards.   \\n  \\nOur Additional Offers : \\n1. Switchboard Service  \\n  \\nCalliopée offers a switchboard service in which:   \\n- Your  calls are received.   \\n- Messages are sent to you by email/audio (WhatsApp) or other means as agreed upon with the \\ncustomer.   \\n- Your contacts or clients are welcomed during their visits to Calliopée, and the information you have \\ninstructed us to convey is trans mitted to them.   \\n  \\n   Starting from CHF 25 per month without commitment.   \\n  \\n \", metadata={'source': '/content/sample_data/Chatbot Data/Fiduciary Services in Geneva.pdf', 'page': 3}),\n",
              " Document(page_content='2. Secretarial Service  \\n  \\nCalliopée offers a fast secretarial service in which:   \\n- We layout your letters and documents.   \\n- We send your documents by mail upon request.   \\n- We print your  documents (printing rates* to be added to the service price).   \\n- We scan your documents.   \\n- We conduct various internet searches based on your projects.   \\n- We proofread and correct documents in French.   \\n- We respond to other requests according to our availability.   \\n  \\n   Starting from CHF 102 per hour.   \\n  \\nWould you like personalized advice for your case? Let us inform you free of charge and without \\nobligation for more information.  \\n  \\nCustomer Reviews  \\n  \\n- \"Simply perfect! Thank you for your speed and careful work! I recommend with closed eyes.\" - Alex  T.  \\n  \\n- \"Very fast and professional service! I highly recommend Calliopée.\" - Mario   \\n  \\n- \"An unbeatable location, a caring team always in a good mood. Isabel welcomes us every time with a \\nbig smile, and that makes the difference. The best prices in Geneva wit h quality service; we can only \\nrecommend Calliopée! Bravo and thank you!\" - Ines B.   \\n  \\n- \"Isabel welcomes you simply and warmly. It has developed simple, flexible, effective, and inexpensive \\nsolutions...\" - François.E.C.   \\n  ', metadata={'source': '/content/sample_data/Chatbot Data/Fiduciary Services in Geneva.pdf', 'page': 4}),\n",
              " Document(page_content='- \"I benefited from Calliopée\\'s serv ices for some time: I sincerely recommend the team and what it does \\nto support the independents who are starting. A great professionalism, a lot of flexibility, and always \\nbenevolent welcome make it a real support in my approach. Thank you!\" - Sophie H.   \\n  \\n- \"Impeccable welcome! Full services! Responsive and comfortable!\" - Raoul   \\n  \\n**Our Latest Articles**   \\n  \\n- [Swiss Business Plan - Models and examples for creation and development (calliopee.ch) ](#)  \\n- [Taxe sur la valeur ajoutée (TVA) : Taux applicables en Suisse en 2023 et modifications en 2024  \\n(calliopee.ch) ](#)  \\n- [La domiciliation d\\'entreprise en Suisse : avantages, options et choix de services (calliopee.ch) ](#)  \\n  \\n**Contact Information**   \\n  \\n- Rue de Chantepoulet 10, 1201 Geneva  info@calliopee.ch   \\n+41 22 564 20 30   \\n  ', metadata={'source': '/content/sample_data/Chatbot Data/Fiduciary Services in Geneva.pdf', 'page': 5})]"
            ]
          },
          "metadata": {},
          "execution_count": 43
        }
      ]
    },
    {
      "cell_type": "code",
      "source": [
        "# Load 3rd PDF File\n",
        "pdf_3_loader = PyPDFLoader(\"/content/sample_data/Chatbot Data/Domiciliations.pdf\").load()"
      ],
      "metadata": {
        "id": "6FDgE51c-BOh"
      },
      "execution_count": null,
      "outputs": []
    },
    {
      "cell_type": "code",
      "source": [
        "len(pdf_3_loader)"
      ],
      "metadata": {
        "colab": {
          "base_uri": "https://localhost:8080/"
        },
        "id": "aMwsAg5K-MDA",
        "outputId": "1261c32d-81ab-497f-a352-9ad50ca0e69c"
      },
      "execution_count": null,
      "outputs": [
        {
          "output_type": "execute_result",
          "data": {
            "text/plain": [
              "2"
            ]
          },
          "metadata": {},
          "execution_count": 45
        }
      ]
    },
    {
      "cell_type": "markdown",
      "source": [
        "# **Merage Data**"
      ],
      "metadata": {
        "id": "fOZc2u7x8Dd2"
      }
    },
    {
      "cell_type": "code",
      "source": [
        "def merge_data_loaders(loaders):\n",
        "    merged_data = []\n",
        "    for loader_data in loaders:\n",
        "        # Assuming loaders are lists containing data\n",
        "        merged_data.extend(loader_data)\n",
        "    return merged_data\n",
        "\n",
        "\n",
        "# Example usage\n",
        "merged_data = merge_data_loaders([text_data, word_1_loader, word_2_loader, pdf_1_loader, pdf_2_loader,pdf_3_loader])\n",
        "print(merged_data)\n"
      ],
      "metadata": {
        "colab": {
          "base_uri": "https://localhost:8080/"
        },
        "id": "cWEqpPRA_5uT",
        "outputId": "82b9cb36-f72b-446e-f1d6-aabb17e5f058"
      },
      "execution_count": null,
      "outputs": [
        {
          "output_type": "stream",
          "name": "stdout",
          "text": [
            "[Document(page_content=\"Creating Your Business Plan: Templates and Examples\\n\\nAre you an entrepreneur or aspiring to be one? Do you have a business idea but don't know where to\\n\\nstart? Look no further, because creating a solid business plan is the first step towards turning your idea\\n\\ninto a successful business.\\n\\nWhat is a Business Plan and How Important Is It?\\n\\nA business plan is a written document that outlines a company's goals, strategies, and potential\\n\\nchallenges. It serves as a roadmap, providing clear direction and defining the steps necessary for a\\n\\ncompany's success.\\n\\nIn Switzerland, a business plan is particularly important because it helps entrepreneurs and investors\\n\\nassess the feasibility of a business idea in a competitive market. A well-developed business plan can:\\n\\nHighlight the potential for success.\\n\\nIdentify challenges.\\n\\nProvide a clear path for business growth.\\n\\nFacilitate obtaining financing from investors and banks.\\n\\nHow to Create a Business Plan:\\n\\nWhen creating a business plan, it's essential to focus on its content. Understanding what to include is\\n\\ncrucial for its success. The typical content of a business plan includes:\\n\\n1. Summary: Highlighting objectives, mission, target market, products/services, and financial\\n\\nprojections. This section should grab attention and emphasize the most critical aspects of your business.\\n\\n2. Company Description: Detailed information about your business, including history, location,\\n\\nlegal structure, ownership, products/services, and competitive advantages.3. Market Analysis: In-depth market analysis, including the industry sector, target market, and an\\n\\nevaluation of competition to identify potential opportunities and challenges.\\n\\n4. Product/Service Description: Detailed features, benefits, and advantages of your products or\\n\\nservices, emphasizing what sets you apart from competitors.\\n\\n5. Marketing and Sales Strategies: Explanation of how you will promote your business, reach your\\n\\ntarget market, and generate sales, including any pricing strategies.\\n\\n6. Operations: Detailed description of daily business operations, including facilities, equipment,\\n\\nstaffing requirements, and any legal permits or licenses needed.\\n\\n7. Financial Projections: Revenue and expense forecasts, financial statements such as balance\\n\\nsheets, income statements, and cash flow statements to assess your business's financial health.\\n\\n8. Appendix: Additional relevant information, such as key personnel resumes, patents or\\n\\ntrademarks, and supporting documents.\\n\\n9. Regular Review: It's essential to periodically revise your business plan as your business grows\\n\\nand evolves to ensure its relevance and effectiveness.\\n\\nWhy Choose Calliopée to Help You Create Your Business Plan?\\n\\nOur team boasts extensive experience in the business planning process, offering personalized advice\\n\\ntailored to your unique needs. Our collaborative approach ensures close teamwork, enabling you to\\n\\nshare your ideas, goals, and aspirations. Here's why you should choose Calliopée:\\n\\n1. Transparent Communication: We prioritize transparent communication to ensure your business\\n\\nplan accurately reflects your values and ambitions.\\n\\n2. Models and Examples: By partnering with us, you gain access to proven business plan templates\\n\\nand examples, along with state-of-the-art tools and resources to simplify the creative process.3. Guided Support: We provide step-by-step guidance to ensure your business plan is\\n\\ncomprehensive, compelling, and of the highest quality.\", metadata={'source': '/content/sample_data/Chatbot Data/Busness Plan Creation.txt'}), Document(page_content=\"**Mastering Project Management: PMI and SCRUM Approaches**\\n\\nLearn how to create and execute your project effectively using PMI and SCRUM methodologies in just 36\\n\\ndays with ProjectMaster, the most comprehensive project management program.\\n\\n**ProjectMaster Features:**\\n\\nFull 6-week ProjectMaster training program.\\n\\nAccess to ProjectMaster document templates.\\n\\nBONUS: Tests and level checks to qualify for PMP or SCRUM certification preparation.\\n\\nOptional individual or group coaching sessions conducted remotely to help you analyze, plan, and\\n\\npresent your project effectively.\\n\\n**Pricing:**\\n\\nCourse platform: CHF 997 or 12 x CHF 99\\n\\nSmall group coaching: CHF 720 or 12 x CHF 67\\n\\nIndividualized coaching: CHF 1,720 or 12 x CHF 150\\n\\n**Register now | Contact us**\\n\\n**Objective:**\\n\\nObtain essential worldwide-recognized tools and techniques from an experienced Project Manager and\\n\\nvalidate your achievements.\\n\\n**Training Duration:**\\n\\n12 months\\n\\n**Course Format:**\\n\\nOnline, including videos, webinars, and documents.If you aspire to become a project manager proficient in both predictive and agile project management\\n\\napproaches, aligned with PMI and SCRUM standards, this program is tailored for you. Whether you\\n\\nmanage projects in your organization or privately, acquiring these tools can make a substantial difference\\n\\nin your career.\\n\\n**Are you in this situation? **\\n\\nMany project managers, despite their experience, lack formal training in project management\\n\\nmethodologies, which can lead to inefficiencies and reduced confidence in their abilities.\\n\\nProjectMaster is here to bridge that gap.\\n\\n**What is ProjectMaster? **\\n\\nProjectMaster is a 6-week online course with optional individual or team coaching. It equips you with\\n\\nsought-after tools and techniques to manage professional and personal projects effectively.\\n\\n**Who is it for? **\\n\\nProjectMaster is designed for anyone looking to gain expertise in project management tools and\\n\\ntechniques, including Project Managers, Project Assistants, Department Managers, and specialists from\\n\\nvarious domains such as HR, Marketing, and Technical Business.\\n\\n**No prior qualifications required:**\\n\\nYou don't need specific qualifications to enroll; ProjectMaster covers the fundamentals of predictive and\\n\\nagile project management. For PMP or SCRUM certifications, prerequisites will be provided in relevant\\n\\ncourses.\\n\\n**How does it work? **1) Review course videos and materials.\\n\\n2) Apply the tools and bonuses to your projects.\\n\\n3) Opt for individual or team coaching, present your project's progress, create a project plan, and receive\\n\\npersonalized feedback.\\n\\n**Start at Your Convenience:**\\n\\nProjectMaster is an online program, so you can begin whenever you're ready. You have 12 months of\\n\\naccess to the platform. Coaching sessions will be scheduled within 5 days of your registration.\\n\\n**Why ProjectMaster? **\\n\\nThis program was created to offer flexible, self-paced learning combined with regular interaction to\\n\\nsupport participants throughout their journey. Over 3,000 people have benefited from ProjectMaster.\\n\\n**Meet Patricia Malanda:**\\n\\nPatricia is the founder of the ProjectMaster Method and co-founder of Calliopée Sàrl in Geneva. She has\\n\\n30 years of experience in various fields and holds certifications as a PMP, ScrumMaster, and Success\\n\\nInsights.\\n\\n**Additional Bonus:**\\n\\nIn addition to the video training platform, you'll receive FREE ProjectMaster documents and benchmarks\\n\\nto:\\n\\nImmediately apply theoretical concepts to your projects.\\n\\nCreate a document database for your organization.\\n\\nModify and adapt templates to your specific needs.\\n\\nValidate your knowledge and readiness for PMP or SCRUM certification. **Frequently Asked Questions:**\\n\\nWill this method work for my project?\\n\\nYes, the tools and techniques taught are applicable to various project types.\\n\\nIs it suitable for different cultures or countries?\\n\\nProject management is based on international standards, making it universally applicable.\\n\\nHow long is the access to the training program?\\n\\nYou have 12 months of access to the program and bonus materials. Coaching sessions are included if\\n\\nyou choose that option.\\n\\nAre any qualifications required?\\n\\nNo specific qualifications are needed to start the training. Prerequisites for certifications are provided\\n\\nin related courses.\\n\\nCan this program facilitate a career change?\\n\\nAbsolutely! Proficiency in project management is highly sought after and can lead to career growth.\\n\\nHow long does it take to complete the program?\\n\\nYou can complete it in about 10 days, but you have up to 12 months to finish at your own pace.\\n\\n**Register now | Contact us**\\n\\nAddress: Rue de Chantepoulet 10, 1201 Geneva\\n\\nEmail: info@calliopee.ch\\n\\nPhone: +41 22 564 20 30\\n\\n**Learn more:**[Link to Business Plan Swiss - Models and Examples for Creation and Development]\\n\\n[Link to Taxe sur la Valeur Ajoutée (TVA) - Applicable Rates in Switzerland in 2023 and Changes in 2024]\\n\\n[Link to Domiciliation of Companies in Switzerland: Advantages, Options, and Service Choices]\\n\\nPlease note that the URLs for additional information have not been provided in the text. *\", metadata={'source': '/content/sample_data/Chatbot Data/Project Management.txt'}), Document(page_content='**PMI® Authorized Training Partner (ATP)**\\n\\nIn 2020, Calliopée Sàrl proudly became an Authorized Training Partner of the Project Management Institute (PMI)®, headquartered in Philadelphia, Pennsylvania, USA.\\n\\nPMI® is the global leader in project management, renowned for its Project Management Body of Knowledge (PMBOK), which is an internationally recognized standard aligned with ISO 21502:2020.\\n\\nAs an Authorized Training Partner, Calliopée is authorized to offer courses developed by PMI® specifically designed to prepare individuals for the fully revised PMP® Certification exam introduced in 2021.\\n\\nFurthermore, Calliopée has the privilege of integrating PMI-Approved Instructors, enabling us to establish partnerships with external trainers sponsored by Calliopée. These approved instructors can provide preparation courses for the PMP® Certification, offering a comprehensive learning experience.\\n\\n**PMI-Approved Internal Instructor:**\\n\\n**Patricia Malanda**\\n\\nCertifications: PMP®, ScrumMaster™, Self-Leadership\\n\\nDiplomas: MBA, DAS Project Management, BBA Bachelor Business Administration\\n\\nCurrent Position: Co-founder and co-manager of Calliopée Sàrl since 2011\\n\\nBusiness consultant for start-ups and SMEs, specializing in Project Management and Organizational Change Management across various fields, including watch manufacturing, banks, industrial services, municipal administrations, works management, IT development, hospitals, handling agents (airports), air navigation, international schools, and communication agencies.\\n\\nLecturer at institutions such as the University of Bern (BNF National Qualification Programme for Highly Qualified Profiles), SAWI (Federal Diploma Web Project Manager), Swiss Foundation for Studies (Communication and Project Management Workshops for young talents), and CVCI (Federal Diploma Specialist Retail Trade). Patricia has also served as a lecturer at the Centre Patronal Vaudois, focusing on International Management Training, Project Management, Staff Development, and HR Certificate programs.\\n\\n**PMI-Approved External Instructor Sponsored by Calliopée:**\\n\\n**Karine Cabourg**\\n\\nCertifications: PMP®, PMI-PBA®, CBAP® (Certified Business Analyst Professional), Professional Scrum Master™, Professional Scrum Product Owner™, Hermes\\n\\nDiplomas: Master MIAGE (Computer Methods Applied to Business Management), BFFA (Federal Certificate of Adult Trainer)\\n\\nCurrent Position: CEO of Smart Gecko SA since 2014\\n\\nKarine serves as a business consultant, specializing in Project Management and Business Analysis. Her expertise spans various domains, including Human Resources, Insurance, and IT, with extensive experience in sectors such as the public, health, administrative, and financial industries, focusing on digitalization and organizational change projects.\\n\\nKarine is also an accomplished lecturer, providing training in Project Management and Business Analysis to companies, public organizations, and the manufacturing and industry sectors. She is associated with the Centre Patronal Vaudois - Romandie Training, offering courses in Project Management and Business Analysis.\\n\\nFor more information on their PMP® preparation courses and our offerings, please visit our website.\\n\\n**Location:**\\n\\nRue de Chantepoulet 10, 1201 Geneva\\n\\n**Contact Information:**\\n\\n**Email:** info@calliopee.ch\\n\\n**Phone:** +41 22 564 20 30\\n\\nExplore our **Terms & Conditions** and our **Customer Complaint Resolution Process** for transparency and accountability. We are proud to share that the media has been talking about us.\\n\\nThank you for considering Calliopée as your trusted partner in achieving PMI® certifications and enhancing your project management skills.', metadata={'source': '/content/sample_data/Chatbot Data/PMI ATP Instructors Partnership.doc'}), Document(page_content='How to Prepare for a Job Interview and Negotiate the Best Possible Contract By Calliopée Sàrl\\n\\nWhen your CV and cover letter have successfully secured you an interview, thorough preparation becomes essential. The effort you put into your application will only pay off if you present yourself effectively during the interview.\\n\\nRecruiters who invite you to an interview are typically already impressed by your profile and skills as presented in your CV and cover letter. Now, they want to assess your personality and your ability to fit into the company culture. During the interview, it\\'s your character and your capacity to respond to specific questions that will be under scrutiny.\\n\\nThe first rule is to remain true to yourself, but to convey yourself effectively, you need good preparation.\\n\\nYou\\'ve already developed your CV, emphasizing your achievements, and established connections between your experience and the company in your cover letter. You may also have a list of recognitions from your previous employers. Now, it\\'s time to synthesize it all with confidence and presence.\\n\\nInterviews can take various forms, so it\\'s crucial to adapt rather than memorize a script. You should stay engaged, read your interviewer\\'s cues, understand their needs, and adjust your responses accordingly. To achieve this, you must be calm, composed, and well-rested.\\n\\nHere\\'s a typical interview approach:\\n\\nIntroduction: The recruiter may ask you to introduce yourself briefly. They might pose the classic question, \"Tell me about yourself.\"\\n\\nPrepare a concise self-introduction that you can deliver in 2 to 5 minutes. It can be structured like this:\\n\\n\"Thank you for having me today. I\\'d like to introduce myself along three key axes. First, my expertise in..., second, my organizational skills, and finally, a more personal touch highlighting my interpersonal skills.\" Provide one or two examples for each point and then give your interviewer a chance to speak.\\n\\nPosition and Skills Assessment: The recruiter introduces the job and asks questions to delve into your ability to meet their expectations.\\n\\nAlways respond with examples. Keep your responses concise and use illustrations to bring your answers to life.\\n\\nStrengths and Contributions: You might be asked to discuss your strengths and what you can bring to the company.\\n\\nAgain, use examples and reference your previous employers to demonstrate your strengths. Don\\'t shy away from discussing challenges you\\'ve faced and how you\\'ve overcome them.\\n\\nAsk Questions: Towards the end of the interview, it\\'s your turn to ask questions. Prepare inquiries related to the company, its growth, its customers—nothing too intrusive, but questions that demonstrate your interest, motivation, and knowledge of the market and the company\\'s challenges.\\n\\nYou can ask questions like, \"What qualities do you expect from me for this job?\" or \"What skills is the company currently lacking?\"\\n\\nFollow-Up: After the interview, leave politely, expressing your gratitude. Send a thank-you message within a day, reiterating your interest in the position and possibly including additional documents that reinforce your points from the interview (e.g., a work certificate or reference letter).\\n\\nIn summary, your interview must be meticulously prepared. Consider the achievements you want to emphasize, how you\\'ll articulate them in your 2-5 minute introduction, which examples you\\'ll choose to illustrate your answers, the recognitions from your previous employers that you\\'ll present, and the insightful questions you\\'ll ask the potential employer.\\n\\nPreparation should include studying the company\\'s website, reviewing articles about the company, researching the interviewers, and keeping the key points of the job advertisement in mind to refer to during the conversation. Keep your sentences short, strike a balance between speaking and listening, and focus on delivering quality information.\\n\\nA good night\\'s sleep before the interview will help you stay alert and receptive during this critical exchange. Believe in yourself, take a deep breath before entering the company, and approach the experience as an enjoyable moment.\\n\\nNegotiating Your Contract:\\n\\nNegotiating your employment contract can be challenging, but it\\'s crucial to ensure you get what you deserve. Here are some key points to help you secure the best possible contract:\\n\\nFocus on the Value You Bring: Highlight the value you will bring to the company. Companies are primarily interested in solving their problems. Show that you are the solution to their challenges and that your contribution will greatly enhance the company\\'s value.\\n\\nQuantify Your Impact: Salary is a significant expense for employers. Quantify your potential return on investment. Explain how you will contribute to the company\\'s success and how the value you bring far outweighs the salary you\\'re requesting.\\n\\nBy following these steps, you can negotiate a contract that reflects your true worth.\\n\\nRemember that a well-prepared interview and effective contract negotiation can make a substantial difference in your job search success.\\n\\nIf you want to delve deeper into these topics, consider attending my online conference \"JobMaster.\" It covers strategies for standing out in the job market, creating compelling job applications, and excelling in job interviews. You can register for the free JobMaster conference [here](insert link).\\n\\nWith these approaches, you\\'ll discover how logical and effective it is to land the right job with the right contract that matches your value.', metadata={'source': '/content/sample_data/Chatbot Data/How to Prepare for a Job Interview and Negotiate the Best Possible Contract.doc'}), Document(page_content=\"**Company Domiciliation in Switzerland: Advantages, Options, and Service Choices**  \\n \\n*Last updated: June 13*  \\n \\n**Definition of Company Domiciliation in Switzerland**  \\n \\nCompany domiciliation is a service provided by a domiciliation company that allows a business to have a \\nprestigious address for its registered office, along with associated services such as mail handling and the \\nprovision of office space or meeting rooms.  \\n \\nFor many, domiciling a company in Switzerland has become an increasingly popular choice for those \\nlooking to establish their business in a stable and reputable location. Switzerland is well -known for its \\nfavorable business environment, political stability,  and advantageous tax policies. In this article, you'll \\ndiscover why domiciling a company in Switzerland is so appealing, what types of domiciliation \\ncompanies to choose from, and, most importantly, the services they offer for your business.  \\n \\n**Benefits of Domiciling Your Company in Switzerland**  \\n \\nDomiciling a company in Switzerland can be done in various locations. Having a registered office in \\nSwitzerland provides significant credibility and reputation benefits for businesses, in addition to offering \\ntax advantages.  \\n \\nBusinesses opting to domicile in Switzerland can also choose from a variety of options for their postal \\naddress, including city centers or suburban areas.  \\n \\n**Switzerland's Reputation as an Economic and Financial Center**  \\n \\nSwitzerland is renowned for being a prosperous country with a dynamic economy. By domiciling your \\ncompany in Switzerland, you could gain easier access to business opportunities and international \\nmarkets. This is particularly true for companies operating in  key sectors such as finance, life sciences, and \\ninformation technology.  \\n \", metadata={'source': '/content/sample_data/Chatbot Data/Company Domiciliation in Switzerland.pdf', 'page': 0}), Document(page_content=\"As an entrepreneur looking to domicile your company in Switzerland, it's essential to understand the \\nlegal requirements and obligations associated with company domiciliation.  \\n \\nDomiciling a company involves selecting a physical location for your business, registering your company \\nwith Swiss tax authorities, obtaining liability insurance, and complying with all local laws and regulations.  \\n \\nCompany domiciliation in Switzerland can be carried out in various cities, including Geneva and Zurich, \\nthe country's two largest cities.  \\n \\nGeneva is considered a global hub for businesses and international organizations, while Zurich is a \\nfinancial and technological center.  \\n \\n**Choosing Your Company Domiciliation Service in Switzerland**  \\n \\nWhen domiciling your company in Switzerland, you must select an authorized domiciliation provider. \\nDomiciliation providers are companies that offer domiciliation services to businesses and entrepreneurs. \\nThey can also provide services such as opening bank accounts and registering with the commercial \\nregistry.  \\n \\nCompanies choosing to domicile their businesses in Switzerland can select from various domiciliation \\nservices, including virtual offices and mailbox addresses.  \\n \\nVirtual offices allow entrepreneurs to benefit from a prestigious address and a local phone number \\nwithout having to rent physical office space. Mailbox addresses can be used to receive mail and packages \\nbut do not provide physical workspace.  \\n \\nIf you're an entrepreneur looking to domicile your company in Switzerland, it's essential to understand \\nyour options and choose the right domiciliation service for your needs. There are numerous \\ndomiciliation companies in Switzerland offering a range of se rvices, including fiduciary services to help \\nbusinesses comply with all local laws and regulations.  \\n \\n**Creating a Company in Switzerland**  \\n \", metadata={'source': '/content/sample_data/Chatbot Data/Company Domiciliation in Switzerland.pdf', 'page': 1}), Document(page_content=\"Creating a company in Switzerland can be a complex and meticulous process for entrepreneurs who are \\nnot familiar with the country's laws and regulations.  \\n \\nFortunately, many companies offer business creation services, which can be beneficial for entrepreneurs \\nlooking to establish a company in Switzerland.  \\n \\nThese companies can provide various services to help entrepreneurs create their businesses in \\nSwitzerland. This can include registering the company with Swiss authorities, establishing a registered \\noffice and postal address, and providing company domicilia tion services for businesses that do not yet \\nhave physical premises.  \\n \\n**Who Is Company Domiciliation in Switzerland Suitable For?**  \\n \\nCompany domiciliation in Switzerland is particularly useful for businesses that do not require physical \\nspace to conduct their operations. Businesses that provide online services, for example, often do not \\nneed physical premises for their operations. In su ch cases, company domiciliation in Switzerland can be \\nan appealing option.  \\n \\n**Other Services Offered by a Company Domiciliation Provider in Switzerland**  \\n \\nCompanies offering company domiciliation services in Switzerland can offer a variety of options to meet \\ntheir clients' needs. This can include options for receiving mail and packages, as well as options for \\nreceiving phone calls and faxes.  \\n \\nIn addition to company domiciliation, business creation companies can also provide fiduciary services to \\nhelp entrepreneurs manage their financial affairs. This can include accounting and payroll management \\nservices, as well as advice on Swiss tax and fina ncial regulations.  \\n \\nBusiness creation companies can also offer advisory services to help entrepreneurs make important \\ndecisions related to establishing a company in Switzerland. This can include advice on choosing the legal \\nform of the company, such as creating an LLC in Swit zerland, as well as advice on local regulations and \\nlabor laws.  \\n \\n**Summary of the Benefits of Company Domiciliation in Switzerland**  \", metadata={'source': '/content/sample_data/Chatbot Data/Company Domiciliation in Switzerland.pdf', 'page': 2}), Document(page_content=' \\nIn summary, business creation companies offer a range of services to help entrepreneurs establish their \\ncompanies in Switzerland. These services can include company domiciliation, fiduciary services, advisory \\nservices, and even translation services.  \\n \\nBy using these services, entrepreneurs can benefit from additional support in creating and domiciling \\ntheir companies in Switzerland, allowing them to focus on growing and developing their businesses.  ', metadata={'source': '/content/sample_data/Chatbot Data/Company Domiciliation in Switzerland.pdf', 'page': 3}), Document(page_content=\"Fiduciary Services in Geneva  by Calliopée Sàrl  \\n \\n  \\nAdministrative Management for Individuals, Companies, and Self -Employed  \\n  \\nImagine having personalized administrative and tax support for your company, self -employment, or \\nindividual needs.   \\n  \\nGet support from fiduciary accountants and financial specialists at the best rates possible.   \\n  \\nAt Calliopée Business Center in Geneva, yo u can access a network of accountants and fiduciaries offering \\nthese services.   \\n  \\nLocated in downtown Geneva for over 8 years, our quality services and unique expertise have saved \\nmore than 300 customers each year time and money in terms of domiciliation, administrative, and \\naccounting management, thanks to our specialists.   \\n  \\nWhether you're an individual, self -employed, or a company, our team handles all your administrative \\nprocedures, including tax returns, accounting, VAT returns, balance sheets, and mor e.  \\n  \\nRegardless of the complexity of your needs, our network of experts in accounting, administration, and \\nlegal matters will guide you step by step and provide tailor -made services to ensure the personal or \\nprofessional success of your activities.   \\n  \\nSo, ask yourself: Is it time to have personal and professional administrative support at your fingertips?   \\n  \\nIf you want a flexible and available team by your side, choose Calliopée's fiduciary and accounting \\nexperts.   \\n  \\n \\n \", metadata={'source': '/content/sample_data/Chatbot Data/Fiduciary Services in Geneva.pdf', 'page': 0}), Document(page_content=\"1. Tax Return in Geneva (for Swiss and French Residents)  \\n  \\nOur accountants put their experience to work for you, completing your tax return accurately. Entrust \\nyour tax return to the experts.   \\n  \\n- Starting from CHF 280 (individual)   \\n- Starting from CHF 200 (company)   \\n  \\n   Services Include:   \\n- Support for your salary cer tificates   \\n- Bank account statement   \\n- Premium settlements   \\n- Certificate of health and accident insurance   \\n- Proof of credits, mortgages, and a certificate of wealth   \\n- Sending the declaration to the FTA (Federal Tax Administration)   \\n  \\n   If you're running late, our team can request a deadline extension for you.   \\n  \\n2. Online  co-mptability  \\n  \\nOur specialists, accountants, and fiduciaries ensure the meticulous management of your accounts, be it \\ngeneral or third -party, and the daily monitoring of your accounting entries.   \\n  \\n- Starting from CHF 75 per month without commitment   \\n  \\n   Depending on the chosen plan, the following services will be provided:   \\n- Capturing your financial transactions daily   \\n- Calculating VAT   \\n- Managing your VAT statements and declarations   \", metadata={'source': '/content/sample_data/Chatbot Data/Fiduciary Services in Geneva.pdf', 'page': 1}), Document(page_content=\"- Preparing salary slips for your employees and yourself   \\n- Preparing annual financial statement s  \\n- Finalizing annual salary declarations   \\n- Closing your accounts and balance sheet   \\n- Preparing and submitting your tax return to the FTA   \\n  \\n   By choosing Calliopée, you're opting for a fiduciary known for its customer service. You can track your \\nfinancial d ashboard in real -time through our online interface.   \\n  \\n3. Business Start -ups and Business Plan s \\n  \\nDo you want to start your own company, obtain self -employed status, and receive professional guidance \\nfor creating or revising your business plan?   \\n  \\n- CHF 490 (No contractual obligation)   \\n  \\n   Services Include:   \\n- Advice on choosing the legal form   \\n- Tailor -made administrative support   \\n  \\n   The Calliopée team is an expert in helping create businesses and business plans. Our teams of experts \\nsupport you through administrative procedures and the development of a successful business plan, \\nwhether you're planning to become self -employed, create a n LLC, or an SA. We assist you in setting up \\nyour company simply and swiftly.   \\n  \\n4. Withholding Taxes  \\n  \\nAs a cross -border worker or a holder of a work permit (excluding a C permit), you are subject to \\nwithholding tax. Taking your situation into account, we handle source tax calculations for you or your \\nemployees.   \\n  \", metadata={'source': '/content/sample_data/Chatbot Data/Fiduciary Services in Geneva.pdf', 'page': 2}), Document(page_content=\"- Starting from CHF 50 per employee   \\n  \\n   Make a non -binding request.   \\n  \\nAn Advantageous Fiduciary with Clear and Transparent Rates :  \\n  \\nOur team comprises multiple advisors, experts, and professionals in the Swiss financial sector, making \\nCalliopée a reference company for fiduciary services in the Swiss mar ket. Whatever your request, we can \\nprovide you with tailor -made solutions to meet your needs.   \\n  \\n- Catch up on your accounting if it's behind schedule.   \\n- Request an extension for your tax return if it's overdue.   \\n  \\nBy collaborating with a dynamic, modern, and responsive accounting team, you benefit from the best \\ntools for managing your business. Furthermore, our service costs adapt to your needs, whether you're a \\nlarge company, an SME, or a freelancer. Our team suppo rts you at all stages of your development while \\nmaintaining our rates, quality, responsiveness, and customer service at the highest standards.   \\n  \\nOur Additional Offers : \\n1. Switchboard Service  \\n  \\nCalliopée offers a switchboard service in which:   \\n- Your  calls are received.   \\n- Messages are sent to you by email/audio (WhatsApp) or other means as agreed upon with the \\ncustomer.   \\n- Your contacts or clients are welcomed during their visits to Calliopée, and the information you have \\ninstructed us to convey is trans mitted to them.   \\n  \\n   Starting from CHF 25 per month without commitment.   \\n  \\n \", metadata={'source': '/content/sample_data/Chatbot Data/Fiduciary Services in Geneva.pdf', 'page': 3}), Document(page_content='2. Secretarial Service  \\n  \\nCalliopée offers a fast secretarial service in which:   \\n- We layout your letters and documents.   \\n- We send your documents by mail upon request.   \\n- We print your  documents (printing rates* to be added to the service price).   \\n- We scan your documents.   \\n- We conduct various internet searches based on your projects.   \\n- We proofread and correct documents in French.   \\n- We respond to other requests according to our availability.   \\n  \\n   Starting from CHF 102 per hour.   \\n  \\nWould you like personalized advice for your case? Let us inform you free of charge and without \\nobligation for more information.  \\n  \\nCustomer Reviews  \\n  \\n- \"Simply perfect! Thank you for your speed and careful work! I recommend with closed eyes.\" - Alex  T.  \\n  \\n- \"Very fast and professional service! I highly recommend Calliopée.\" - Mario   \\n  \\n- \"An unbeatable location, a caring team always in a good mood. Isabel welcomes us every time with a \\nbig smile, and that makes the difference. The best prices in Geneva wit h quality service; we can only \\nrecommend Calliopée! Bravo and thank you!\" - Ines B.   \\n  \\n- \"Isabel welcomes you simply and warmly. It has developed simple, flexible, effective, and inexpensive \\nsolutions...\" - François.E.C.   \\n  ', metadata={'source': '/content/sample_data/Chatbot Data/Fiduciary Services in Geneva.pdf', 'page': 4}), Document(page_content='- \"I benefited from Calliopée\\'s serv ices for some time: I sincerely recommend the team and what it does \\nto support the independents who are starting. A great professionalism, a lot of flexibility, and always \\nbenevolent welcome make it a real support in my approach. Thank you!\" - Sophie H.   \\n  \\n- \"Impeccable welcome! Full services! Responsive and comfortable!\" - Raoul   \\n  \\n**Our Latest Articles**   \\n  \\n- [Swiss Business Plan - Models and examples for creation and development (calliopee.ch) ](#)  \\n- [Taxe sur la valeur ajoutée (TVA) : Taux applicables en Suisse en 2023 et modifications en 2024  \\n(calliopee.ch) ](#)  \\n- [La domiciliation d\\'entreprise en Suisse : avantages, options et choix de services (calliopee.ch) ](#)  \\n  \\n**Contact Information**   \\n  \\n- Rue de Chantepoulet 10, 1201 Geneva  info@calliopee.ch   \\n+41 22 564 20 30   \\n  ', metadata={'source': '/content/sample_data/Chatbot Data/Fiduciary Services in Geneva.pdf', 'page': 5}), Document(page_content=\"  Services  and Fees  of Calliopée  Business  Center  \\nWe offer eight  different type s of Domiciliations:  \\n \\n1. Domi iliation  1a : \\n Fee: CHF 80.00 per month (including VAT)  \\n Service description  of Domiciliation  1a: This includes a postal address with care of Calliopé e, \\nmail reception, email notification, and mail placement in the customer's personal mailbox.  \\nCustomers can collect mail during opening hours.  \\n \\n2. Domiciliation  1b- Registered  Address  \\n Fee:  CHF 105.00 per  month  (including  VAT)  \\n Service description  of Domiciliation  1b: This includes a postal address without care of \\nCalliopée, mail reception, email notification, and mail placement in the customer's personal \\nmailbox. Customers can collect mail during opening hours.  \\n3. Domiciliation  1as - Registered  Address  \\n Fee:  CHF 105.00  per month  (including  VAT)  \\n Service description  of Domiciliation  1as: This includes a postal address  with care of Calliopée, \\nmail reception, mail scanning, and sent by email to the client, as well as mail placement in the \\ncustomer's personal mailbox.  \\n4. Domiciliation  1bs - Registered  Address  \\n Fee:  CHF 130.00  per month  (including  VAT)  \\n Service description  of Domiciliation  1bs: This includes a postal address without care of \\nCalliopée, mail reception, mail sc anning, and sent by email to the client, as well as mail \\nplacement in the customer's personal mailbox.  \\n5. Domiciliation  2a - Registered  Address  \\n Fee:  CHF 105.00  per month  (including  VAT)  \\n Service description  of Domiciliation  2a: This includes a postal address with care of Calliopée, \\nmail reception, email notification, and mail sent by post to the address s pecified by the \\ncustomer.  \\n6. Domiciliation  2b - Registered  Address  \\n Fee:  CHF 130.00  per month  (including  VAT)  \\n Service description  of Domiciliation  2b: This includes a postal address without care of \\nCalliopée, mail reception, email notification, and mail sent by post to the address specified by \\nthe customer.  \\n7. Domiciliation  3a - Registered  Address  \\n Fee:  CHF 125.00  per month  (including  VAT)  \\n Service description  of Domiciliation  3a: This includes a postal address with care of Calliopée, \\nmail reception, mail scanning, and sent by email to the client, as well as mail sent by post to the \\naddress specified by the custome r. \", metadata={'source': '/content/sample_data/Chatbot Data/Domiciliations.pdf', 'page': 0}), Document(page_content=' \\n8. Domiciliation  3b - Registered  Address  \\n Fee:  CHF 150.00  per month  (including  VAT)  \\n Service description  of Domiciliation  3b: This includes a postal address without care of \\nCalliopée, mail reception, mail scanning, and sent by email to the client, as well as mail sent by \\npost to the address specified by the customer.  \\nAdvantages of our Domiciliation S ervices:  \\n These service s are available for companies (enterprises) only. It allows one person in the company to \\npay spe cial fees for private closed offices and individual tables in the shared coworking space.  \\n• CHF 10.80 per hour (including VAT) for a private closed office for up to 4 people.  \\n• CHF 16.15 per hour (including VAT) for a private closed office for up to 6 peop le. \\n• CHF 2.15 per hour (including VAT) for an individual coworking table in a shared (non -\\nprivate) coworking space.  \\n \\n ', metadata={'source': '/content/sample_data/Chatbot Data/Domiciliations.pdf', 'page': 1})]\n"
          ]
        }
      ]
    },
    {
      "cell_type": "code",
      "source": [
        "len(merged_data)"
      ],
      "metadata": {
        "colab": {
          "base_uri": "https://localhost:8080/"
        },
        "id": "09zKGrDOJE3J",
        "outputId": "8a4265fc-58e4-4fa3-f231-2ae9d3a2bfb1"
      },
      "execution_count": null,
      "outputs": [
        {
          "output_type": "execute_result",
          "data": {
            "text/plain": [
              "16"
            ]
          },
          "metadata": {},
          "execution_count": 47
        }
      ]
    },
    {
      "cell_type": "code",
      "source": [
        "print(merged_data[0])"
      ],
      "metadata": {
        "colab": {
          "base_uri": "https://localhost:8080/"
        },
        "id": "4NZm-_U_JJEn",
        "outputId": "74df1923-747a-487a-ee27-30f12c50e4f6"
      },
      "execution_count": null,
      "outputs": [
        {
          "output_type": "stream",
          "name": "stdout",
          "text": [
            "page_content=\"Creating Your Business Plan: Templates and Examples\\n\\nAre you an entrepreneur or aspiring to be one? Do you have a business idea but don't know where to\\n\\nstart? Look no further, because creating a solid business plan is the first step towards turning your idea\\n\\ninto a successful business.\\n\\nWhat is a Business Plan and How Important Is It?\\n\\nA business plan is a written document that outlines a company's goals, strategies, and potential\\n\\nchallenges. It serves as a roadmap, providing clear direction and defining the steps necessary for a\\n\\ncompany's success.\\n\\nIn Switzerland, a business plan is particularly important because it helps entrepreneurs and investors\\n\\nassess the feasibility of a business idea in a competitive market. A well-developed business plan can:\\n\\nHighlight the potential for success.\\n\\nIdentify challenges.\\n\\nProvide a clear path for business growth.\\n\\nFacilitate obtaining financing from investors and banks.\\n\\nHow to Create a Business Plan:\\n\\nWhen creating a business plan, it's essential to focus on its content. Understanding what to include is\\n\\ncrucial for its success. The typical content of a business plan includes:\\n\\n1. Summary: Highlighting objectives, mission, target market, products/services, and financial\\n\\nprojections. This section should grab attention and emphasize the most critical aspects of your business.\\n\\n2. Company Description: Detailed information about your business, including history, location,\\n\\nlegal structure, ownership, products/services, and competitive advantages.3. Market Analysis: In-depth market analysis, including the industry sector, target market, and an\\n\\nevaluation of competition to identify potential opportunities and challenges.\\n\\n4. Product/Service Description: Detailed features, benefits, and advantages of your products or\\n\\nservices, emphasizing what sets you apart from competitors.\\n\\n5. Marketing and Sales Strategies: Explanation of how you will promote your business, reach your\\n\\ntarget market, and generate sales, including any pricing strategies.\\n\\n6. Operations: Detailed description of daily business operations, including facilities, equipment,\\n\\nstaffing requirements, and any legal permits or licenses needed.\\n\\n7. Financial Projections: Revenue and expense forecasts, financial statements such as balance\\n\\nsheets, income statements, and cash flow statements to assess your business's financial health.\\n\\n8. Appendix: Additional relevant information, such as key personnel resumes, patents or\\n\\ntrademarks, and supporting documents.\\n\\n9. Regular Review: It's essential to periodically revise your business plan as your business grows\\n\\nand evolves to ensure its relevance and effectiveness.\\n\\nWhy Choose Calliopée to Help You Create Your Business Plan?\\n\\nOur team boasts extensive experience in the business planning process, offering personalized advice\\n\\ntailored to your unique needs. Our collaborative approach ensures close teamwork, enabling you to\\n\\nshare your ideas, goals, and aspirations. Here's why you should choose Calliopée:\\n\\n1. Transparent Communication: We prioritize transparent communication to ensure your business\\n\\nplan accurately reflects your values and ambitions.\\n\\n2. Models and Examples: By partnering with us, you gain access to proven business plan templates\\n\\nand examples, along with state-of-the-art tools and resources to simplify the creative process.3. Guided Support: We provide step-by-step guidance to ensure your business plan is\\n\\ncomprehensive, compelling, and of the highest quality.\" metadata={'source': '/content/sample_data/Chatbot Data/Busness Plan Creation.txt'}\n"
          ]
        }
      ]
    },
    {
      "cell_type": "code",
      "source": [
        "merged_data"
      ],
      "metadata": {
        "colab": {
          "base_uri": "https://localhost:8080/"
        },
        "id": "gg_2TMaTZhNf",
        "outputId": "ddcd5f89-6f01-4204-d107-53ac3666922f"
      },
      "execution_count": null,
      "outputs": [
        {
          "output_type": "execute_result",
          "data": {
            "text/plain": [
              "[Document(page_content=\"Creating Your Business Plan: Templates and Examples\\n\\nAre you an entrepreneur or aspiring to be one? Do you have a business idea but don't know where to\\n\\nstart? Look no further, because creating a solid business plan is the first step towards turning your idea\\n\\ninto a successful business.\\n\\nWhat is a Business Plan and How Important Is It?\\n\\nA business plan is a written document that outlines a company's goals, strategies, and potential\\n\\nchallenges. It serves as a roadmap, providing clear direction and defining the steps necessary for a\\n\\ncompany's success.\\n\\nIn Switzerland, a business plan is particularly important because it helps entrepreneurs and investors\\n\\nassess the feasibility of a business idea in a competitive market. A well-developed business plan can:\\n\\nHighlight the potential for success.\\n\\nIdentify challenges.\\n\\nProvide a clear path for business growth.\\n\\nFacilitate obtaining financing from investors and banks.\\n\\nHow to Create a Business Plan:\\n\\nWhen creating a business plan, it's essential to focus on its content. Understanding what to include is\\n\\ncrucial for its success. The typical content of a business plan includes:\\n\\n1. Summary: Highlighting objectives, mission, target market, products/services, and financial\\n\\nprojections. This section should grab attention and emphasize the most critical aspects of your business.\\n\\n2. Company Description: Detailed information about your business, including history, location,\\n\\nlegal structure, ownership, products/services, and competitive advantages.3. Market Analysis: In-depth market analysis, including the industry sector, target market, and an\\n\\nevaluation of competition to identify potential opportunities and challenges.\\n\\n4. Product/Service Description: Detailed features, benefits, and advantages of your products or\\n\\nservices, emphasizing what sets you apart from competitors.\\n\\n5. Marketing and Sales Strategies: Explanation of how you will promote your business, reach your\\n\\ntarget market, and generate sales, including any pricing strategies.\\n\\n6. Operations: Detailed description of daily business operations, including facilities, equipment,\\n\\nstaffing requirements, and any legal permits or licenses needed.\\n\\n7. Financial Projections: Revenue and expense forecasts, financial statements such as balance\\n\\nsheets, income statements, and cash flow statements to assess your business's financial health.\\n\\n8. Appendix: Additional relevant information, such as key personnel resumes, patents or\\n\\ntrademarks, and supporting documents.\\n\\n9. Regular Review: It's essential to periodically revise your business plan as your business grows\\n\\nand evolves to ensure its relevance and effectiveness.\\n\\nWhy Choose Calliopée to Help You Create Your Business Plan?\\n\\nOur team boasts extensive experience in the business planning process, offering personalized advice\\n\\ntailored to your unique needs. Our collaborative approach ensures close teamwork, enabling you to\\n\\nshare your ideas, goals, and aspirations. Here's why you should choose Calliopée:\\n\\n1. Transparent Communication: We prioritize transparent communication to ensure your business\\n\\nplan accurately reflects your values and ambitions.\\n\\n2. Models and Examples: By partnering with us, you gain access to proven business plan templates\\n\\nand examples, along with state-of-the-art tools and resources to simplify the creative process.3. Guided Support: We provide step-by-step guidance to ensure your business plan is\\n\\ncomprehensive, compelling, and of the highest quality.\", metadata={'source': '/content/sample_data/Chatbot Data/Busness Plan Creation.txt'}),\n",
              " Document(page_content=\"**Mastering Project Management: PMI and SCRUM Approaches**\\n\\nLearn how to create and execute your project effectively using PMI and SCRUM methodologies in just 36\\n\\ndays with ProjectMaster, the most comprehensive project management program.\\n\\n**ProjectMaster Features:**\\n\\nFull 6-week ProjectMaster training program.\\n\\nAccess to ProjectMaster document templates.\\n\\nBONUS: Tests and level checks to qualify for PMP or SCRUM certification preparation.\\n\\nOptional individual or group coaching sessions conducted remotely to help you analyze, plan, and\\n\\npresent your project effectively.\\n\\n**Pricing:**\\n\\nCourse platform: CHF 997 or 12 x CHF 99\\n\\nSmall group coaching: CHF 720 or 12 x CHF 67\\n\\nIndividualized coaching: CHF 1,720 or 12 x CHF 150\\n\\n**Register now | Contact us**\\n\\n**Objective:**\\n\\nObtain essential worldwide-recognized tools and techniques from an experienced Project Manager and\\n\\nvalidate your achievements.\\n\\n**Training Duration:**\\n\\n12 months\\n\\n**Course Format:**\\n\\nOnline, including videos, webinars, and documents.If you aspire to become a project manager proficient in both predictive and agile project management\\n\\napproaches, aligned with PMI and SCRUM standards, this program is tailored for you. Whether you\\n\\nmanage projects in your organization or privately, acquiring these tools can make a substantial difference\\n\\nin your career.\\n\\n**Are you in this situation? **\\n\\nMany project managers, despite their experience, lack formal training in project management\\n\\nmethodologies, which can lead to inefficiencies and reduced confidence in their abilities.\\n\\nProjectMaster is here to bridge that gap.\\n\\n**What is ProjectMaster? **\\n\\nProjectMaster is a 6-week online course with optional individual or team coaching. It equips you with\\n\\nsought-after tools and techniques to manage professional and personal projects effectively.\\n\\n**Who is it for? **\\n\\nProjectMaster is designed for anyone looking to gain expertise in project management tools and\\n\\ntechniques, including Project Managers, Project Assistants, Department Managers, and specialists from\\n\\nvarious domains such as HR, Marketing, and Technical Business.\\n\\n**No prior qualifications required:**\\n\\nYou don't need specific qualifications to enroll; ProjectMaster covers the fundamentals of predictive and\\n\\nagile project management. For PMP or SCRUM certifications, prerequisites will be provided in relevant\\n\\ncourses.\\n\\n**How does it work? **1) Review course videos and materials.\\n\\n2) Apply the tools and bonuses to your projects.\\n\\n3) Opt for individual or team coaching, present your project's progress, create a project plan, and receive\\n\\npersonalized feedback.\\n\\n**Start at Your Convenience:**\\n\\nProjectMaster is an online program, so you can begin whenever you're ready. You have 12 months of\\n\\naccess to the platform. Coaching sessions will be scheduled within 5 days of your registration.\\n\\n**Why ProjectMaster? **\\n\\nThis program was created to offer flexible, self-paced learning combined with regular interaction to\\n\\nsupport participants throughout their journey. Over 3,000 people have benefited from ProjectMaster.\\n\\n**Meet Patricia Malanda:**\\n\\nPatricia is the founder of the ProjectMaster Method and co-founder of Calliopée Sàrl in Geneva. She has\\n\\n30 years of experience in various fields and holds certifications as a PMP, ScrumMaster, and Success\\n\\nInsights.\\n\\n**Additional Bonus:**\\n\\nIn addition to the video training platform, you'll receive FREE ProjectMaster documents and benchmarks\\n\\nto:\\n\\nImmediately apply theoretical concepts to your projects.\\n\\nCreate a document database for your organization.\\n\\nModify and adapt templates to your specific needs.\\n\\nValidate your knowledge and readiness for PMP or SCRUM certification. **Frequently Asked Questions:**\\n\\nWill this method work for my project?\\n\\nYes, the tools and techniques taught are applicable to various project types.\\n\\nIs it suitable for different cultures or countries?\\n\\nProject management is based on international standards, making it universally applicable.\\n\\nHow long is the access to the training program?\\n\\nYou have 12 months of access to the program and bonus materials. Coaching sessions are included if\\n\\nyou choose that option.\\n\\nAre any qualifications required?\\n\\nNo specific qualifications are needed to start the training. Prerequisites for certifications are provided\\n\\nin related courses.\\n\\nCan this program facilitate a career change?\\n\\nAbsolutely! Proficiency in project management is highly sought after and can lead to career growth.\\n\\nHow long does it take to complete the program?\\n\\nYou can complete it in about 10 days, but you have up to 12 months to finish at your own pace.\\n\\n**Register now | Contact us**\\n\\nAddress: Rue de Chantepoulet 10, 1201 Geneva\\n\\nEmail: info@calliopee.ch\\n\\nPhone: +41 22 564 20 30\\n\\n**Learn more:**[Link to Business Plan Swiss - Models and Examples for Creation and Development]\\n\\n[Link to Taxe sur la Valeur Ajoutée (TVA) - Applicable Rates in Switzerland in 2023 and Changes in 2024]\\n\\n[Link to Domiciliation of Companies in Switzerland: Advantages, Options, and Service Choices]\\n\\nPlease note that the URLs for additional information have not been provided in the text. *\", metadata={'source': '/content/sample_data/Chatbot Data/Project Management.txt'}),\n",
              " Document(page_content='**PMI® Authorized Training Partner (ATP)**\\n\\nIn 2020, Calliopée Sàrl proudly became an Authorized Training Partner of the Project Management Institute (PMI)®, headquartered in Philadelphia, Pennsylvania, USA.\\n\\nPMI® is the global leader in project management, renowned for its Project Management Body of Knowledge (PMBOK), which is an internationally recognized standard aligned with ISO 21502:2020.\\n\\nAs an Authorized Training Partner, Calliopée is authorized to offer courses developed by PMI® specifically designed to prepare individuals for the fully revised PMP® Certification exam introduced in 2021.\\n\\nFurthermore, Calliopée has the privilege of integrating PMI-Approved Instructors, enabling us to establish partnerships with external trainers sponsored by Calliopée. These approved instructors can provide preparation courses for the PMP® Certification, offering a comprehensive learning experience.\\n\\n**PMI-Approved Internal Instructor:**\\n\\n**Patricia Malanda**\\n\\nCertifications: PMP®, ScrumMaster™, Self-Leadership\\n\\nDiplomas: MBA, DAS Project Management, BBA Bachelor Business Administration\\n\\nCurrent Position: Co-founder and co-manager of Calliopée Sàrl since 2011\\n\\nBusiness consultant for start-ups and SMEs, specializing in Project Management and Organizational Change Management across various fields, including watch manufacturing, banks, industrial services, municipal administrations, works management, IT development, hospitals, handling agents (airports), air navigation, international schools, and communication agencies.\\n\\nLecturer at institutions such as the University of Bern (BNF National Qualification Programme for Highly Qualified Profiles), SAWI (Federal Diploma Web Project Manager), Swiss Foundation for Studies (Communication and Project Management Workshops for young talents), and CVCI (Federal Diploma Specialist Retail Trade). Patricia has also served as a lecturer at the Centre Patronal Vaudois, focusing on International Management Training, Project Management, Staff Development, and HR Certificate programs.\\n\\n**PMI-Approved External Instructor Sponsored by Calliopée:**\\n\\n**Karine Cabourg**\\n\\nCertifications: PMP®, PMI-PBA®, CBAP® (Certified Business Analyst Professional), Professional Scrum Master™, Professional Scrum Product Owner™, Hermes\\n\\nDiplomas: Master MIAGE (Computer Methods Applied to Business Management), BFFA (Federal Certificate of Adult Trainer)\\n\\nCurrent Position: CEO of Smart Gecko SA since 2014\\n\\nKarine serves as a business consultant, specializing in Project Management and Business Analysis. Her expertise spans various domains, including Human Resources, Insurance, and IT, with extensive experience in sectors such as the public, health, administrative, and financial industries, focusing on digitalization and organizational change projects.\\n\\nKarine is also an accomplished lecturer, providing training in Project Management and Business Analysis to companies, public organizations, and the manufacturing and industry sectors. She is associated with the Centre Patronal Vaudois - Romandie Training, offering courses in Project Management and Business Analysis.\\n\\nFor more information on their PMP® preparation courses and our offerings, please visit our website.\\n\\n**Location:**\\n\\nRue de Chantepoulet 10, 1201 Geneva\\n\\n**Contact Information:**\\n\\n**Email:** info@calliopee.ch\\n\\n**Phone:** +41 22 564 20 30\\n\\nExplore our **Terms & Conditions** and our **Customer Complaint Resolution Process** for transparency and accountability. We are proud to share that the media has been talking about us.\\n\\nThank you for considering Calliopée as your trusted partner in achieving PMI® certifications and enhancing your project management skills.', metadata={'source': '/content/sample_data/Chatbot Data/PMI ATP Instructors Partnership.doc'}),\n",
              " Document(page_content='How to Prepare for a Job Interview and Negotiate the Best Possible Contract By Calliopée Sàrl\\n\\nWhen your CV and cover letter have successfully secured you an interview, thorough preparation becomes essential. The effort you put into your application will only pay off if you present yourself effectively during the interview.\\n\\nRecruiters who invite you to an interview are typically already impressed by your profile and skills as presented in your CV and cover letter. Now, they want to assess your personality and your ability to fit into the company culture. During the interview, it\\'s your character and your capacity to respond to specific questions that will be under scrutiny.\\n\\nThe first rule is to remain true to yourself, but to convey yourself effectively, you need good preparation.\\n\\nYou\\'ve already developed your CV, emphasizing your achievements, and established connections between your experience and the company in your cover letter. You may also have a list of recognitions from your previous employers. Now, it\\'s time to synthesize it all with confidence and presence.\\n\\nInterviews can take various forms, so it\\'s crucial to adapt rather than memorize a script. You should stay engaged, read your interviewer\\'s cues, understand their needs, and adjust your responses accordingly. To achieve this, you must be calm, composed, and well-rested.\\n\\nHere\\'s a typical interview approach:\\n\\nIntroduction: The recruiter may ask you to introduce yourself briefly. They might pose the classic question, \"Tell me about yourself.\"\\n\\nPrepare a concise self-introduction that you can deliver in 2 to 5 minutes. It can be structured like this:\\n\\n\"Thank you for having me today. I\\'d like to introduce myself along three key axes. First, my expertise in..., second, my organizational skills, and finally, a more personal touch highlighting my interpersonal skills.\" Provide one or two examples for each point and then give your interviewer a chance to speak.\\n\\nPosition and Skills Assessment: The recruiter introduces the job and asks questions to delve into your ability to meet their expectations.\\n\\nAlways respond with examples. Keep your responses concise and use illustrations to bring your answers to life.\\n\\nStrengths and Contributions: You might be asked to discuss your strengths and what you can bring to the company.\\n\\nAgain, use examples and reference your previous employers to demonstrate your strengths. Don\\'t shy away from discussing challenges you\\'ve faced and how you\\'ve overcome them.\\n\\nAsk Questions: Towards the end of the interview, it\\'s your turn to ask questions. Prepare inquiries related to the company, its growth, its customers—nothing too intrusive, but questions that demonstrate your interest, motivation, and knowledge of the market and the company\\'s challenges.\\n\\nYou can ask questions like, \"What qualities do you expect from me for this job?\" or \"What skills is the company currently lacking?\"\\n\\nFollow-Up: After the interview, leave politely, expressing your gratitude. Send a thank-you message within a day, reiterating your interest in the position and possibly including additional documents that reinforce your points from the interview (e.g., a work certificate or reference letter).\\n\\nIn summary, your interview must be meticulously prepared. Consider the achievements you want to emphasize, how you\\'ll articulate them in your 2-5 minute introduction, which examples you\\'ll choose to illustrate your answers, the recognitions from your previous employers that you\\'ll present, and the insightful questions you\\'ll ask the potential employer.\\n\\nPreparation should include studying the company\\'s website, reviewing articles about the company, researching the interviewers, and keeping the key points of the job advertisement in mind to refer to during the conversation. Keep your sentences short, strike a balance between speaking and listening, and focus on delivering quality information.\\n\\nA good night\\'s sleep before the interview will help you stay alert and receptive during this critical exchange. Believe in yourself, take a deep breath before entering the company, and approach the experience as an enjoyable moment.\\n\\nNegotiating Your Contract:\\n\\nNegotiating your employment contract can be challenging, but it\\'s crucial to ensure you get what you deserve. Here are some key points to help you secure the best possible contract:\\n\\nFocus on the Value You Bring: Highlight the value you will bring to the company. Companies are primarily interested in solving their problems. Show that you are the solution to their challenges and that your contribution will greatly enhance the company\\'s value.\\n\\nQuantify Your Impact: Salary is a significant expense for employers. Quantify your potential return on investment. Explain how you will contribute to the company\\'s success and how the value you bring far outweighs the salary you\\'re requesting.\\n\\nBy following these steps, you can negotiate a contract that reflects your true worth.\\n\\nRemember that a well-prepared interview and effective contract negotiation can make a substantial difference in your job search success.\\n\\nIf you want to delve deeper into these topics, consider attending my online conference \"JobMaster.\" It covers strategies for standing out in the job market, creating compelling job applications, and excelling in job interviews. You can register for the free JobMaster conference [here](insert link).\\n\\nWith these approaches, you\\'ll discover how logical and effective it is to land the right job with the right contract that matches your value.', metadata={'source': '/content/sample_data/Chatbot Data/How to Prepare for a Job Interview and Negotiate the Best Possible Contract.doc'}),\n",
              " Document(page_content=\"**Company Domiciliation in Switzerland: Advantages, Options, and Service Choices**  \\n \\n*Last updated: June 13*  \\n \\n**Definition of Company Domiciliation in Switzerland**  \\n \\nCompany domiciliation is a service provided by a domiciliation company that allows a business to have a \\nprestigious address for its registered office, along with associated services such as mail handling and the \\nprovision of office space or meeting rooms.  \\n \\nFor many, domiciling a company in Switzerland has become an increasingly popular choice for those \\nlooking to establish their business in a stable and reputable location. Switzerland is well -known for its \\nfavorable business environment, political stability,  and advantageous tax policies. In this article, you'll \\ndiscover why domiciling a company in Switzerland is so appealing, what types of domiciliation \\ncompanies to choose from, and, most importantly, the services they offer for your business.  \\n \\n**Benefits of Domiciling Your Company in Switzerland**  \\n \\nDomiciling a company in Switzerland can be done in various locations. Having a registered office in \\nSwitzerland provides significant credibility and reputation benefits for businesses, in addition to offering \\ntax advantages.  \\n \\nBusinesses opting to domicile in Switzerland can also choose from a variety of options for their postal \\naddress, including city centers or suburban areas.  \\n \\n**Switzerland's Reputation as an Economic and Financial Center**  \\n \\nSwitzerland is renowned for being a prosperous country with a dynamic economy. By domiciling your \\ncompany in Switzerland, you could gain easier access to business opportunities and international \\nmarkets. This is particularly true for companies operating in  key sectors such as finance, life sciences, and \\ninformation technology.  \\n \", metadata={'source': '/content/sample_data/Chatbot Data/Company Domiciliation in Switzerland.pdf', 'page': 0}),\n",
              " Document(page_content=\"As an entrepreneur looking to domicile your company in Switzerland, it's essential to understand the \\nlegal requirements and obligations associated with company domiciliation.  \\n \\nDomiciling a company involves selecting a physical location for your business, registering your company \\nwith Swiss tax authorities, obtaining liability insurance, and complying with all local laws and regulations.  \\n \\nCompany domiciliation in Switzerland can be carried out in various cities, including Geneva and Zurich, \\nthe country's two largest cities.  \\n \\nGeneva is considered a global hub for businesses and international organizations, while Zurich is a \\nfinancial and technological center.  \\n \\n**Choosing Your Company Domiciliation Service in Switzerland**  \\n \\nWhen domiciling your company in Switzerland, you must select an authorized domiciliation provider. \\nDomiciliation providers are companies that offer domiciliation services to businesses and entrepreneurs. \\nThey can also provide services such as opening bank accounts and registering with the commercial \\nregistry.  \\n \\nCompanies choosing to domicile their businesses in Switzerland can select from various domiciliation \\nservices, including virtual offices and mailbox addresses.  \\n \\nVirtual offices allow entrepreneurs to benefit from a prestigious address and a local phone number \\nwithout having to rent physical office space. Mailbox addresses can be used to receive mail and packages \\nbut do not provide physical workspace.  \\n \\nIf you're an entrepreneur looking to domicile your company in Switzerland, it's essential to understand \\nyour options and choose the right domiciliation service for your needs. There are numerous \\ndomiciliation companies in Switzerland offering a range of se rvices, including fiduciary services to help \\nbusinesses comply with all local laws and regulations.  \\n \\n**Creating a Company in Switzerland**  \\n \", metadata={'source': '/content/sample_data/Chatbot Data/Company Domiciliation in Switzerland.pdf', 'page': 1}),\n",
              " Document(page_content=\"Creating a company in Switzerland can be a complex and meticulous process for entrepreneurs who are \\nnot familiar with the country's laws and regulations.  \\n \\nFortunately, many companies offer business creation services, which can be beneficial for entrepreneurs \\nlooking to establish a company in Switzerland.  \\n \\nThese companies can provide various services to help entrepreneurs create their businesses in \\nSwitzerland. This can include registering the company with Swiss authorities, establishing a registered \\noffice and postal address, and providing company domicilia tion services for businesses that do not yet \\nhave physical premises.  \\n \\n**Who Is Company Domiciliation in Switzerland Suitable For?**  \\n \\nCompany domiciliation in Switzerland is particularly useful for businesses that do not require physical \\nspace to conduct their operations. Businesses that provide online services, for example, often do not \\nneed physical premises for their operations. In su ch cases, company domiciliation in Switzerland can be \\nan appealing option.  \\n \\n**Other Services Offered by a Company Domiciliation Provider in Switzerland**  \\n \\nCompanies offering company domiciliation services in Switzerland can offer a variety of options to meet \\ntheir clients' needs. This can include options for receiving mail and packages, as well as options for \\nreceiving phone calls and faxes.  \\n \\nIn addition to company domiciliation, business creation companies can also provide fiduciary services to \\nhelp entrepreneurs manage their financial affairs. This can include accounting and payroll management \\nservices, as well as advice on Swiss tax and fina ncial regulations.  \\n \\nBusiness creation companies can also offer advisory services to help entrepreneurs make important \\ndecisions related to establishing a company in Switzerland. This can include advice on choosing the legal \\nform of the company, such as creating an LLC in Swit zerland, as well as advice on local regulations and \\nlabor laws.  \\n \\n**Summary of the Benefits of Company Domiciliation in Switzerland**  \", metadata={'source': '/content/sample_data/Chatbot Data/Company Domiciliation in Switzerland.pdf', 'page': 2}),\n",
              " Document(page_content=' \\nIn summary, business creation companies offer a range of services to help entrepreneurs establish their \\ncompanies in Switzerland. These services can include company domiciliation, fiduciary services, advisory \\nservices, and even translation services.  \\n \\nBy using these services, entrepreneurs can benefit from additional support in creating and domiciling \\ntheir companies in Switzerland, allowing them to focus on growing and developing their businesses.  ', metadata={'source': '/content/sample_data/Chatbot Data/Company Domiciliation in Switzerland.pdf', 'page': 3}),\n",
              " Document(page_content=\"Fiduciary Services in Geneva  by Calliopée Sàrl  \\n \\n  \\nAdministrative Management for Individuals, Companies, and Self -Employed  \\n  \\nImagine having personalized administrative and tax support for your company, self -employment, or \\nindividual needs.   \\n  \\nGet support from fiduciary accountants and financial specialists at the best rates possible.   \\n  \\nAt Calliopée Business Center in Geneva, yo u can access a network of accountants and fiduciaries offering \\nthese services.   \\n  \\nLocated in downtown Geneva for over 8 years, our quality services and unique expertise have saved \\nmore than 300 customers each year time and money in terms of domiciliation, administrative, and \\naccounting management, thanks to our specialists.   \\n  \\nWhether you're an individual, self -employed, or a company, our team handles all your administrative \\nprocedures, including tax returns, accounting, VAT returns, balance sheets, and mor e.  \\n  \\nRegardless of the complexity of your needs, our network of experts in accounting, administration, and \\nlegal matters will guide you step by step and provide tailor -made services to ensure the personal or \\nprofessional success of your activities.   \\n  \\nSo, ask yourself: Is it time to have personal and professional administrative support at your fingertips?   \\n  \\nIf you want a flexible and available team by your side, choose Calliopée's fiduciary and accounting \\nexperts.   \\n  \\n \\n \", metadata={'source': '/content/sample_data/Chatbot Data/Fiduciary Services in Geneva.pdf', 'page': 0}),\n",
              " Document(page_content=\"1. Tax Return in Geneva (for Swiss and French Residents)  \\n  \\nOur accountants put their experience to work for you, completing your tax return accurately. Entrust \\nyour tax return to the experts.   \\n  \\n- Starting from CHF 280 (individual)   \\n- Starting from CHF 200 (company)   \\n  \\n   Services Include:   \\n- Support for your salary cer tificates   \\n- Bank account statement   \\n- Premium settlements   \\n- Certificate of health and accident insurance   \\n- Proof of credits, mortgages, and a certificate of wealth   \\n- Sending the declaration to the FTA (Federal Tax Administration)   \\n  \\n   If you're running late, our team can request a deadline extension for you.   \\n  \\n2. Online  co-mptability  \\n  \\nOur specialists, accountants, and fiduciaries ensure the meticulous management of your accounts, be it \\ngeneral or third -party, and the daily monitoring of your accounting entries.   \\n  \\n- Starting from CHF 75 per month without commitment   \\n  \\n   Depending on the chosen plan, the following services will be provided:   \\n- Capturing your financial transactions daily   \\n- Calculating VAT   \\n- Managing your VAT statements and declarations   \", metadata={'source': '/content/sample_data/Chatbot Data/Fiduciary Services in Geneva.pdf', 'page': 1}),\n",
              " Document(page_content=\"- Preparing salary slips for your employees and yourself   \\n- Preparing annual financial statement s  \\n- Finalizing annual salary declarations   \\n- Closing your accounts and balance sheet   \\n- Preparing and submitting your tax return to the FTA   \\n  \\n   By choosing Calliopée, you're opting for a fiduciary known for its customer service. You can track your \\nfinancial d ashboard in real -time through our online interface.   \\n  \\n3. Business Start -ups and Business Plan s \\n  \\nDo you want to start your own company, obtain self -employed status, and receive professional guidance \\nfor creating or revising your business plan?   \\n  \\n- CHF 490 (No contractual obligation)   \\n  \\n   Services Include:   \\n- Advice on choosing the legal form   \\n- Tailor -made administrative support   \\n  \\n   The Calliopée team is an expert in helping create businesses and business plans. Our teams of experts \\nsupport you through administrative procedures and the development of a successful business plan, \\nwhether you're planning to become self -employed, create a n LLC, or an SA. We assist you in setting up \\nyour company simply and swiftly.   \\n  \\n4. Withholding Taxes  \\n  \\nAs a cross -border worker or a holder of a work permit (excluding a C permit), you are subject to \\nwithholding tax. Taking your situation into account, we handle source tax calculations for you or your \\nemployees.   \\n  \", metadata={'source': '/content/sample_data/Chatbot Data/Fiduciary Services in Geneva.pdf', 'page': 2}),\n",
              " Document(page_content=\"- Starting from CHF 50 per employee   \\n  \\n   Make a non -binding request.   \\n  \\nAn Advantageous Fiduciary with Clear and Transparent Rates :  \\n  \\nOur team comprises multiple advisors, experts, and professionals in the Swiss financial sector, making \\nCalliopée a reference company for fiduciary services in the Swiss mar ket. Whatever your request, we can \\nprovide you with tailor -made solutions to meet your needs.   \\n  \\n- Catch up on your accounting if it's behind schedule.   \\n- Request an extension for your tax return if it's overdue.   \\n  \\nBy collaborating with a dynamic, modern, and responsive accounting team, you benefit from the best \\ntools for managing your business. Furthermore, our service costs adapt to your needs, whether you're a \\nlarge company, an SME, or a freelancer. Our team suppo rts you at all stages of your development while \\nmaintaining our rates, quality, responsiveness, and customer service at the highest standards.   \\n  \\nOur Additional Offers : \\n1. Switchboard Service  \\n  \\nCalliopée offers a switchboard service in which:   \\n- Your  calls are received.   \\n- Messages are sent to you by email/audio (WhatsApp) or other means as agreed upon with the \\ncustomer.   \\n- Your contacts or clients are welcomed during their visits to Calliopée, and the information you have \\ninstructed us to convey is trans mitted to them.   \\n  \\n   Starting from CHF 25 per month without commitment.   \\n  \\n \", metadata={'source': '/content/sample_data/Chatbot Data/Fiduciary Services in Geneva.pdf', 'page': 3}),\n",
              " Document(page_content='2. Secretarial Service  \\n  \\nCalliopée offers a fast secretarial service in which:   \\n- We layout your letters and documents.   \\n- We send your documents by mail upon request.   \\n- We print your  documents (printing rates* to be added to the service price).   \\n- We scan your documents.   \\n- We conduct various internet searches based on your projects.   \\n- We proofread and correct documents in French.   \\n- We respond to other requests according to our availability.   \\n  \\n   Starting from CHF 102 per hour.   \\n  \\nWould you like personalized advice for your case? Let us inform you free of charge and without \\nobligation for more information.  \\n  \\nCustomer Reviews  \\n  \\n- \"Simply perfect! Thank you for your speed and careful work! I recommend with closed eyes.\" - Alex  T.  \\n  \\n- \"Very fast and professional service! I highly recommend Calliopée.\" - Mario   \\n  \\n- \"An unbeatable location, a caring team always in a good mood. Isabel welcomes us every time with a \\nbig smile, and that makes the difference. The best prices in Geneva wit h quality service; we can only \\nrecommend Calliopée! Bravo and thank you!\" - Ines B.   \\n  \\n- \"Isabel welcomes you simply and warmly. It has developed simple, flexible, effective, and inexpensive \\nsolutions...\" - François.E.C.   \\n  ', metadata={'source': '/content/sample_data/Chatbot Data/Fiduciary Services in Geneva.pdf', 'page': 4}),\n",
              " Document(page_content='- \"I benefited from Calliopée\\'s serv ices for some time: I sincerely recommend the team and what it does \\nto support the independents who are starting. A great professionalism, a lot of flexibility, and always \\nbenevolent welcome make it a real support in my approach. Thank you!\" - Sophie H.   \\n  \\n- \"Impeccable welcome! Full services! Responsive and comfortable!\" - Raoul   \\n  \\n**Our Latest Articles**   \\n  \\n- [Swiss Business Plan - Models and examples for creation and development (calliopee.ch) ](#)  \\n- [Taxe sur la valeur ajoutée (TVA) : Taux applicables en Suisse en 2023 et modifications en 2024  \\n(calliopee.ch) ](#)  \\n- [La domiciliation d\\'entreprise en Suisse : avantages, options et choix de services (calliopee.ch) ](#)  \\n  \\n**Contact Information**   \\n  \\n- Rue de Chantepoulet 10, 1201 Geneva  info@calliopee.ch   \\n+41 22 564 20 30   \\n  ', metadata={'source': '/content/sample_data/Chatbot Data/Fiduciary Services in Geneva.pdf', 'page': 5}),\n",
              " Document(page_content=\"  Services  and Fees  of Calliopée  Business  Center  \\nWe offer eight  different type s of Domiciliations:  \\n \\n1. Domi iliation  1a : \\n Fee: CHF 80.00 per month (including VAT)  \\n Service description  of Domiciliation  1a: This includes a postal address with care of Calliopé e, \\nmail reception, email notification, and mail placement in the customer's personal mailbox.  \\nCustomers can collect mail during opening hours.  \\n \\n2. Domiciliation  1b- Registered  Address  \\n Fee:  CHF 105.00 per  month  (including  VAT)  \\n Service description  of Domiciliation  1b: This includes a postal address without care of \\nCalliopée, mail reception, email notification, and mail placement in the customer's personal \\nmailbox. Customers can collect mail during opening hours.  \\n3. Domiciliation  1as - Registered  Address  \\n Fee:  CHF 105.00  per month  (including  VAT)  \\n Service description  of Domiciliation  1as: This includes a postal address  with care of Calliopée, \\nmail reception, mail scanning, and sent by email to the client, as well as mail placement in the \\ncustomer's personal mailbox.  \\n4. Domiciliation  1bs - Registered  Address  \\n Fee:  CHF 130.00  per month  (including  VAT)  \\n Service description  of Domiciliation  1bs: This includes a postal address without care of \\nCalliopée, mail reception, mail sc anning, and sent by email to the client, as well as mail \\nplacement in the customer's personal mailbox.  \\n5. Domiciliation  2a - Registered  Address  \\n Fee:  CHF 105.00  per month  (including  VAT)  \\n Service description  of Domiciliation  2a: This includes a postal address with care of Calliopée, \\nmail reception, email notification, and mail sent by post to the address s pecified by the \\ncustomer.  \\n6. Domiciliation  2b - Registered  Address  \\n Fee:  CHF 130.00  per month  (including  VAT)  \\n Service description  of Domiciliation  2b: This includes a postal address without care of \\nCalliopée, mail reception, email notification, and mail sent by post to the address specified by \\nthe customer.  \\n7. Domiciliation  3a - Registered  Address  \\n Fee:  CHF 125.00  per month  (including  VAT)  \\n Service description  of Domiciliation  3a: This includes a postal address with care of Calliopée, \\nmail reception, mail scanning, and sent by email to the client, as well as mail sent by post to the \\naddress specified by the custome r. \", metadata={'source': '/content/sample_data/Chatbot Data/Domiciliations.pdf', 'page': 0}),\n",
              " Document(page_content=' \\n8. Domiciliation  3b - Registered  Address  \\n Fee:  CHF 150.00  per month  (including  VAT)  \\n Service description  of Domiciliation  3b: This includes a postal address without care of \\nCalliopée, mail reception, mail scanning, and sent by email to the client, as well as mail sent by \\npost to the address specified by the customer.  \\nAdvantages of our Domiciliation S ervices:  \\n These service s are available for companies (enterprises) only. It allows one person in the company to \\npay spe cial fees for private closed offices and individual tables in the shared coworking space.  \\n• CHF 10.80 per hour (including VAT) for a private closed office for up to 4 people.  \\n• CHF 16.15 per hour (including VAT) for a private closed office for up to 6 peop le. \\n• CHF 2.15 per hour (including VAT) for an individual coworking table in a shared (non -\\nprivate) coworking space.  \\n \\n ', metadata={'source': '/content/sample_data/Chatbot Data/Domiciliations.pdf', 'page': 1})]"
            ]
          },
          "metadata": {},
          "execution_count": 49
        }
      ]
    },
    {
      "cell_type": "markdown",
      "source": [
        "# **Splitting Data**"
      ],
      "metadata": {
        "id": "sJ6e2400hHkP"
      }
    },
    {
      "cell_type": "code",
      "source": [
        "text_splitter = RecursiveCharacterTextSplitter(chunk_size=1000,chunk_overlap=0)\n",
        "all_splits = text_splitter.split_documents(merged_data)"
      ],
      "metadata": {
        "id": "xMVPVFGgA4PL"
      },
      "execution_count": null,
      "outputs": []
    },
    {
      "cell_type": "code",
      "source": [
        "len(all_splits)"
      ],
      "metadata": {
        "colab": {
          "base_uri": "https://localhost:8080/"
        },
        "id": "6D__dFmyN__F",
        "outputId": "e840d41f-095f-4a8c-ac88-d23a451c48cd"
      },
      "execution_count": null,
      "outputs": [
        {
          "output_type": "execute_result",
          "data": {
            "text/plain": [
              "45"
            ]
          },
          "metadata": {},
          "execution_count": 51
        }
      ]
    },
    {
      "cell_type": "markdown",
      "source": [
        "# **VectorStore Data**"
      ],
      "metadata": {
        "id": "dOHUivzIhLDS"
      }
    },
    {
      "cell_type": "code",
      "source": [
        "vectorestore = Chroma.from_documents(all_splits, OpenAIEmbeddings(openai_api_key=\"sk--------------------------------------\"))"
      ],
      "metadata": {
        "id": "jxAB6x95OA2K"
      },
      "execution_count": null,
      "outputs": []
    },
    {
      "cell_type": "markdown",
      "source": [],
      "metadata": {
        "id": "FRG1MYnGmLDd"
      }
    },
    {
      "cell_type": "code",
      "source": [
        "document_chain = create_stuff_documents_chain(model, prompt)"
      ],
      "metadata": {
        "id": "595rjaw1h_dr"
      },
      "execution_count": null,
      "outputs": []
    },
    {
      "cell_type": "code",
      "source": [
        "# document_chain"
      ],
      "metadata": {
        "id": "yIkm2mczjij7"
      },
      "execution_count": null,
      "outputs": []
    },
    {
      "cell_type": "code",
      "source": [
        "chat_history = ChatMessageHistory()"
      ],
      "metadata": {
        "id": "uLhacmNRsMxS"
      },
      "execution_count": null,
      "outputs": []
    },
    {
      "cell_type": "markdown",
      "source": [
        "# **Chatbot**"
      ],
      "metadata": {
        "id": "E69PcdORmOwp"
      }
    },
    {
      "cell_type": "code",
      "source": [
        "n = 0\n",
        "while True:\n",
        "  n = n + 1\n",
        "  input_value = input(\"Ask Question: \")\n",
        "\n",
        "  if input_value == \"q\":\n",
        "    break\n",
        "  else:\n",
        "    vector = vectorestore.similarity_search(input_value)\n",
        "\n",
        "    chat_history.add_user_message(input_value)\n",
        "\n",
        "    response = document_chain.invoke(\n",
        "        {\n",
        "            \"message\": chat_history.messages,\n",
        "            \"context\": vector,\n",
        "        }\n",
        "    )\n",
        "\n",
        "    chat_history.add_ai_message(response)\n",
        "    print(response)"
      ],
      "metadata": {
        "colab": {
          "base_uri": "https://localhost:8080/"
        },
        "id": "fRIVjjIukPlj",
        "outputId": "4763ed60-9546-4f94-a6e4-352a0a7c5b14"
      },
      "execution_count": null,
      "outputs": [
        {
          "name": "stdout",
          "output_type": "stream",
          "text": [
            "Ask Question: What is project Management?\n",
            "Project management is the application of knowledge, skills, tools, and techniques to project activities to meet the project requirements. It involves initiating, planning, executing, controlling, and closing the work of a team to achieve specific goals and meet specific success criteria. Project management is essential for ensuring that projects are completed on time, within budget, and with the desired quality. It is a critical discipline in various industries and sectors, including but not limited to, construction, IT, healthcare, finance, and marketing.\n",
            "Ask Question: What is Domiiliation 1a?\n",
            "Domiciliation 1a is a service offered by Calliopée Business Center for a fee of CHF 80.00 per month (including VAT). It includes a postal address with care of Calliopée, mail reception, email notification, and mail placement in the customer's personal mailbox. Customers can collect mail during opening hours.\n",
            "Ask Question: What is Domiciliation 1as?\n",
            "Domiciliation 1as is a service offered by Calliopée Business Center for a fee of CHF 105.00 per month (including VAT). It includes a postal address with care of Calliopée, mail reception, email notification, and mail placement in the customer's personal mailbox. Additionally, it provides support for administrative tasks related to the legal form of the company, such as creating an LLC in Switzerland, as well as advice on local regulations and labor laws.\n",
            "Ask Question: q\n"
          ]
        }
      ]
    },
    {
      "cell_type": "code",
      "source": [
        "chat_history.messages"
      ],
      "metadata": {
        "colab": {
          "base_uri": "https://localhost:8080/"
        },
        "id": "FmC0toC_tuiJ",
        "outputId": "21fccb4c-9d03-4852-99d5-a11c580e0c0e"
      },
      "execution_count": null,
      "outputs": [
        {
          "output_type": "execute_result",
          "data": {
            "text/plain": [
              "[HumanMessage(content='What is Domiciliation 1b?'),\n",
              " AIMessage(content=\"Domiciliation 1b is a service offered by Calliopée Business Center for a fee of CHF 105.00 per month (including VAT). It includes a postal address without care of Calliopée, mail reception, email notification, and mail placement in the customer's personal mailbox. Customers can collect mail during opening hours.\"),\n",
              " HumanMessage(content='What is Project Management?'),\n",
              " AIMessage(content='Project management is the practice of initiating, planning, executing, controlling, and closing the work of a team to achieve specific goals and meet specific success criteria. It involves the application of knowledge, skills, tools, and techniques to project activities to meet the project requirements. Project management is essential for ensuring that projects are completed on time, within budget, and with the desired quality. It is a critical discipline in various industries and sectors, including but not limited to, construction, IT, healthcare, finance, and marketing.'),\n",
              " HumanMessage(content='What is project Management?'),\n",
              " AIMessage(content='Project management is the application of knowledge, skills, tools, and techniques to project activities to meet the project requirements. It involves initiating, planning, executing, controlling, and closing the work of a team to achieve specific goals and meet specific success criteria. Project management is essential for ensuring that projects are completed on time, within budget, and with the desired quality. It is a critical discipline in various industries and sectors, including but not limited to, construction, IT, healthcare, finance, and marketing.'),\n",
              " HumanMessage(content='What is Domiiliation 1a?'),\n",
              " AIMessage(content=\"Domiciliation 1a is a service offered by Calliopée Business Center for a fee of CHF 80.00 per month (including VAT). It includes a postal address with care of Calliopée, mail reception, email notification, and mail placement in the customer's personal mailbox. Customers can collect mail during opening hours.\"),\n",
              " HumanMessage(content='What is Domiciliation 1as?'),\n",
              " AIMessage(content=\"Domiciliation 1as is a service offered by Calliopée Business Center for a fee of CHF 105.00 per month (including VAT). It includes a postal address with care of Calliopée, mail reception, email notification, and mail placement in the customer's personal mailbox. Additionally, it provides support for administrative tasks related to the legal form of the company, such as creating an LLC in Switzerland, as well as advice on local regulations and labor laws.\")]"
            ]
          },
          "metadata": {},
          "execution_count": 124
        }
      ]
    },
    {
      "cell_type": "code",
      "source": [
        "for i in range(len(chat_history.messages)):\n",
        "  print(chat_history.messages[i].content)"
      ],
      "metadata": {
        "colab": {
          "base_uri": "https://localhost:8080/"
        },
        "id": "wWU72TMZDWAT",
        "outputId": "b170d190-ec24-43b4-e554-97274a09e817"
      },
      "execution_count": null,
      "outputs": [
        {
          "output_type": "stream",
          "name": "stdout",
          "text": [
            "What is Domiciliation 1b?\n",
            "Domiciliation 1b is a service offered by Calliopée Business Center for a fee of CHF 105.00 per month (including VAT). It includes a postal address without care of Calliopée, mail reception, email notification, and mail placement in the customer's personal mailbox. Customers can collect mail during opening hours.\n",
            "What is Project Management?\n",
            "Project management is the practice of initiating, planning, executing, controlling, and closing the work of a team to achieve specific goals and meet specific success criteria. It involves the application of knowledge, skills, tools, and techniques to project activities to meet the project requirements. Project management is essential for ensuring that projects are completed on time, within budget, and with the desired quality. It is a critical discipline in various industries and sectors, including but not limited to, construction, IT, healthcare, finance, and marketing.\n",
            "What is project Management?\n",
            "Project management is the application of knowledge, skills, tools, and techniques to project activities to meet the project requirements. It involves initiating, planning, executing, controlling, and closing the work of a team to achieve specific goals and meet specific success criteria. Project management is essential for ensuring that projects are completed on time, within budget, and with the desired quality. It is a critical discipline in various industries and sectors, including but not limited to, construction, IT, healthcare, finance, and marketing.\n",
            "What is Domiiliation 1a?\n",
            "Domiciliation 1a is a service offered by Calliopée Business Center for a fee of CHF 80.00 per month (including VAT). It includes a postal address with care of Calliopée, mail reception, email notification, and mail placement in the customer's personal mailbox. Customers can collect mail during opening hours.\n",
            "What is Domiciliation 1as?\n",
            "Domiciliation 1as is a service offered by Calliopée Business Center for a fee of CHF 105.00 per month (including VAT). It includes a postal address with care of Calliopée, mail reception, email notification, and mail placement in the customer's personal mailbox. Additionally, it provides support for administrative tasks related to the legal form of the company, such as creating an LLC in Switzerland, as well as advice on local regulations and labor laws.\n"
          ]
        }
      ]
    },
    {
      "cell_type": "code",
      "source": [
        "template = f\"\"\"\n",
        "Your role is to generate invoices based on the chat history provided. Below are the details of three Domiciliation services along with their Service Type, Service Description, and total Fee.\n",
        "\n",
        "Please refer to the chat history to identify discussions about Domiciliations and related services and fees between the user and AI.\n",
        "\n",
        "You need to extract information from the chat history, distinguishing between human messages and AI messages.\n",
        "\n",
        "You will generate a JSON file with the following keys for each service:\n",
        "- Service Type\n",
        "- Service Description\n",
        "- Total Fee (Only numbers)\n",
        "\n",
        "Chat History:\n",
        "{chat_history}\n",
        "\"\"\"\n"
      ],
      "metadata": {
        "id": "OpBK9SLRR6XJ"
      },
      "execution_count": null,
      "outputs": []
    },
    {
      "cell_type": "code",
      "source": [
        "from openai import OpenAI\n",
        "client = OpenAI(api_key='sk---------------------------------')\n",
        "messages=[\n",
        "    {\"role\": \"system\", \"content\": \"Your role is to generate data in json format.\"},\n",
        "    {\"role\": \"user\", \"content\": template},\n",
        "  ]\n",
        "\n",
        "response = client.chat.completions.create(\n",
        "  model=\"gpt-3.5-turbo\",\n",
        "  messages = messages,\n",
        "  temperature=0,\n",
        "  response_format={ \"type\": \"json_object\" }\n",
        ")\n",
        "\n",
        "print(response)"
      ],
      "metadata": {
        "colab": {
          "base_uri": "https://localhost:8080/"
        },
        "id": "c3_91sPnK7NJ",
        "outputId": "4c7e2497-19e7-4f74-9d7c-af1a355c6942"
      },
      "execution_count": null,
      "outputs": [
        {
          "output_type": "stream",
          "name": "stdout",
          "text": [
            "ChatCompletion(id='chatcmpl-8wQDCZp8cQB8EXfXK9qwvECffYjxn', choices=[Choice(finish_reason='stop', index=0, logprobs=None, message=ChatCompletionMessage(content='{\\n    \"invoices\": [\\n        {\\n            \"Service Type\": \"Domiciliation 1b\",\\n            \"Service Description\": \"Postal address without care of Calliopée, mail reception, email notification, mail placement in customer\\'s personal mailbox, mail collection during opening hours\",\\n            \"Total Fee\": 105.00\\n        },\\n        {\\n            \"Service Type\": \"Domiciliation 1a\",\\n            \"Service Description\": \"Postal address with care of Calliopée, mail reception, email notification, mail placement in customer\\'s personal mailbox, mail collection during opening hours\",\\n            \"Total Fee\": 80.00\\n        },\\n        {\\n            \"Service Type\": \"Domiciliation 1as\",\\n            \"Service Description\": \"Postal address with care of Calliopée, mail reception, email notification, mail placement in customer\\'s personal mailbox, support for administrative tasks related to legal form of the company, advice on local regulations and labor laws\",\\n            \"Total Fee\": 105.00\\n        }\\n    ]\\n}', role='assistant', function_call=None, tool_calls=None))], created=1708934474, model='gpt-3.5-turbo-0125', object='chat.completion', system_fingerprint='fp_86156a94a0', usage=CompletionUsage(completion_tokens=212, prompt_tokens=631, total_tokens=843))\n"
          ]
        }
      ]
    },
    {
      "cell_type": "code",
      "source": [
        "invoice = response.choices[0].message.content"
      ],
      "metadata": {
        "id": "B-tUfGuEGTDi"
      },
      "execution_count": null,
      "outputs": []
    },
    {
      "cell_type": "code",
      "source": [
        "invoice"
      ],
      "metadata": {
        "colab": {
          "base_uri": "https://localhost:8080/",
          "height": 191
        },
        "id": "EkMREjzXbtPU",
        "outputId": "6581957e-5bcf-4ef2-a3a9-92848408e856"
      },
      "execution_count": null,
      "outputs": [
        {
          "output_type": "execute_result",
          "data": {
            "text/plain": [
              "'{\\n    \"invoices\": [\\n        {\\n            \"Service Type\": \"Domiciliation 1b\",\\n            \"Service Description\": \"Postal address without care of Calliopée, mail reception, email notification, mail placement in customer\\'s personal mailbox, mail collection during opening hours\",\\n            \"Total Fee\": 105.00\\n        },\\n        {\\n            \"Service Type\": \"Domiciliation 1a\",\\n            \"Service Description\": \"Postal address with care of Calliopée, mail reception, email notification, mail placement in customer\\'s personal mailbox, mail collection during opening hours\",\\n            \"Total Fee\": 80.00\\n        },\\n        {\\n            \"Service Type\": \"Domiciliation 1as\",\\n            \"Service Description\": \"Postal address with care of Calliopée, mail reception, email notification, mail placement in customer\\'s personal mailbox, support for administrative tasks related to legal form of the company, advice on local regulations and labor laws\",\\n            \"Total Fee\": 105.00\\n        }\\n    ]\\n}'"
            ],
            "application/vnd.google.colaboratory.intrinsic+json": {
              "type": "string"
            }
          },
          "metadata": {},
          "execution_count": 238
        }
      ]
    },
    {
      "cell_type": "code",
      "source": [
        "type(invoice)"
      ],
      "metadata": {
        "colab": {
          "base_uri": "https://localhost:8080/"
        },
        "id": "OmmMQUMnTv1J",
        "outputId": "7c70b306-e155-4efa-df4b-745a3a9557d4"
      },
      "execution_count": null,
      "outputs": [
        {
          "output_type": "execute_result",
          "data": {
            "text/plain": [
              "str"
            ]
          },
          "metadata": {},
          "execution_count": 237
        }
      ]
    },
    {
      "cell_type": "code",
      "source": [
        "import json\n",
        "invoices_dict = json.loads(invoice)\n"
      ],
      "metadata": {
        "id": "bmkdISfcSyWX"
      },
      "execution_count": null,
      "outputs": []
    },
    {
      "cell_type": "code",
      "source": [
        "type(invoices_dict)"
      ],
      "metadata": {
        "colab": {
          "base_uri": "https://localhost:8080/"
        },
        "id": "eY18qooaT4qb",
        "outputId": "a574b6dc-f4d7-4999-bc73-9d97058be6ee"
      },
      "execution_count": null,
      "outputs": [
        {
          "output_type": "execute_result",
          "data": {
            "text/plain": [
              "dict"
            ]
          },
          "metadata": {},
          "execution_count": 240
        }
      ]
    },
    {
      "cell_type": "code",
      "source": [
        "invoices_dict"
      ],
      "metadata": {
        "colab": {
          "base_uri": "https://localhost:8080/"
        },
        "id": "VXm8TzE-Yu0K",
        "outputId": "bc943406-8a16-4f0d-9d63-dbfd8688b7d5"
      },
      "execution_count": null,
      "outputs": [
        {
          "output_type": "execute_result",
          "data": {
            "text/plain": [
              "{'invoices': [{'Service Type': 'Domiciliation 1b',\n",
              "   'Service Description': \"Postal address without care of Calliopée, mail reception, email notification, mail placement in customer's personal mailbox, mail collection during opening hours\",\n",
              "   'Total Fee': 105.0},\n",
              "  {'Service Type': 'Domiciliation 1a',\n",
              "   'Service Description': \"Postal address with care of Calliopée, mail reception, email notification, mail placement in customer's personal mailbox, mail collection during opening hours\",\n",
              "   'Total Fee': 80.0},\n",
              "  {'Service Type': 'Domiciliation 1as',\n",
              "   'Service Description': \"Postal address with care of Calliopée, mail reception, email notification, mail placement in customer's personal mailbox, support for administrative tasks related to legal form of the company, advice on local regulations and labor laws\",\n",
              "   'Total Fee': 105.0}]}"
            ]
          },
          "metadata": {},
          "execution_count": 246
        }
      ]
    },
    {
      "cell_type": "code",
      "source": [
        "import pandas as pd"
      ],
      "metadata": {
        "id": "7Tre4R4cUSlj"
      },
      "execution_count": null,
      "outputs": []
    },
    {
      "cell_type": "code",
      "source": [
        "data = pd.DataFrame(invoices_dict[\"invoices\"])\n",
        "data"
      ],
      "metadata": {
        "colab": {
          "base_uri": "https://localhost:8080/",
          "height": 143
        },
        "id": "34QSvX1iTt1c",
        "outputId": "7edebc4c-f117-440a-eb2c-3b7420105094"
      },
      "execution_count": null,
      "outputs": [
        {
          "output_type": "execute_result",
          "data": {
            "text/plain": [
              "        Service Type                                Service Description  \\\n",
              "0   Domiciliation 1b  Postal address without care of Calliopée, mail...   \n",
              "1   Domiciliation 1a  Postal address with care of Calliopée, mail re...   \n",
              "2  Domiciliation 1as  Postal address with care of Calliopée, mail re...   \n",
              "\n",
              "   Total Fee  \n",
              "0      105.0  \n",
              "1       80.0  \n",
              "2      105.0  "
            ],
            "text/html": [
              "\n",
              "  <div id=\"df-062b3702-67e2-43fa-9bb0-afb75f1db17a\" class=\"colab-df-container\">\n",
              "    <div>\n",
              "<style scoped>\n",
              "    .dataframe tbody tr th:only-of-type {\n",
              "        vertical-align: middle;\n",
              "    }\n",
              "\n",
              "    .dataframe tbody tr th {\n",
              "        vertical-align: top;\n",
              "    }\n",
              "\n",
              "    .dataframe thead th {\n",
              "        text-align: right;\n",
              "    }\n",
              "</style>\n",
              "<table border=\"1\" class=\"dataframe\">\n",
              "  <thead>\n",
              "    <tr style=\"text-align: right;\">\n",
              "      <th></th>\n",
              "      <th>Service Type</th>\n",
              "      <th>Service Description</th>\n",
              "      <th>Total Fee</th>\n",
              "    </tr>\n",
              "  </thead>\n",
              "  <tbody>\n",
              "    <tr>\n",
              "      <th>0</th>\n",
              "      <td>Domiciliation 1b</td>\n",
              "      <td>Postal address without care of Calliopée, mail...</td>\n",
              "      <td>105.0</td>\n",
              "    </tr>\n",
              "    <tr>\n",
              "      <th>1</th>\n",
              "      <td>Domiciliation 1a</td>\n",
              "      <td>Postal address with care of Calliopée, mail re...</td>\n",
              "      <td>80.0</td>\n",
              "    </tr>\n",
              "    <tr>\n",
              "      <th>2</th>\n",
              "      <td>Domiciliation 1as</td>\n",
              "      <td>Postal address with care of Calliopée, mail re...</td>\n",
              "      <td>105.0</td>\n",
              "    </tr>\n",
              "  </tbody>\n",
              "</table>\n",
              "</div>\n",
              "    <div class=\"colab-df-buttons\">\n",
              "\n",
              "  <div class=\"colab-df-container\">\n",
              "    <button class=\"colab-df-convert\" onclick=\"convertToInteractive('df-062b3702-67e2-43fa-9bb0-afb75f1db17a')\"\n",
              "            title=\"Convert this dataframe to an interactive table.\"\n",
              "            style=\"display:none;\">\n",
              "\n",
              "  <svg xmlns=\"http://www.w3.org/2000/svg\" height=\"24px\" viewBox=\"0 -960 960 960\">\n",
              "    <path d=\"M120-120v-720h720v720H120Zm60-500h600v-160H180v160Zm220 220h160v-160H400v160Zm0 220h160v-160H400v160ZM180-400h160v-160H180v160Zm440 0h160v-160H620v160ZM180-180h160v-160H180v160Zm440 0h160v-160H620v160Z\"/>\n",
              "  </svg>\n",
              "    </button>\n",
              "\n",
              "  <style>\n",
              "    .colab-df-container {\n",
              "      display:flex;\n",
              "      gap: 12px;\n",
              "    }\n",
              "\n",
              "    .colab-df-convert {\n",
              "      background-color: #E8F0FE;\n",
              "      border: none;\n",
              "      border-radius: 50%;\n",
              "      cursor: pointer;\n",
              "      display: none;\n",
              "      fill: #1967D2;\n",
              "      height: 32px;\n",
              "      padding: 0 0 0 0;\n",
              "      width: 32px;\n",
              "    }\n",
              "\n",
              "    .colab-df-convert:hover {\n",
              "      background-color: #E2EBFA;\n",
              "      box-shadow: 0px 1px 2px rgba(60, 64, 67, 0.3), 0px 1px 3px 1px rgba(60, 64, 67, 0.15);\n",
              "      fill: #174EA6;\n",
              "    }\n",
              "\n",
              "    .colab-df-buttons div {\n",
              "      margin-bottom: 4px;\n",
              "    }\n",
              "\n",
              "    [theme=dark] .colab-df-convert {\n",
              "      background-color: #3B4455;\n",
              "      fill: #D2E3FC;\n",
              "    }\n",
              "\n",
              "    [theme=dark] .colab-df-convert:hover {\n",
              "      background-color: #434B5C;\n",
              "      box-shadow: 0px 1px 3px 1px rgba(0, 0, 0, 0.15);\n",
              "      filter: drop-shadow(0px 1px 2px rgba(0, 0, 0, 0.3));\n",
              "      fill: #FFFFFF;\n",
              "    }\n",
              "  </style>\n",
              "\n",
              "    <script>\n",
              "      const buttonEl =\n",
              "        document.querySelector('#df-062b3702-67e2-43fa-9bb0-afb75f1db17a button.colab-df-convert');\n",
              "      buttonEl.style.display =\n",
              "        google.colab.kernel.accessAllowed ? 'block' : 'none';\n",
              "\n",
              "      async function convertToInteractive(key) {\n",
              "        const element = document.querySelector('#df-062b3702-67e2-43fa-9bb0-afb75f1db17a');\n",
              "        const dataTable =\n",
              "          await google.colab.kernel.invokeFunction('convertToInteractive',\n",
              "                                                    [key], {});\n",
              "        if (!dataTable) return;\n",
              "\n",
              "        const docLinkHtml = 'Like what you see? Visit the ' +\n",
              "          '<a target=\"_blank\" href=https://colab.research.google.com/notebooks/data_table.ipynb>data table notebook</a>'\n",
              "          + ' to learn more about interactive tables.';\n",
              "        element.innerHTML = '';\n",
              "        dataTable['output_type'] = 'display_data';\n",
              "        await google.colab.output.renderOutput(dataTable, element);\n",
              "        const docLink = document.createElement('div');\n",
              "        docLink.innerHTML = docLinkHtml;\n",
              "        element.appendChild(docLink);\n",
              "      }\n",
              "    </script>\n",
              "  </div>\n",
              "\n",
              "\n",
              "<div id=\"df-500028ec-969d-4b16-aa94-8340660d8890\">\n",
              "  <button class=\"colab-df-quickchart\" onclick=\"quickchart('df-500028ec-969d-4b16-aa94-8340660d8890')\"\n",
              "            title=\"Suggest charts\"\n",
              "            style=\"display:none;\">\n",
              "\n",
              "<svg xmlns=\"http://www.w3.org/2000/svg\" height=\"24px\"viewBox=\"0 0 24 24\"\n",
              "     width=\"24px\">\n",
              "    <g>\n",
              "        <path d=\"M19 3H5c-1.1 0-2 .9-2 2v14c0 1.1.9 2 2 2h14c1.1 0 2-.9 2-2V5c0-1.1-.9-2-2-2zM9 17H7v-7h2v7zm4 0h-2V7h2v10zm4 0h-2v-4h2v4z\"/>\n",
              "    </g>\n",
              "</svg>\n",
              "  </button>\n",
              "\n",
              "<style>\n",
              "  .colab-df-quickchart {\n",
              "      --bg-color: #E8F0FE;\n",
              "      --fill-color: #1967D2;\n",
              "      --hover-bg-color: #E2EBFA;\n",
              "      --hover-fill-color: #174EA6;\n",
              "      --disabled-fill-color: #AAA;\n",
              "      --disabled-bg-color: #DDD;\n",
              "  }\n",
              "\n",
              "  [theme=dark] .colab-df-quickchart {\n",
              "      --bg-color: #3B4455;\n",
              "      --fill-color: #D2E3FC;\n",
              "      --hover-bg-color: #434B5C;\n",
              "      --hover-fill-color: #FFFFFF;\n",
              "      --disabled-bg-color: #3B4455;\n",
              "      --disabled-fill-color: #666;\n",
              "  }\n",
              "\n",
              "  .colab-df-quickchart {\n",
              "    background-color: var(--bg-color);\n",
              "    border: none;\n",
              "    border-radius: 50%;\n",
              "    cursor: pointer;\n",
              "    display: none;\n",
              "    fill: var(--fill-color);\n",
              "    height: 32px;\n",
              "    padding: 0;\n",
              "    width: 32px;\n",
              "  }\n",
              "\n",
              "  .colab-df-quickchart:hover {\n",
              "    background-color: var(--hover-bg-color);\n",
              "    box-shadow: 0 1px 2px rgba(60, 64, 67, 0.3), 0 1px 3px 1px rgba(60, 64, 67, 0.15);\n",
              "    fill: var(--button-hover-fill-color);\n",
              "  }\n",
              "\n",
              "  .colab-df-quickchart-complete:disabled,\n",
              "  .colab-df-quickchart-complete:disabled:hover {\n",
              "    background-color: var(--disabled-bg-color);\n",
              "    fill: var(--disabled-fill-color);\n",
              "    box-shadow: none;\n",
              "  }\n",
              "\n",
              "  .colab-df-spinner {\n",
              "    border: 2px solid var(--fill-color);\n",
              "    border-color: transparent;\n",
              "    border-bottom-color: var(--fill-color);\n",
              "    animation:\n",
              "      spin 1s steps(1) infinite;\n",
              "  }\n",
              "\n",
              "  @keyframes spin {\n",
              "    0% {\n",
              "      border-color: transparent;\n",
              "      border-bottom-color: var(--fill-color);\n",
              "      border-left-color: var(--fill-color);\n",
              "    }\n",
              "    20% {\n",
              "      border-color: transparent;\n",
              "      border-left-color: var(--fill-color);\n",
              "      border-top-color: var(--fill-color);\n",
              "    }\n",
              "    30% {\n",
              "      border-color: transparent;\n",
              "      border-left-color: var(--fill-color);\n",
              "      border-top-color: var(--fill-color);\n",
              "      border-right-color: var(--fill-color);\n",
              "    }\n",
              "    40% {\n",
              "      border-color: transparent;\n",
              "      border-right-color: var(--fill-color);\n",
              "      border-top-color: var(--fill-color);\n",
              "    }\n",
              "    60% {\n",
              "      border-color: transparent;\n",
              "      border-right-color: var(--fill-color);\n",
              "    }\n",
              "    80% {\n",
              "      border-color: transparent;\n",
              "      border-right-color: var(--fill-color);\n",
              "      border-bottom-color: var(--fill-color);\n",
              "    }\n",
              "    90% {\n",
              "      border-color: transparent;\n",
              "      border-bottom-color: var(--fill-color);\n",
              "    }\n",
              "  }\n",
              "</style>\n",
              "\n",
              "  <script>\n",
              "    async function quickchart(key) {\n",
              "      const quickchartButtonEl =\n",
              "        document.querySelector('#' + key + ' button');\n",
              "      quickchartButtonEl.disabled = true;  // To prevent multiple clicks.\n",
              "      quickchartButtonEl.classList.add('colab-df-spinner');\n",
              "      try {\n",
              "        const charts = await google.colab.kernel.invokeFunction(\n",
              "            'suggestCharts', [key], {});\n",
              "      } catch (error) {\n",
              "        console.error('Error during call to suggestCharts:', error);\n",
              "      }\n",
              "      quickchartButtonEl.classList.remove('colab-df-spinner');\n",
              "      quickchartButtonEl.classList.add('colab-df-quickchart-complete');\n",
              "    }\n",
              "    (() => {\n",
              "      let quickchartButtonEl =\n",
              "        document.querySelector('#df-500028ec-969d-4b16-aa94-8340660d8890 button');\n",
              "      quickchartButtonEl.style.display =\n",
              "        google.colab.kernel.accessAllowed ? 'block' : 'none';\n",
              "    })();\n",
              "  </script>\n",
              "</div>\n",
              "\n",
              "  <div id=\"id_f8999e82-37d1-4cf7-ae82-221600b50949\">\n",
              "    <style>\n",
              "      .colab-df-generate {\n",
              "        background-color: #E8F0FE;\n",
              "        border: none;\n",
              "        border-radius: 50%;\n",
              "        cursor: pointer;\n",
              "        display: none;\n",
              "        fill: #1967D2;\n",
              "        height: 32px;\n",
              "        padding: 0 0 0 0;\n",
              "        width: 32px;\n",
              "      }\n",
              "\n",
              "      .colab-df-generate:hover {\n",
              "        background-color: #E2EBFA;\n",
              "        box-shadow: 0px 1px 2px rgba(60, 64, 67, 0.3), 0px 1px 3px 1px rgba(60, 64, 67, 0.15);\n",
              "        fill: #174EA6;\n",
              "      }\n",
              "\n",
              "      [theme=dark] .colab-df-generate {\n",
              "        background-color: #3B4455;\n",
              "        fill: #D2E3FC;\n",
              "      }\n",
              "\n",
              "      [theme=dark] .colab-df-generate:hover {\n",
              "        background-color: #434B5C;\n",
              "        box-shadow: 0px 1px 3px 1px rgba(0, 0, 0, 0.15);\n",
              "        filter: drop-shadow(0px 1px 2px rgba(0, 0, 0, 0.3));\n",
              "        fill: #FFFFFF;\n",
              "      }\n",
              "    </style>\n",
              "    <button class=\"colab-df-generate\" onclick=\"generateWithVariable('data')\"\n",
              "            title=\"Generate code using this dataframe.\"\n",
              "            style=\"display:none;\">\n",
              "\n",
              "  <svg xmlns=\"http://www.w3.org/2000/svg\" height=\"24px\"viewBox=\"0 0 24 24\"\n",
              "       width=\"24px\">\n",
              "    <path d=\"M7,19H8.4L18.45,9,17,7.55,7,17.6ZM5,21V16.75L18.45,3.32a2,2,0,0,1,2.83,0l1.4,1.43a1.91,1.91,0,0,1,.58,1.4,1.91,1.91,0,0,1-.58,1.4L9.25,21ZM18.45,9,17,7.55Zm-12,3A5.31,5.31,0,0,0,4.9,8.1,5.31,5.31,0,0,0,1,6.5,5.31,5.31,0,0,0,4.9,4.9,5.31,5.31,0,0,0,6.5,1,5.31,5.31,0,0,0,8.1,4.9,5.31,5.31,0,0,0,12,6.5,5.46,5.46,0,0,0,6.5,12Z\"/>\n",
              "  </svg>\n",
              "    </button>\n",
              "    <script>\n",
              "      (() => {\n",
              "      const buttonEl =\n",
              "        document.querySelector('#id_f8999e82-37d1-4cf7-ae82-221600b50949 button.colab-df-generate');\n",
              "      buttonEl.style.display =\n",
              "        google.colab.kernel.accessAllowed ? 'block' : 'none';\n",
              "\n",
              "      buttonEl.onclick = () => {\n",
              "        google.colab.notebook.generateWithVariable('data');\n",
              "      }\n",
              "      })();\n",
              "    </script>\n",
              "  </div>\n",
              "\n",
              "    </div>\n",
              "  </div>\n"
            ],
            "application/vnd.google.colaboratory.intrinsic+json": {
              "type": "dataframe",
              "variable_name": "data",
              "summary": "{\n  \"name\": \"data\",\n  \"rows\": 3,\n  \"fields\": [\n    {\n      \"column\": \"Service Type\",\n      \"properties\": {\n        \"dtype\": \"string\",\n        \"num_unique_values\": 3,\n        \"samples\": [\n          \"Domiciliation 1b\",\n          \"Domiciliation 1a\",\n          \"Domiciliation 1as\"\n        ],\n        \"semantic_type\": \"\",\n        \"description\": \"\"\n      }\n    },\n    {\n      \"column\": \"Service Description\",\n      \"properties\": {\n        \"dtype\": \"string\",\n        \"num_unique_values\": 3,\n        \"samples\": [\n          \"Postal address without care of Calliop\\u00e9e, mail reception, email notification, mail placement in customer's personal mailbox, mail collection during opening hours\",\n          \"Postal address with care of Calliop\\u00e9e, mail reception, email notification, mail placement in customer's personal mailbox, mail collection during opening hours\",\n          \"Postal address with care of Calliop\\u00e9e, mail reception, email notification, mail placement in customer's personal mailbox, support for administrative tasks related to legal form of the company, advice on local regulations and labor laws\"\n        ],\n        \"semantic_type\": \"\",\n        \"description\": \"\"\n      }\n    },\n    {\n      \"column\": \"Total Fee\",\n      \"properties\": {\n        \"dtype\": \"number\",\n        \"std\": 14.433756729740644,\n        \"min\": 80.0,\n        \"max\": 105.0,\n        \"num_unique_values\": 2,\n        \"samples\": [\n          80.0,\n          105.0\n        ],\n        \"semantic_type\": \"\",\n        \"description\": \"\"\n      }\n    }\n  ]\n}"
            }
          },
          "metadata": {},
          "execution_count": 243
        }
      ]
    },
    {
      "cell_type": "code",
      "source": [
        "import pandas as pd\n",
        "from fpdf import FPDF\n",
        "\n",
        "# JSON data\n",
        "\n",
        "# Convert JSON data to DataFrame\n",
        "df = pd.DataFrame(invoices_dict['invoices'])\n",
        "\n",
        "# Function to convert DataFrame to PDF with adjusted margins and text wrapping\n",
        "def dataframe_to_pdf(df, filename):\n",
        "    pdf = FPDF()\n",
        "    pdf.set_auto_page_break(auto=True, margin=15)\n",
        "    pdf.add_page()\n",
        "\n",
        "    # Set font for the PDF\n",
        "    pdf.set_font(\"Arial\", size=6)\n",
        "\n",
        "    # Add a title\n",
        "    pdf.cell(100, 10, txt=\"Invoice Details\", ln=True, align='C')\n",
        "    pdf.ln(10)\n",
        "\n",
        "    # Convert DataFrame to tabulated format\n",
        "    headers = df.columns\n",
        "    col_widths = [50, 100, 40]  # Adjust the column widths as needed\n",
        "\n",
        "    # Adding headers\n",
        "    for i, header in enumerate(headers):\n",
        "        pdf.cell(col_widths[i], 10, str(header), border=1)\n",
        "    pdf.ln()\n",
        "\n",
        "    # Adding data\n",
        "    for index, row in df.iterrows():\n",
        "        for i, header in enumerate(headers):\n",
        "            if header == 'Service Description':\n",
        "                # Use multi_cell for Service Description to allow text wrapping\n",
        "                pdf.multi_cell(col_widths[i], 10, str(row[header]), border=1)\n",
        "            else:\n",
        "                pdf.cell(col_widths[i], 10, str(row[header]), border=1)\n",
        "        pdf.ln()\n",
        "\n",
        "    # Save the PDF to file\n",
        "    pdf.output(filename)\n",
        "\n",
        "# Convert DataFrame to PDF\n",
        "dataframe_to_pdf(df, \"invoices.pdf\")\n"
      ],
      "metadata": {
        "id": "Ws8oNdGlbBP5"
      },
      "execution_count": null,
      "outputs": []
    },
    {
      "cell_type": "code",
      "source": [
        "from fpdf import FPDF\n",
        "\n",
        "# Updated JSON data\n",
        "\n",
        "# Function to convert data to PDF\n",
        "def data_to_pdf(data, filename):\n",
        "    pdf = FPDF()\n",
        "    pdf.set_auto_page_break(auto=True, margin=15)\n",
        "    pdf.add_page()\n",
        "\n",
        "    # Set font for the PDF\n",
        "    pdf.set_font(\"Arial\", size=12)\n",
        "\n",
        "    # Add a title\n",
        "    pdf.cell(200, 10, txt=\"Invoice Details\", ln=True, align='C')\n",
        "    pdf.ln(10)\n",
        "\n",
        "    # Adding data\n",
        "    for item in data['invoices']:\n",
        "        # Adding Service Type\n",
        "        pdf.cell(0, 10, txt=f\"Service Type: {item['Service Type']}\", ln=True)\n",
        "        # Adding Service Description\n",
        "        pdf.multi_cell(0, 10, txt=f\"Service Description: {item['Service Description']}\")\n",
        "        # Adding Total Fee\n",
        "        pdf.cell(0, 10, txt=f\"Total Fee: {item['Total Fee']}\", ln=True)\n",
        "        pdf.ln()\n",
        "\n",
        "    # Save the PDF to file\n",
        "    pdf.output(filename)\n",
        "\n",
        "# Convert data to PDF\n",
        "data_to_pdf(invoices_dict, \"invoices.pdf\")\n"
      ],
      "metadata": {
        "id": "v9LqmukPekF-"
      },
      "execution_count": null,
      "outputs": []
    },
    {
      "cell_type": "code",
      "source": [
        "from fpdf import FPDF\n",
        "\n",
        "# Updated JSON data\n",
        "\n",
        "# Function to convert data to PDF\n",
        "def data_to_pdf(data, filename):\n",
        "    pdf = FPDF()\n",
        "    pdf.set_auto_page_break(auto=True, margin=15)\n",
        "    pdf.add_page()\n",
        "\n",
        "    # Set font for the PDF\n",
        "    pdf.set_font(\"Courier\", size=12)\n",
        "\n",
        "    # Add a title\n",
        "    pdf.cell(200, 10, txt=\"Invoice Details\", ln=True, align='C')\n",
        "    pdf.ln(10)\n",
        "\n",
        "    # Adding data\n",
        "    for item in data['invoices']:\n",
        "        # Adding Service Type\n",
        "        pdf.cell(0, 10, txt=f\"Service Type: {item['Service Type']}\", ln=True)\n",
        "        # Adding Service Description\n",
        "        pdf.multi_cell(0, 10, txt=f\"Service Description: {item['Service Description']}\")\n",
        "        # Adding Total Fee\n",
        "        pdf.cell(0, 10, txt=f\"Total Fee: {item['Total Fee']}\", ln=True)\n",
        "        pdf.ln()\n",
        "\n",
        "    # Save the PDF to file\n",
        "    pdf.output(filename)\n",
        "\n",
        "# Convert data to PDF\n",
        "data_to_pdf(invoices_dict, \"invoices.pdf\")\n"
      ],
      "metadata": {
        "id": "gzh5v8vXevjb"
      },
      "execution_count": null,
      "outputs": []
    },
    {
      "cell_type": "code",
      "source": [
        "import pandas as pd\n",
        "from fpdf import FPDF\n",
        "\n",
        "# DataFrame containing the invoice data\n",
        "df = pd.DataFrame(invoices_dict[\"invoices\"])\n",
        "\n",
        "# Function to convert DataFrame to PDF with Courier font\n",
        "def dataframe_to_pdf(df, filename):\n",
        "    pdf = FPDF()\n",
        "    pdf.set_auto_page_break(auto=True, margin=15)\n",
        "    pdf.add_page()\n",
        "\n",
        "    # Set font for the PDF\n",
        "    pdf.set_font(\"Courier\", size=12)\n",
        "\n",
        "    # Add a title\n",
        "    pdf.cell(200, 10, txt=\"Invoice Details\", ln=True, align='C')\n",
        "    pdf.ln(10)\n",
        "\n",
        "    # Adding data\n",
        "    for index, row in df.iterrows():\n",
        "        # Adding Service Type\n",
        "        pdf.cell(0, 10, txt=f\"Service Type: {row['Service Type']}\", ln=True)\n",
        "        # Adding Service Description\n",
        "        desc_lines = pdf.multi_cell(0, 10, txt=f\"Service Description: {row['Service Description']}\")\n",
        "        desc_height = sum(desc_lines)\n",
        "        # Adding Total Fee\n",
        "        pdf.cell(0, desc_height, txt=f\"Total Fee: {row['Total Fee']}\", ln=True)\n",
        "        pdf.ln()\n",
        "\n",
        "    # Save the PDF to file\n",
        "    pdf.output(filename)\n",
        "\n",
        "# Convert DataFrame to PDF\n",
        "dataframe_to_pdf(df, \"invoices.pdf\")\n"
      ],
      "metadata": {
        "id": "Lg37TF5rh0kI"
      },
      "execution_count": null,
      "outputs": []
    },
    {
      "cell_type": "code",
      "source": [
        "import pandas as pd\n",
        "from fpdf import FPDF\n",
        "\n",
        "# Convert JSON data to DataFrame\n",
        "df = pd.DataFrame(invoices_dict['invoices'])\n",
        "\n",
        "# Function to convert DataFrame to PDF with Courier font\n",
        "def dataframe_to_pdf(df, filename):\n",
        "    pdf = FPDF()\n",
        "    pdf.set_auto_page_break(auto=True, margin=15)\n",
        "    pdf.add_page()\n",
        "\n",
        "    # Set font for the PDF\n",
        "    pdf.set_font(\"Courier\", size=12)\n",
        "\n",
        "    # Add a title\n",
        "    pdf.cell(200, 10, txt=\"Invoice Details\", ln=True, align='C')\n",
        "    pdf.ln(10)\n",
        "\n",
        "    # Adding data\n",
        "    for index, row in df.iterrows():\n",
        "        # Adding Service Type\n",
        "        pdf.cell(0, 10, txt=f\"Service Type: {row['Service Type']}\", ln=True)\n",
        "        # Adding Service Description\n",
        "        pdf.multi_cell(0, 10, txt=f\"Service Description: {row['Service Description']}\")\n",
        "        # Adding Total Fee\n",
        "        pdf.cell(0, 10, txt=f\"Total Fee: {row['Total Fee']}\", ln=True)\n",
        "        pdf.ln()\n",
        "\n",
        "    # Save the PDF to file\n",
        "    pdf.output(filename)\n",
        "\n",
        "# Convert DataFrame to PDF\n",
        "dataframe_to_pdf(df, \"invoices.pdf\")\n"
      ],
      "metadata": {
        "id": "97dXBvzziiZt"
      },
      "execution_count": null,
      "outputs": []
    },
    {
      "cell_type": "code",
      "source": [],
      "metadata": {
        "id": "Fz21W1wOimwj"
      },
      "execution_count": null,
      "outputs": []
    }
  ]
}