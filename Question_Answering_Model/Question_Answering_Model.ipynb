{
  "nbformat": 4,
  "nbformat_minor": 0,
  "metadata": {
    "colab": {
      "provenance": []
    },
    "kernelspec": {
      "name": "python3",
      "display_name": "Python 3"
    },
    "language_info": {
      "name": "python"
    }
  },
  "cells": [
    {
      "cell_type": "code",
      "source": [
        "import transformers\n",
        "from transformers import pipeline"
      ],
      "metadata": {
        "id": "9VuZsFD4MafV"
      },
      "execution_count": 1,
      "outputs": []
    },
    {
      "cell_type": "code",
      "source": [
        "# source: https://pt.wikipedia.org/wiki/Pandemia_de_COVID-19\n",
        "context = r\"\"\"\n",
        "Individual Coworking Table/ Space at Calliopée Sàrl\n",
        "We offer several coworking tables with and without subscription or Domiciliations.\n",
        "1. Individual Coworking Table without Subscription or Domiciliation:\n",
        "Fee: CHF 8.60 per hour\n",
        "Service description: Thisincludes an individual table with wifi, free coffee, tea, water, and\n",
        "access to a small kitchen with a microwave oven and fridge.\n",
        "Advantages:\n",
        "i.\n",
        "People can use the space as they wish: a few minutes or several hours.\n",
        "ii.\n",
        "There is no minimum or maximum time required to use this service. It is available for\n",
        "clients without a subscription or domiciliation.\n",
        "iii.\n",
        "This rate is valid if the client has a subscription or a domiciliation.\n",
        "iv.\n",
        "Opening hours are from 07:00 am to 08:30 pm.\n",
        "2. Individual Coworking Table with Subscription or Domiciliation:\n",
        "Fee: CHF 2.15 per hour\n",
        "Service description: This includes an individual table with wifi, free coffee, tea, water, and\n",
        "access to a small kitchen with a microwave oven and fridge.\n",
        "Advantages:\n",
        "i.\n",
        "People can use the space as they wish: a few minutes or several hours.\n",
        "ii.\n",
        "There is no minimum or maximum time required to use this service. It is available for\n",
        "clients with a subscription or domiciliation\n",
        "iii.\n",
        "Opening hours are from 07:00 am to 08:30 pm.\n",
        "\"\"\"\n",
        "\n",
        "model_name = 'pierreguillou/bert-large-cased-squad-v1.1-portuguese'\n",
        "nlp = pipeline(\"question-answering\", model=model_name)\n",
        "\n",
        "question = \"What amenities are included in both the individual coworking table services?\"\n",
        "\n",
        "result = nlp(question=question, context=context)\n",
        "\n",
        "print(f\"Answer: '{result['answer']}', score: {round(result['score'], 4)}, start: {result['start']}, end: {result['end']}\")"
      ],
      "metadata": {
        "colab": {
          "base_uri": "https://localhost:8080/"
        },
        "id": "okK5cHS8MYww",
        "outputId": "752c10c5-0391-4715-d397-1bf804815022"
      },
      "execution_count": 4,
      "outputs": [
        {
          "output_type": "stream",
          "name": "stdout",
          "text": [
            "Answer: 'wifi', score: 0.1467, start: 882, end: 886\n"
          ]
        }
      ]
    },
    {
      "cell_type": "code",
      "source": [
        "question = \"Is there a minimum or maximum time requirement for using the coworking space in either service?\"\n",
        "\n",
        "result = nlp(question=question, context=context)\n",
        "\n",
        "print(f\"Answer: '{result['answer']}', score: {round(result['score'], 4)}, start: {result['start']}, end: {result['end']}\")"
      ],
      "metadata": {
        "colab": {
          "base_uri": "https://localhost:8080/"
        },
        "id": "czc0hJJSQXvP",
        "outputId": "00ea9941-d9c8-4524-c00d-3d2e9b249a41"
      },
      "execution_count": 5,
      "outputs": [
        {
          "output_type": "stream",
          "name": "stdout",
          "text": [
            "Answer: '.', score: 0.0174, start: 975, end: 976\n"
          ]
        }
      ]
    },
    {
      "cell_type": "markdown",
      "source": [
        "# **Another Model**"
      ],
      "metadata": {
        "id": "DQebzeArQulU"
      }
    },
    {
      "cell_type": "code",
      "source": [
        "context = r\"\"\"\n",
        "Individual Coworking Table/ Space at Calliopée Sàrl\n",
        "We offer several coworking tables with and without subscription or Domiciliations.\n",
        "1. Individual Coworking Table without Subscription or Domiciliation:\n",
        "Fee: CHF 8.60 per hour\n",
        "Service description: Thisincludes an individual table with wifi, free coffee, tea, water, and\n",
        "access to a small kitchen with a microwave oven and fridge.\n",
        "Advantages:\n",
        "i.\n",
        "People can use the space as they wish: a few minutes or several hours.\n",
        "ii.\n",
        "There is no minimum or maximum time required to use this service. It is available for\n",
        "clients without a subscription or domiciliation.\n",
        "iii.\n",
        "This rate is valid if the client has a subscription or a domiciliation.\n",
        "iv.\n",
        "Opening hours are from 07:00 am to 08:30 pm.\n",
        "2. Individual Coworking Table with Subscription or Domiciliation:\n",
        "Fee: CHF 2.15 per hour\n",
        "Service description: This includes an individual table with wifi, free coffee, tea, water, and\n",
        "access to a small kitchen with a microwave oven and fridge.\n",
        "Advantages:\n",
        "i.\n",
        "People can use the space as they wish: a few minutes or several hours.\n",
        "ii.\n",
        "There is no minimum or maximum time required to use this service. It is available for\n",
        "clients with a subscription or domiciliation\n",
        "iii.\n",
        "Opening hours are from 07:00 am to 08:30 pm.\n",
        "\"\"\"\n",
        "\n",
        "model_checkpoint = \"bert-large-uncased-whole-word-masking-finetuned-squad\"\n",
        "nlp = pipeline(\"question-answering\", model=model_checkpoint,  tokenizer=model_checkpoint)\n",
        "\n",
        "question = input(\"Ask Your question here: \\n\")\n",
        "\n",
        "result = nlp(question=question, context=context)\n",
        "\n",
        "print(f\"Answer: '{result['answer']}', score: {round(result['score'], 4)}, start: {result['start']}, end: {result['end']}\")"
      ],
      "metadata": {
        "colab": {
          "base_uri": "https://localhost:8080/"
        },
        "id": "EAN4wXnfPUI5",
        "outputId": "eaccb94e-05a0-4b10-8a53-2e3dcec7152e"
      },
      "execution_count": 12,
      "outputs": [
        {
          "output_type": "stream",
          "name": "stderr",
          "text": [
            "Some weights of the model checkpoint at bert-large-uncased-whole-word-masking-finetuned-squad were not used when initializing BertForQuestionAnswering: ['bert.pooler.dense.bias', 'bert.pooler.dense.weight']\n",
            "- This IS expected if you are initializing BertForQuestionAnswering from the checkpoint of a model trained on another task or with another architecture (e.g. initializing a BertForSequenceClassification model from a BertForPreTraining model).\n",
            "- This IS NOT expected if you are initializing BertForQuestionAnswering from the checkpoint of a model that you expect to be exactly identical (initializing a BertForSequenceClassification model from a BertForSequenceClassification model).\n"
          ]
        },
        {
          "output_type": "stream",
          "name": "stdout",
          "text": [
            "Ask Your question here: \n",
            "what is timing of calliopee?\n",
            "Answer: '07:00 am to 08:30 pm', score: 0.1868, start: 1226, end: 1246\n"
          ]
        }
      ]
    },
    {
      "cell_type": "code",
      "source": [
        "question = \"What are the advantages of having a subscription or domiciliation for the individual coworking table service?\"\n",
        "\n",
        "result = nlp(question=question, context=context)\n",
        "\n",
        "print(f\"Answer: '{result['answer']}', score: {round(result['score'], 4)}, start: {result['start']}, end: {result['end']}\")"
      ],
      "metadata": {
        "colab": {
          "base_uri": "https://localhost:8080/"
        },
        "id": "PD50JuwLPUGr",
        "outputId": "59e59a5e-448c-4d1b-d5f3-401ff6f66e6d"
      },
      "execution_count": 10,
      "outputs": [
        {
          "output_type": "stream",
          "name": "stdout",
          "text": [
            "Answer: 'There is no minimum or maximum time required to use this service', score: 0.0379, start: 1067, end: 1131\n"
          ]
        }
      ]
    },
    {
      "cell_type": "code",
      "source": [
        "question = \"What are the operating hours for accessing the coworking space in both services?\"\n",
        "\n",
        "result = nlp(question=question, context=context)\n",
        "\n",
        "print(f\"Answer: '{result['answer']}', score: {round(result['score'], 4)}, start: {result['start']}, end: {result['end']}\")"
      ],
      "metadata": {
        "colab": {
          "base_uri": "https://localhost:8080/"
        },
        "id": "G8bGI8b-PUEC",
        "outputId": "90d47d8d-4a35-4352-83b5-af114beacb8e"
      },
      "execution_count": 11,
      "outputs": [
        {
          "output_type": "stream",
          "name": "stdout",
          "text": [
            "Answer: '07:00 am to 08:30 pm', score: 0.2688, start: 1226, end: 1246\n"
          ]
        }
      ]
    },
    {
      "cell_type": "markdown",
      "source": [
        "# **Another Model**"
      ],
      "metadata": {
        "id": "8lyTa-xctYP5"
      }
    },
    {
      "cell_type": "code",
      "source": [
        "context = r\"\"\"\n",
        "Individual Coworking Table/ Space at Calliopée Sàrl\n",
        "We offer several coworking tables with and without subscription or Domiciliations.\n",
        "1. Individual Coworking Table without Subscription or Domiciliation:\n",
        "Fee: CHF 8.60 per hour\n",
        "Service description: Thisincludes an individual table with wifi, free coffee, tea, water, and\n",
        "access to a small kitchen with a microwave oven and fridge.\n",
        "Advantages:\n",
        "i.\n",
        "People can use the space as they wish: a few minutes or several hours.\n",
        "ii.\n",
        "There is no minimum or maximum time required to use this service. It is available for\n",
        "clients without a subscription or domiciliation.\n",
        "iii.\n",
        "This rate is valid if the client has a subscription or a domiciliation.\n",
        "iv.\n",
        "Opening hours are from 07:00 am to 08:30 pm.\n",
        "2. Individual Coworking Table with Subscription or Domiciliation:\n",
        "Fee: CHF 2.15 per hour\n",
        "Service description: This includes an individual table with wifi, free coffee, tea, water, and\n",
        "access to a small kitchen with a microwave oven and fridge.\n",
        "Advantages:\n",
        "i.\n",
        "People can use the space as they wish: a few minutes or several hours.\n",
        "ii.\n",
        "There is no minimum or maximum time required to use this service. It is available for\n",
        "clients with a subscription or domiciliation\n",
        "iii.\n",
        "Opening hours are from 07:00 am to 08:30 pm.\n",
        "\"\"\"\n"
      ],
      "metadata": {
        "id": "yklwUpklWPBF"
      },
      "execution_count": 18,
      "outputs": []
    },
    {
      "cell_type": "code",
      "source": [
        "model_checkpoint = \"bert-large-uncased-whole-word-masking-finetuned-squad\"\n",
        "nlp = pipeline(\"question-answering\", model=model_checkpoint,  tokenizer=model_checkpoint)\n",
        "\n"
      ],
      "metadata": {
        "colab": {
          "base_uri": "https://localhost:8080/"
        },
        "id": "lTcpHdZ5PUBd",
        "outputId": "e8fadd68-49be-4f71-ab93-8d9b88d93788"
      },
      "execution_count": 19,
      "outputs": [
        {
          "output_type": "stream",
          "name": "stderr",
          "text": [
            "Some weights of the model checkpoint at bert-large-uncased-whole-word-masking-finetuned-squad were not used when initializing BertForQuestionAnswering: ['bert.pooler.dense.bias', 'bert.pooler.dense.weight']\n",
            "- This IS expected if you are initializing BertForQuestionAnswering from the checkpoint of a model trained on another task or with another architecture (e.g. initializing a BertForSequenceClassification model from a BertForPreTraining model).\n",
            "- This IS NOT expected if you are initializing BertForQuestionAnswering from the checkpoint of a model that you expect to be exactly identical (initializing a BertForSequenceClassification model from a BertForSequenceClassification model).\n"
          ]
        }
      ]
    },
    {
      "cell_type": "code",
      "source": [
        "nlp"
      ],
      "metadata": {
        "colab": {
          "base_uri": "https://localhost:8080/"
        },
        "id": "C2vufTi8WYVg",
        "outputId": "4e25e0e8-1eeb-45d6-82cc-e5239267b6c7"
      },
      "execution_count": 20,
      "outputs": [
        {
          "output_type": "execute_result",
          "data": {
            "text/plain": [
              "<transformers.pipelines.question_answering.QuestionAnsweringPipeline at 0x7f6a250aead0>"
            ]
          },
          "metadata": {},
          "execution_count": 20
        }
      ]
    },
    {
      "cell_type": "code",
      "source": [
        "question = input(\"Ask Your question here: \\n\")\n",
        "\n",
        "result = nlp(question=question, context=context)\n",
        "\n",
        "print(result)"
      ],
      "metadata": {
        "colab": {
          "base_uri": "https://localhost:8080/"
        },
        "id": "t3at4rJyWUWu",
        "outputId": "a7e4f4e6-6196-4986-dbd8-1f97fa081cad"
      },
      "execution_count": 22,
      "outputs": [
        {
          "output_type": "stream",
          "name": "stdout",
          "text": [
            "Ask Your question here: \n",
            "What are the main differences between the individual coworking table services with and without a subscription or domiciliation?\n",
            "{'score': 0.011054851114749908, 'start': 382, 'end': 392, 'answer': 'Advantages'}\n"
          ]
        }
      ]
    },
    {
      "cell_type": "code",
      "source": [
        "print(result[\"answer\"])"
      ],
      "metadata": {
        "colab": {
          "base_uri": "https://localhost:8080/"
        },
        "id": "4wFnphvHWUUe",
        "outputId": "68c8bc0d-a5ef-4cc9-db8e-834c71df36d9"
      },
      "execution_count": 23,
      "outputs": [
        {
          "output_type": "stream",
          "name": "stdout",
          "text": [
            "Advantages\n"
          ]
        }
      ]
    },
    {
      "cell_type": "code",
      "source": [
        "\n"
      ],
      "metadata": {
        "id": "rl5HYLkaWURp"
      },
      "execution_count": null,
      "outputs": []
    },
    {
      "cell_type": "code",
      "source": [],
      "metadata": {
        "id": "V0IltM-7Ybjj"
      },
      "execution_count": null,
      "outputs": []
    },
    {
      "cell_type": "markdown",
      "source": [
        "**Another Model**"
      ],
      "metadata": {
        "id": "prvV_BSutfPK"
      }
    },
    {
      "cell_type": "code",
      "source": [
        "context = r\"\"\"\n",
        "Individual Coworking Table/ Space at Calliopée Sàrl\n",
        "We offer several coworking tables with and without subscription or Domiciliations.\n",
        "1. Individual Coworking Table without Subscription or Domiciliation:\n",
        "Fee: CHF 8.60 per hour\n",
        "Service description: Thisincludes an individual table with wifi, free coffee, tea, water, and\n",
        "access to a small kitchen with a microwave oven and fridge.\n",
        "Advantages:\n",
        "i.\n",
        "People can use the space as they wish: a few minutes or several hours.\n",
        "ii.\n",
        "There is no minimum or maximum time required to use this service. It is available for\n",
        "clients without a subscription or domiciliation.\n",
        "iii.\n",
        "This rate is valid if the client has a subscription or a domiciliation.\n",
        "iv.\n",
        "Opening hours are from 07:00 am to 08:30 pm.\n",
        "2. Individual Coworking Table with Subscription or Domiciliation:\n",
        "Fee: CHF 2.15 per hour\n",
        "Service description: This includes an individual table with wifi, free coffee, tea, water, and\n",
        "access to a small kitchen with a microwave oven and fridge.\n",
        "Advantages:\n",
        "i.\n",
        "People can use the space as they wish: a few minutes or several hours.\n",
        "ii.\n",
        "There is no minimum or maximum time required to use this service. It is available for\n",
        "clients with a subscription or domiciliation\n",
        "iii.\n",
        "Opening hours are from 07:00 am to 08:30 pm.\n",
        "\"\"\"\n",
        "model_name = \"shareAI/bimoGPT-llama2-13b\"\n",
        "nlp = pipeline(\"question-answering\", model=model_checkpoint,  tokenizer=model_checkpoint)\n",
        "question = \"What are the advantages of having a subscription or domiciliation for the individual coworking table service?\"\n",
        "\n",
        "result = nlp(question=question, context=context)\n",
        "\n",
        "print(f\"Answer: '{result['answer']}', score: {round(result['score'], 4)}, start: {result['start']}, end: {result['end']}\")"
      ],
      "metadata": {
        "colab": {
          "base_uri": "https://localhost:8080/"
        },
        "id": "Uz7hLBKEYbgc",
        "outputId": "f9f63bdf-aced-4fad-da45-5ce3c73ea0a5"
      },
      "execution_count": 25,
      "outputs": [
        {
          "output_type": "stream",
          "name": "stderr",
          "text": [
            "Some weights of the model checkpoint at bert-large-uncased-whole-word-masking-finetuned-squad were not used when initializing BertForQuestionAnswering: ['bert.pooler.dense.bias', 'bert.pooler.dense.weight']\n",
            "- This IS expected if you are initializing BertForQuestionAnswering from the checkpoint of a model trained on another task or with another architecture (e.g. initializing a BertForSequenceClassification model from a BertForPreTraining model).\n",
            "- This IS NOT expected if you are initializing BertForQuestionAnswering from the checkpoint of a model that you expect to be exactly identical (initializing a BertForSequenceClassification model from a BertForSequenceClassification model).\n"
          ]
        },
        {
          "output_type": "stream",
          "name": "stdout",
          "text": [
            "Answer: 'There is no minimum or maximum time required to use this service', score: 0.0379, start: 1067, end: 1131\n"
          ]
        }
      ]
    },
    {
      "cell_type": "code",
      "source": [
        "model_name = \"shareAI/bimoGPT-llama2-13b\"\n",
        "nlp = pipeline(\"question-answering\", model=model_checkpoint,  tokenizer=model_checkpoint)\n",
        "question = \"What amenities are included in both the individual coworking table services?\"\n",
        "result = nlp(question=question, context=context)\n",
        "\n",
        "print(f\"Answer: '{result['answer']}', score: {round(result['score'], 4)}, start: {result['start']}, end: {result['end']}\")"
      ],
      "metadata": {
        "colab": {
          "base_uri": "https://localhost:8080/"
        },
        "id": "XTgsHqWvYbdn",
        "outputId": "b5234731-a93c-4e6f-af15-e346d17aef08"
      },
      "execution_count": 26,
      "outputs": [
        {
          "output_type": "stream",
          "name": "stderr",
          "text": [
            "Some weights of the model checkpoint at bert-large-uncased-whole-word-masking-finetuned-squad were not used when initializing BertForQuestionAnswering: ['bert.pooler.dense.bias', 'bert.pooler.dense.weight']\n",
            "- This IS expected if you are initializing BertForQuestionAnswering from the checkpoint of a model trained on another task or with another architecture (e.g. initializing a BertForSequenceClassification model from a BertForPreTraining model).\n",
            "- This IS NOT expected if you are initializing BertForQuestionAnswering from the checkpoint of a model that you expect to be exactly identical (initializing a BertForSequenceClassification model from a BertForSequenceClassification model).\n"
          ]
        },
        {
          "output_type": "stream",
          "name": "stdout",
          "text": [
            "Answer: 'wifi, free coffee, tea, water', score: 0.0097, start: 882, end: 911\n"
          ]
        }
      ]
    },
    {
      "cell_type": "code",
      "source": [],
      "metadata": {
        "id": "FDeU643qWUPj"
      },
      "execution_count": null,
      "outputs": []
    },
    {
      "cell_type": "code",
      "source": [],
      "metadata": {
        "id": "_cpubtWvWUMv"
      },
      "execution_count": null,
      "outputs": []
    },
    {
      "cell_type": "markdown",
      "source": [
        "**Another Model**"
      ],
      "metadata": {
        "id": "yhCEQcZTtoOm"
      }
    },
    {
      "cell_type": "code",
      "source": [
        "context = r\"\"\"\n",
        "Individual Coworking Table/ Space at Calliopée Sàrl\n",
        "We offer several coworking tables with and without subscription or Domiciliations.\n",
        "1. Individual Coworking Table without Subscription or Domiciliation:\n",
        "Fee: CHF 8.60 per hour\n",
        "Service description: Thisincludes an individual table with wifi, free coffee, tea, water, and\n",
        "access to a small kitchen with a microwave oven and fridge.\n",
        "Advantages:\n",
        "i.\n",
        "People can use the space as they wish: a few minutes or several hours.\n",
        "ii.\n",
        "There is no minimum or maximum time required to use this service. It is available for\n",
        "clients without a subscription or domiciliation.\n",
        "iii.\n",
        "This rate is valid if the client has a subscription or a domiciliation.\n",
        "iv.\n",
        "Opening hours are from 07:00 am to 08:30 pm.\n",
        "2. Individual Coworking Table with Subscription or Domiciliation:\n",
        "Fee: CHF 2.15 per hour\n",
        "Service description: This includes an individual table with wifi, free coffee, tea, water, and\n",
        "access to a small kitchen with a microwave oven and fridge.\n",
        "Advantages:\n",
        "i.\n",
        "People can use the space as they wish: a few minutes or several hours.\n",
        "ii.\n",
        "There is no minimum or maximum time required to use this service. It is available for\n",
        "clients with a subscription or domiciliation\n",
        "iii.\n",
        "Opening hours are from 07:00 am to 08:30 pm.\n",
        "\"\"\"\n",
        "\n",
        "model_checkpoint = \"bert-large-uncased-whole-word-masking-finetuned-squad\"\n",
        "nlp = pipeline(\"question-answering\", model=model_checkpoint,  tokenizer=model_checkpoint)\n"
      ],
      "metadata": {
        "colab": {
          "base_uri": "https://localhost:8080/"
        },
        "id": "PFZeOpHOPT_I",
        "outputId": "6ca37dd8-abfa-4add-d281-a3378b1ba767"
      },
      "execution_count": 13,
      "outputs": [
        {
          "output_type": "stream",
          "name": "stderr",
          "text": [
            "Some weights of the model checkpoint at bert-large-uncased-whole-word-masking-finetuned-squad were not used when initializing BertForQuestionAnswering: ['bert.pooler.dense.bias', 'bert.pooler.dense.weight']\n",
            "- This IS expected if you are initializing BertForQuestionAnswering from the checkpoint of a model trained on another task or with another architecture (e.g. initializing a BertForSequenceClassification model from a BertForPreTraining model).\n",
            "- This IS NOT expected if you are initializing BertForQuestionAnswering from the checkpoint of a model that you expect to be exactly identical (initializing a BertForSequenceClassification model from a BertForSequenceClassification model).\n"
          ]
        }
      ]
    },
    {
      "cell_type": "code",
      "source": [
        "while True:\n",
        "\n",
        "  question = input(\"Ask Your question here: \\n\")\n",
        "\n",
        "  if question == \"quit\" or question == \"q\":\n",
        "    break\n",
        "  else :\n",
        "    result = nlp(question=question, context=context)\n",
        "\n",
        "    print(f\"Answer: '{result['answer']}', score: {round(result['score'], 4)}, start: {result['start']}, end: {result['end']}\")"
      ],
      "metadata": {
        "colab": {
          "base_uri": "https://localhost:8080/"
        },
        "id": "0r1-aOFXT79q",
        "outputId": "b1e29236-0229-4d5d-ac28-b1c465ed4290"
      },
      "execution_count": 17,
      "outputs": [
        {
          "name": "stdout",
          "output_type": "stream",
          "text": [
            "Ask Your question here: \n",
            "what is calliopee?\n",
            "Answer: 'Individual Coworking Table/ Space', score: 0.0926, start: 1, end: 34\n",
            "Ask Your question here: \n",
            "rate of individual spaces?\n",
            "Answer: 'CHF 2.15 per hour', score: 0.0026, start: 804, end: 821\n",
            "Ask Your question here: \n",
            "q\n"
          ]
        }
      ]
    },
    {
      "cell_type": "code",
      "source": [],
      "metadata": {
        "id": "yT220d5IT77P"
      },
      "execution_count": null,
      "outputs": []
    },
    {
      "cell_type": "code",
      "source": [],
      "metadata": {
        "id": "fsDGTNFiT74Y"
      },
      "execution_count": null,
      "outputs": []
    },
    {
      "cell_type": "code",
      "source": [],
      "metadata": {
        "id": "ev622-djT7xh"
      },
      "execution_count": null,
      "outputs": []
    },
    {
      "cell_type": "code",
      "source": [],
      "metadata": {
        "id": "jys5VOWBT7u8"
      },
      "execution_count": null,
      "outputs": []
    },
    {
      "cell_type": "code",
      "source": [],
      "metadata": {
        "id": "Nxeme22OT7sF"
      },
      "execution_count": null,
      "outputs": []
    },
    {
      "cell_type": "code",
      "source": [],
      "metadata": {
        "id": "cSCQ_QWeT7pq"
      },
      "execution_count": null,
      "outputs": []
    },
    {
      "cell_type": "code",
      "source": [],
      "metadata": {
        "id": "ua7bwNmhT7nW"
      },
      "execution_count": null,
      "outputs": []
    },
    {
      "cell_type": "code",
      "source": [],
      "metadata": {
        "id": "kZqPpsN8T7km"
      },
      "execution_count": null,
      "outputs": []
    },
    {
      "cell_type": "code",
      "source": [],
      "metadata": {
        "id": "uKJlEf5DT7iI"
      },
      "execution_count": null,
      "outputs": []
    },
    {
      "cell_type": "code",
      "execution_count": null,
      "metadata": {
        "id": "whDKj4NcLkp9"
      },
      "outputs": [],
      "source": [
        "from transformers import AutoTokenizer, AutoModelForQuestionAnswering\n",
        "import torch\n",
        "\n",
        "tokenizer = AutoTokenizer.from_pretrained(\"lserinol/bert-turkish-question-answering\")\n",
        "model = AutoModelForQuestionAnswering.from_pretrained(\"lserinol/bert-turkish-question-answering\")\n",
        "text = r\"\"\"\n",
        "Individual Coworking Table/ Space at Calliopée Sàrl\n",
        "We offer several coworking tables with and without subscription or Domiciliations.\n",
        "1. Individual Coworking Table without Subscription or Domiciliation:\n",
        "Fee: CHF 8.60 per hour\n",
        "Service description: Thisincludes an individual table with wifi, free coffee, tea, water, and\n",
        "access to a small kitchen with a microwave oven and fridge.\n",
        "Advantages:\n",
        "i.\n",
        "People can use the space as they wish: a few minutes or several hours.\n",
        "ii.\n",
        "There is no minimum or maximum time required to use this service. It is available for\n",
        "clients without a subscription or domiciliation.\n",
        "iii.\n",
        "This rate is valid if the client has a subscription or a domiciliation.\n",
        "iv.\n",
        "Opening hours are from 07:00 am to 08:30 pm.\n",
        "2. Individual Coworking Table with Subscription or Domiciliation:\n",
        "Fee: CHF 2.15 per hour\n",
        "Service description: This includes an individual table with wifi, free coffee, tea, water, and\n",
        "access to a small kitchen with a microwave oven and fridge.\n",
        "Advantages:\n",
        "i.\n",
        "People can use the space as they wish: a few minutes or several hours.\n",
        "ii.\n",
        "There is no minimum or maximum time required to use this service. It is available for\n",
        "clients with a subscription or domiciliation\n",
        "iii.\n",
        "Opening hours are from 07:00 am to 08:30 pm.\n",
        "\"\"\"\n",
        "\n",
        "questions = [\n",
        "    \"Ankara kaç yılında başkent oldu?\",\n",
        "    \"Ankara ne zaman başkent oldu?\",\n",
        "    \"Ankara'dan başka şehirlere nasıl ulaşılır?\",\n",
        "    \"TBMM neyin kısaltmasıdır?\"\n",
        "]\n",
        "\n",
        "for question in questions:\n",
        "    inputs = tokenizer(question, text, add_special_tokens=True, return_tensors=\"pt\")\n",
        "    input_ids = inputs[\"input_ids\"].tolist()[0]\n",
        "\n",
        "    text_tokens = tokenizer.convert_ids_to_tokens(input_ids)\n",
        "    answer_start_scores, answer_end_scores = model(**inputs)\n",
        "\n",
        "    answer_start = torch.argmax(\n",
        "        answer_start_scores\n",
        "    )  # Get the most likely beginning of answer with the argmax of the score\n",
        "    answer_end = torch.argmax(answer_end_scores) + 1  # Get the most likely end of answer with the argmax of the score\n",
        "\n",
        "    answer = tokenizer.convert_tokens_to_string(tokenizer.convert_ids_to_tokens(input_ids[answer_start:answer_end]))\n",
        "\n",
        "    print(f\"Question: {question}\")\n",
        "    print(f\"Answer: {answer}\\n\")"
      ]
    }
  ]
}